{
 "cells": [
  {
   "cell_type": "markdown",
   "metadata": {},
   "source": [
    "## 변분법(functional calculus, calculus of variations)\n",
    "- 입력인 함수가 변할 때 범함수의 출력이 어떻게 달라지는지를 계산하는 학문"
   ]
  },
  {
   "cell_type": "markdown",
   "metadata": {},
   "source": [
    "### 범함수(functional)\n",
    "- 함수를 입력으로 받아 실수를 출력하는 것\n",
    "\n",
    "    $ \n",
    "    \\text{function } y(x) \\rightarrow {\\; \\text{ functional } \\; F \\; \\phantom{\\frac{\\dfrac{}{}}{\\dfrac{}{}}}} \\rightarrow \\text{real number} \n",
    "    $\n",
    "\n",
    "- 보통 알파벳 대문자로 표기\n",
    "- 입력변수인 함수를 대괄호(square bracket)로 감싼다.\n",
    "\n",
    "    $ \n",
    "    F[y(x)]\n",
    "    $"
   ]
  },
  {
   "cell_type": "markdown",
   "metadata": {},
   "source": [
    "### 범함수의 테일러 전개(Taylor expansion)\n",
    "\n",
    "- 함수 $f(x)$의 도함수 $f'(x)$를 알면 함수의 근사값을 구할 수 있다.\n",
    "\n",
    "$ \n",
    "f(x + \\epsilon) \\approx f(x) + f'(x) \\epsilon \n",
    "$"
   ]
  },
  {
   "cell_type": "markdown",
   "metadata": {},
   "source": [
    "### 범함수의 도함수\n",
    "\n",
    "- $\\epsilon$의 변화에 의한 범함수 값의 변화\n",
    "\n",
    "    $\n",
    "    \\dfrac{F[y(x) + \\epsilon \\eta(x)]-F[y(x)]}{\\epsilon} = \\int \\dfrac{\\delta F}{\\delta y(x)} \\eta(x) dx\n",
    "    $\n",
    "\n",
    "- 어떤 $\\eta(x)$ 함수에 대해서도 이 값이 0이 되기위해\n",
    "\n",
    "    $ \n",
    "    \\dfrac{\\delta F}{\\delta y(x)} = 0 \n",
    "    $\n",
    "\n",
    "- \n",
    "    $ \n",
    "    \\dfrac{\\delta F}{\\delta y(x)}\n",
    "    \\rightarrow\n",
    "    범함수의 도함수(functional derivative)\n",
    "    $\n"
   ]
  },
  {
   "cell_type": "markdown",
   "metadata": {},
   "source": [
    "### 적분형 범함수의 도함수\n",
    "\n",
    "- 대부분의 범함수는 $x$에 대한 적분으로 정의된다.\n",
    "\n",
    "    $ \n",
    "    F[y(x)] = \\int G(y, x) dx \n",
    "    $\n",
    "\n",
    "- 범함수 $F$의 도함수\n",
    "\n",
    "    $ \n",
    "    \\dfrac{\\delta F}{\\delta y} = \\dfrac{\\partial G}{\\partial y}  \n",
    "    $\n"
   ]
  },
  {
   "cell_type": "markdown",
   "metadata": {},
   "source": [
    "### 오일러-라그랑주 공식(Euler-Lagrange)\n",
    "\n",
    "- $x$, $y(x)$ 이외에 추가로 $y(x)$의 $x$에 대한 도함수인 $y'(x) = \\dfrac{dy}{dx}$도 입력 변수로 받는 함수의 도함수도 있다\n",
    "\n",
    "    $ \n",
    "    F[y(x)] = \\int G(y, y', x) dx \n",
    "    $\n",
    "    \n",
    "- 범함수$F$의 함수 $y$에 대한 도함수\n",
    "\n",
    "    $\n",
    "    \\dfrac{\\partial G}{\\partial y} - \\dfrac{d}{dx}\\left( \\dfrac{\\partial G}{\\partial y'} \\right) \n",
    "    $"
   ]
  },
  {
   "cell_type": "markdown",
   "metadata": {},
   "source": [
    "### 최적 제어\n",
    "\n",
    "- 최적화(optimization) : $f(x)$가 있을 때 이 값이 가장 커지도록 혹은 가장 작아지도록 하는 독립변수 $x$의 값을 찾아내는 것\n",
    "- 최적 제어(optimal control) : 범함수 $F[y(x)]$가 있을 때 이 값이 가장 커지도록 혹은 가장 작아지도록 하는 독립함수 $y(x)$를 찾는 것\n",
    "\n",
    "- 최적화를 위한 필요조건\n",
    "    - 최적의 독립변수의 값 $x^{\\ast}$을 입력하면 함수의 도함수의 값이 0이 되어야 한다는 것\n",
    "        \n",
    "        $ \n",
    "        \\dfrac{df}{dx}(x^{\\ast}) = 0 \n",
    "        $\n",
    "- 최적제어에서의 최적조건\n",
    "    - 최적의 함수 $y^{\\ast}(x)$를 입력하면 범함수의 도함수의 값이 0이 되어야 한다는 것\n",
    "    \n",
    "        $ \n",
    "        \\dfrac{\\delta f}{\\delta y}[y^{\\ast}(x)] = 0 \n",
    "        $"
   ]
  }
 ],
 "metadata": {
  "kernelspec": {
   "display_name": "Python 3",
   "language": "python",
   "name": "python3"
  },
  "language_info": {
   "codemirror_mode": {
    "name": "ipython",
    "version": 3
   },
   "file_extension": ".py",
   "mimetype": "text/x-python",
   "name": "python",
   "nbconvert_exporter": "python",
   "pygments_lexer": "ipython3",
   "version": "3.7.3"
  }
 },
 "nbformat": 4,
 "nbformat_minor": 2
}
