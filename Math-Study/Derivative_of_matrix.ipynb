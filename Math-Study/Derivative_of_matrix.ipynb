{
 "cells": [
  {
   "cell_type": "markdown",
   "metadata": {},
   "source": [
    "## 행렬의 미분\n",
    "- 행렬을 입력이나 출력으로 가지는 함수를 미분하는 것\n",
    "- 분자중심 표현법(Numerator-layout notation)\n",
    "- 분모중심 표현법(Denominator-layout notation)"
   ]
  },
  {
   "cell_type": "markdown",
   "metadata": {},
   "source": [
    "### 스칼라를 벡터로 미분하는 경우\n",
    "- 결과를 열벡터로 표시\n",
    "- 그레디언트 벡터(gradient vector) \n",
    "    - $\\nabla f$로 표기\n",
    "\n",
    "\n",
    "$\n",
    "\\nabla f = \n",
    "\\frac{\\partial f}{\\partial {x}} =\n",
    "\\begin{bmatrix}\n",
    "\\dfrac{\\partial f}{\\partial x_1}\\\\\n",
    "\\vdots\\\\\n",
    "\\dfrac{\\partial f}{\\partial x_N}\\\\\n",
    "\\end{bmatrix}\n",
    "$"
   ]
  },
  {
   "cell_type": "markdown",
   "metadata": {},
   "source": [
    "### 벡터를 표시하는 방법\n",
    "- 2개의 입력변수를 가지는 2차원 함수\n",
    "    - 컨투어(Contour)플롯\n",
    "        - $f(x, y)$를 평면상에서 나타낸다.\n",
    "        - 입력 변수 $x, y$ 위치에서의 그레디언트 벡터 $\\frac{\\partial f}{\\partial x}, \\frac{\\partial f}{\\partial y}$는 그 위치를 원점으로 하는 화살표로 표현가능\n",
    "        - 그레디언트 벡터 방향은 $\\frac{\\partial f}{\\partial x}$와 $\\frac{\\partial f}{\\partial y}$의 부호에 의해 결정\n",
    "    - 퀴버(Quiver)플롯\n",
    "        - 컨투어 플롯 위에 그레디언트 벡터를 화살표로 나타낸 플롯\n",
    "        - 화살표는 화살표 시작 지점의 그레디언트 벡터를 나타냄"
   ]
  },
  {
   "cell_type": "markdown",
   "metadata": {},
   "source": [
    "### 퀴버(Quiver)플롯 특징\n",
    "- 그레디언트 벡터의 크기는 기울기를 의미\n",
    "- 그레디언트 벡터의 방향은 단위 길이당 함수값(높이)이 가장 크게 증가하는 방향을 가리킴.\n",
    "- 그레디언트 벡터의 방향은 등고선(isoline)의 방향과 직교."
   ]
  },
  {
   "cell_type": "markdown",
   "metadata": {},
   "source": [
    "### 행렬미분법칙"
   ]
  },
  {
   "cell_type": "markdown",
   "metadata": {},
   "source": [
    "#### 1. 선형 모형\n",
    "- 선형 모형을 미분하면 그레디언트 벡터는 가중치 벡터이다.\n",
    "\n",
    "    $ \n",
    "    f(x) = w^T x\\\n",
    "    \\rightarrow\\\n",
    "    \\nabla f = {w} \n",
    "    $ "
   ]
  },
  {
   "cell_type": "markdown",
   "metadata": {},
   "source": [
    "#### 2. 이차 형식\n",
    "- 이차 형식을 미분하면 행렬과 벡터의 곱으로 나타난다.\n",
    "\n",
    "    $\n",
    "    f(x) = x^T A x\\\n",
    "    \\rightarrow\\\n",
    "    \\nabla f(x) = ({A} + {A}^{T}){x}\n",
    "    $"
   ]
  },
  {
   "cell_type": "markdown",
   "metadata": {},
   "source": [
    "#### 3. 행렬과 벡터의 곱의 미분\n",
    "- 행렬 $A$와 벡터 $x$의 곱 $Ax$를 벡터 $x$로 미분하면 행렬 $A^T$가 된다.\n",
    "\n",
    "    $\n",
    "    f(x) = Ax\\\n",
    "    \\rightarrow\\\n",
    "    \\nabla f(x) = A^T \n",
    "    $"
   ]
  },
  {
   "cell_type": "markdown",
   "metadata": {},
   "source": [
    "#### 4. 행렬 곱의 대각성분\n",
    "\n",
    "- 두 정방행렬을 곱해서 만들어진 행렬의 대각성분(trace)는 스칼라이다. \n",
    "- 이 스칼라를 뒤의 행렬로 미분하면 앞의 행렬의 전치행렬이 나온다.\n",
    "\n",
    "    $\n",
    "    f(X) = \\text{tr} ({A}{X})\\\n",
    "    \\rightarrow\\\n",
    "    \\dfrac{\\partial f}{\\partial X} = {A}^T\n",
    "    $"
   ]
  },
  {
   "cell_type": "markdown",
   "metadata": {},
   "source": [
    "#### 5. 행렬식의 로그\n",
    "- 행렬식(determinant)은 스칼라값이고 이 값의 로그 값도 스칼라이다.\n",
    "- 이 값을 원래의 행렬로 미분하면 원래 행렬의 역행렬의 전치 행렬이 된다.\n",
    "\n",
    "    $\n",
    "    f(X) = \\log | {A} |\\\n",
    "    \\rightarrow\\\n",
    "    \\dfrac{\\partial f}{\\partial A} = ({A}^{-1})^T \n",
    "    $"
   ]
  }
 ],
 "metadata": {
  "kernelspec": {
   "display_name": "Python 3",
   "language": "python",
   "name": "python3"
  },
  "language_info": {
   "codemirror_mode": {
    "name": "ipython",
    "version": 3
   },
   "file_extension": ".py",
   "mimetype": "text/x-python",
   "name": "python",
   "nbconvert_exporter": "python",
   "pygments_lexer": "ipython3",
   "version": "3.7.3"
  }
 },
 "nbformat": 4,
 "nbformat_minor": 2
}
