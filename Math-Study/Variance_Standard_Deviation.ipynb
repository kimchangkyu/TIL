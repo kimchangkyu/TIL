{
 "cells": [
  {
   "cell_type": "markdown",
   "metadata": {},
   "source": [
    "## 분산과 표준편차"
   ]
  },
  {
   "cell_type": "markdown",
   "metadata": {},
   "source": [
    "### 확률분포의 분산\n",
    "- 계산된 분산값은 $\\sigma^2$으로 표기\n",
    "\n",
    "    $ \n",
    "    \\sigma^2 = \\text{Var}[X] = \\text{E}[(X - \\mu)^2] \n",
    "    $\n",
    "\n",
    "\n",
    "1. 이산확률변수의 분산 : 평균으로부터 표본 데이터까지 거리의 제곱을 확률질량함수 $p(x)$로 가중하여 더한 값\n",
    "\n",
    "    $ \n",
    "    \\sigma^2 = \\sum_{x_i \\in \\Omega} (x_i - \\mu)^2 p(x_i)\n",
    "    $\n",
    "\n",
    "\n",
    "2. 연속확률변수의 분산 : 평균으로부터 표본 데이터까지 거리의 제곱을 확률밀도함수 $p(x)$로 가중하여 적분한 값.\n",
    "\n",
    "    $\n",
    "    \\sigma^2 = \\int_{-\\infty}^{\\infty} (x - \\mu)^2 p(x)dx\n",
    "    $\n"
   ]
  },
  {
   "cell_type": "markdown",
   "metadata": {},
   "source": [
    "### 분산의 성질\n",
    "1. 분산은 항상 0 또는 양수\n",
    "\n",
    "    $\n",
    "    \\text{Var}[X] \\geq 0\n",
    "    $\n",
    "\n",
    "\n",
    "2. 확률변수가 아닌 상수 값 $c$에 대해 다음 식이 성립.\n",
    "\n",
    "    $\n",
    "    \\text{Var}[c] = 0\n",
    "    $\n",
    "\n",
    "    $ \n",
    "    \\text{Var}[cX] = c^2 \\text{Var}[X]\n",
    "    $\n",
    "    \n",
    "\n",
    "3. 기댓값의 성질을 이용하여 다음 성질을 증명\n",
    "\n",
    "    $\n",
    "    \\text{Var}[X] = \\text{E}[X^2] - (\\text{E}[X])^2  = \\text{E}[X^2] - \\mu^2 \n",
    "    $\n",
    "\n",
    "    or\n",
    "\n",
    "    $\n",
    "    \\text{E}[X^2] = \\mu^2 + \\text{Var}[X] \n",
    "    $\n"
   ]
  },
  {
   "cell_type": "markdown",
   "metadata": {},
   "source": [
    "### 두 확률변수의 합의 분산\n",
    "- 두 확률변수 $X$, $Y$의 합의 분산은 각 확률변수의 분산의 합과 다음과 같은 관계가 있다. \n",
    "\n",
    "    $\n",
    "    \\text{Var}\\left[ X + Y \\right] =\n",
    "    \\text{Var}\\left[ X \\right] + \\text{Var}\\left[ Y \\right]+ 2\\text{E}\\left[ (X-\\mu_X)(Y-\\mu_Y) \\right]\n",
    "    $\n",
    "\n",
    "    \n",
    "    -> 마지막 항은 양수도 될 수 있고 음수도 될 수 있다. \n",
    "\n"
   ]
  },
  {
   "cell_type": "markdown",
   "metadata": {},
   "source": [
    "### 확률변수의 독립(independent)\n",
    "- 두 확률변수가 가질 수 있는 모든 사건의 조합에 대해 결합사건의 확률이 각 사건의 확률의 곱과 같다는 뜻\n",
    "- **두 확률변수가 서로에게 영향을 미치지 않는다**\n",
    "\n",
    "\n",
    "- 종속(dependent)\n",
    "    - 두 확률변수가 서로에게 영향을 미치는 경우"
   ]
  },
  {
   "cell_type": "markdown",
   "metadata": {},
   "source": [
    "- 두 확률변수 $X$, $Y$가 서로 독립이면 다음 식이 성립. \n",
    "\n",
    "    $\n",
    "    \\text{E}\\left[ (X-\\mu_X)(Y-\\mu_Y) \\right] = 0 \n",
    "    $\n",
    "\n",
    "\n",
    "- 서로 독립인 두 확률변수의 합의 분산은 각 확률변수의 분산의 합과 같다.\n",
    "\n",
    "    $ \n",
    "    \\text{Var}\\left[ X + Y \\right] =  \\text{Var}\\left[ X \\right] + \\text{Var}\\left[ Y \\right] \n",
    "    $"
   ]
  },
  {
   "cell_type": "markdown",
   "metadata": {},
   "source": [
    "### 표본평균의 분산\n",
    "\n",
    "$\n",
    "\\text{Var}[\\bar{X}] = \\dfrac{1}{N} \\text{Var}[{X}]\n",
    "$\n",
    "\n",
    "- 표본평균 $\\bar{X}$의 분산 $\\text{Var}[\\bar{X}]$은 원래 확률변수 $X$의 분산 $\\text{Var}[{X}]$과 위와 같은 관계를 가진다.\n",
    "- 결론 : **표본평균을 계산한 표본 개수가 커지면 표본평균의 값의 변동은 작아진다**"
   ]
  },
  {
   "cell_type": "markdown",
   "metadata": {},
   "source": [
    "### 표본분산의 기댓값\n",
    "- 표본분산 $S^2$의 기대값을 구하면 이론적인 분산  $\\sigma^2$과 같아지는 것이 아니라 이론적인 분산값의 $\\frac{N - 1}{N}$배가 된다. \n",
    "- 즉 표본분산값이 이론적인 분산값보다 더 작아진다.\n",
    "\n",
    "    $\n",
    "    \\text{E}[S^2] = \\dfrac{N-1}{N}\\sigma^2 \n",
    "    $\n",
    "\n",
    "\n",
    "- 비편향 표본분산 정의\n",
    "\n",
    "    $\n",
    "    S^2_{\\text{unbiased}} \\equiv \\dfrac{1}{N-1} \\sum (X_i-\\bar{X})^2\n",
    "    $"
   ]
  },
  {
   "cell_type": "markdown",
   "metadata": {},
   "source": [
    "#### 표본분산이 실제 분산보다 작아지는 이유.\n",
    "\n",
    "1. 표본분산을 계산할 때 사용하는 표본평균의 값이 데이터가 많이 몰려있는 쪽으로 편향되게 나온다.\n",
    "2. 이렇게 데이터가 몰려있는 위치에 있는 표본평균을 기준으로 각 데이터까지의 거리를 계산하면 원래의 기댓값으로부터의 거리보다 작게 나올 수 있다.\n"
   ]
  },
  {
   "cell_type": "markdown",
   "metadata": {},
   "source": [
    "### 비대칭도와 첨도\n",
    "\n",
    "- 비대칭도(skew) : 3차 모멘트 값에서 계산하고 확률밀도함수의 비대칭 정도. \n",
    "- 비대칭도가 0이면 확률분포가 대칭.\n",
    "\n",
    "    $\n",
    "    \\operatorname{E}\\left[\\left(\\frac{X-\\mu}{\\sigma}\\right)^3 \\right] = \\frac{\\mu_3}{\\sigma^3}\n",
    "    $"
   ]
  },
  {
   "cell_type": "markdown",
   "metadata": {},
   "source": [
    "- 첨도(kurtosis) : 4차 모멘트 값에서 계산하며 확률이 정규분포와 대비하여 중심에 모여있는지 바깥으로 퍼져있는지를 나타냄.\n",
    "\n",
    "    $\n",
    "    \\operatorname{E}\\left[\\left(\\frac{X-\\mu}{\\sigma}\\right)^4 \\right] = \\frac{\\mu_4}{\\sigma^4}\n",
    "    $"
   ]
  },
  {
   "cell_type": "markdown",
   "metadata": {},
   "source": [
    "### 모멘트\n",
    "- 기댓값이나 분산은 확률분포의 **모멘트(moment)**의 하나다. \n",
    "\n",
    "    $\n",
    "    \\mu_n = \\operatorname{E}[(X-\\mu)^n] = \\int (x - \\mu)^n p(x)dx\n",
    "    $"
   ]
  }
 ],
 "metadata": {
  "kernelspec": {
   "display_name": "Python 3",
   "language": "python",
   "name": "python3"
  },
  "language_info": {
   "codemirror_mode": {
    "name": "ipython",
    "version": 3
   },
   "file_extension": ".py",
   "mimetype": "text/x-python",
   "name": "python",
   "nbconvert_exporter": "python",
   "pygments_lexer": "ipython3",
   "version": "3.6.9"
  }
 },
 "nbformat": 4,
 "nbformat_minor": 2
}
