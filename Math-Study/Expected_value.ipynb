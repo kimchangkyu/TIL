{
 "cells": [
  {
   "cell_type": "markdown",
   "metadata": {},
   "source": [
    "## 기댓값과 확률변수의 변환"
   ]
  },
  {
   "cell_type": "markdown",
   "metadata": {},
   "source": [
    "### 확률변수의 기댓값(expectation)\n",
    "- 이론적 평균을 확률변수의 기댓값이라고한다.\n",
    "- 단순히 평균(mean)이라고 말하기도 한다.\n",
    "\n",
    " - **이산확률변수의 기댓값은 표본공간의 원소 $x_i$의 가중평균**이다. \n",
    "    - 이때 가중치는 $x_i$가 나올 수 있는 확률 즉 확률질량함수 $p(x_i)$이다.\n",
    "\n",
    "        $ \n",
    "        \\mu_X = \\text{E}[X] = \\sum_{x_i \\in \\Omega} x_ip(x_i) \n",
    "        $\n",
    "\n",
    "\n",
    "- 기댓값 공식에서 $x_i$는 표본공간의 모든 원소를 뜻하지만 표본평균 공식에서 $x_i$는 선택된 표본만을 뜻한다."
   ]
  },
  {
   "cell_type": "markdown",
   "metadata": {},
   "source": [
    "**연속확률변수의 기댓값은 확률밀도함수 $p(x)$를 가중치로 하여 모든 가능한 표본 $x$를 적분**한 값이다.\n",
    "\n",
    "$ \n",
    "\\mu_X = \\text{E}[X] = \\int_{-\\infty}^{\\infty} x p(x) dx \n",
    "$"
   ]
  },
  {
   "cell_type": "markdown",
   "metadata": {},
   "source": [
    "- **기댓값은** 여러 가능한 $x$값을 확률값에 따라 가중합을 한 것이므로 가장 확률이 높은 $x$값 근처의 값이 된다. \n",
    "- 즉, **확률이 모여 있는 곳의 위치**를 나타낸다."
   ]
  },
  {
   "cell_type": "markdown",
   "metadata": {},
   "source": [
    "### 확률변수의 변환(transform)\n",
    "- 기존의 확률변수를 사용하여 새로운 확률변수를 만드는 것\n",
    "- 함수 $f$를 사용해  확률변수를 변환할 때 표기\n",
    "\n",
    "    $ \n",
    "    Y = f(X) \n",
    "    $\n"
   ]
  },
  {
   "cell_type": "markdown",
   "metadata": {},
   "source": [
    "- 확률변수 $X$에서 표본을 $N$번 뽑아서 그 값을 더하는 경우에는 다음처럼 원래 확률변수의 복사본 $X_1, X_2, \\ldots, X_N$을 만든 다음 이 복사본 확률변수의 표본값을 더한 형태로 변환식을 써야 한다.\n",
    "\n",
    "    $ \n",
    "    Y = X_1 + X_2 + \\cdots X_N \n",
    "    $\n"
   ]
  },
  {
   "cell_type": "markdown",
   "metadata": {},
   "source": [
    "### 기댓값의 성질\n",
    "\n",
    "\n",
    "- 확률변수가 아닌 상수 $c$에 대해 \n",
    "\n",
    "    $\n",
    "    \\text{E}[c] = c\n",
    "    $\n",
    "\n",
    "\n",
    "- 선형성\n",
    "\n",
    "    $\n",
    "    \\text{E}[cX] = c \\text{E}[X]\n",
    "    $\n",
    "\n",
    "    $\n",
    "    \\text{E}[X + Y] = \\text{E}[X] + \\text{E}[Y]\n",
    "    $\n",
    "\n",
    "    $\n",
    "    \\text{E}[c_1X + c_2Y] = c_1\\text{E}[X] + c_2\\text{E}[Y] \n",
    "    $\n"
   ]
  },
  {
   "cell_type": "markdown",
   "metadata": {},
   "source": [
    "### 통계량(statistics)\n",
    "- **데이터 집합의 모든 값을 정해진 어떤 공식에 넣어서 하나의 숫자를 구한 것**"
   ]
  },
  {
   "cell_type": "markdown",
   "metadata": {},
   "source": [
    "### 표본평균 확률변수\n",
    "- 확률변수로부터 $N$개의 표본을 만들어 이 표본집합의 표본평균을 구하면 이렇게 구한 표본평균 값도 확률변수가 된다.\n",
    "\n",
    "    $\n",
    "    \\bar{X} = \\dfrac{1}{N}\\sum_{i=1}^{N} X_i\n",
    "    $\n",
    "\n",
    "    $X_i$는 $i$번째로 실현된 표본값을 생성하는 확률변수를 의미"
   ]
  },
  {
   "cell_type": "markdown",
   "metadata": {},
   "source": [
    "### 기댓값과 표본평균의 관계\n",
    "- 표본평균도 확률변수이므로 기댓값이 존재한다.\n",
    "\n",
    "    $ \n",
    "    \\text{E}[ \\bar{X} ] = \\text{E}[X] \n",
    "    $\n"
   ]
  },
  {
   "cell_type": "markdown",
   "metadata": {},
   "source": [
    "### 중앙값(median)\n",
    "- **확률변수의 중앙값(median)은 중앙값보다 큰 값이 나올 확률과 작은 값이 나올 확률이 0.5로 같은 값**을 뜻한다.\n",
    "\n",
    "    $ \n",
    "    0.5 = F(\\text{median}) \n",
    "    $\n",
    "\n",
    "    $ \n",
    "    \\text{median} = F^{-1}(0.5) \n",
    "    $"
   ]
  },
  {
   "cell_type": "markdown",
   "metadata": {},
   "source": [
    "### 최빈값(most frequent value)\n",
    "- **이산확률분포에서는 가장 확률 값이 큰 수를 최빈값(most frequent value)**이라고 한다.\n",
    "- 연속확률분포인 경우에는 어느 값에 대해서나 특정한 값이 나올 확률은 0(zero)이므로 **최빈값은 확률밀도함수 $p(x)$의 값이 가장 큰 확률변수의 값**으로 정의"
   ]
  },
  {
   "cell_type": "code",
   "execution_count": 1,
   "metadata": {},
   "outputs": [],
   "source": [
    "import numpy as np"
   ]
  },
  {
   "cell_type": "code",
   "execution_count": 2,
   "metadata": {},
   "outputs": [],
   "source": [
    "list_x_mean = []\n",
    "for i in range(50):\n",
    "    x = np.random.normal(size = 100)\n",
    "    x_mean = x.mean()\n",
    "    list_x_mean.append(x_mean)"
   ]
  },
  {
   "cell_type": "code",
   "execution_count": 3,
   "metadata": {},
   "outputs": [],
   "source": [
    "import seaborn as sns\n",
    "import matplotlib.pyplot as plt\n",
    "%matplotlib inline"
   ]
  },
  {
   "cell_type": "code",
   "execution_count": 9,
   "metadata": {},
   "outputs": [
    {
     "data": {
      "image/png": "[encoded data removed]",
      "text/plain": [
       "<Figure size 432x288 with 1 Axes>"
      ]
     },
     "metadata": {
      "needs_background": "light"
     },
     "output_type": "display_data"
    }
   ],
   "source": [
    "sns.distplot(x)\n",
    "plt.title('origin x data')\n",
    "plt.xlim(-5, 5)\n",
    "plt.show()"
   ]
  },
  {
   "cell_type": "code",
   "execution_count": 8,
   "metadata": {},
   "outputs": [
    {
     "data": {
      "image/png": "[encoded data removed]",
      "text/plain": [
       "<Figure size 432x288 with 1 Axes>"
      ]
     },
     "metadata": {
      "needs_background": "light"
     },
     "output_type": "display_data"
    }
   ],
   "source": [
    "sns.distplot(list_x_mean)\n",
    "plt.title('list_x_mean')\n",
    "plt.xlim(-5, 5)\n",
    "plt.show()"
   ]
  },
  {
   "cell_type": "code",
   "execution_count": null,
   "metadata": {},
   "outputs": [],
   "source": []
  }
 ],
 "metadata": {
  "kernelspec": {
   "display_name": "Python 3",
   "language": "python",
   "name": "python3"
  },
  "language_info": {
   "codemirror_mode": {
    "name": "ipython",
    "version": 3
   },
   "file_extension": ".py",
   "mimetype": "text/x-python",
   "name": "python",
   "nbconvert_exporter": "python",
   "pygments_lexer": "ipython3",
   "version": "3.6.9"
  }
 },
 "nbformat": 4,
 "nbformat_minor": 2
}
