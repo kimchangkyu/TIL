{
 "cells": [
  {
   "cell_type": "markdown",
   "metadata": {},
   "source": [
    "## 확률적 데이터와 확률변수"
   ]
  },
  {
   "cell_type": "markdown",
   "metadata": {},
   "source": [
    "### 확률적 데이터"
   ]
  },
  {
   "cell_type": "markdown",
   "metadata": {},
   "source": [
    "- **결정론적 데이터(deterministic data)** : 언제 누가 얻더라도 항상 같은 값이 나오는 데이터\n",
    "- **확률적 데이터(random data, stochastic data)** : 정확히 예측할 수 없는 값이 나오는 데이터\n",
    "\n",
    "- 데이터가 확률적이 되는 이유\n",
    "    -  여러 조건이나 상황에 따라 데이터값이 영향을 받기 때문 \n",
    "    -  측정 시에 발생하는 오차 때문"
   ]
  },
  {
   "cell_type": "markdown",
   "metadata": {},
   "source": [
    "### 분포(distribution)\n",
    "- 확률적 데이터에서 어떠한 값이 자주 나오고 어떠한 값이 드물게 나오는가를 나타내는 정보\n",
    "- 시각적으로 표현\n",
    "    - 카운트 플롯(count plot) : 범주형 데이터의 경우 \n",
    "    - 히스토그램(histogram) : 실수형 데이터의 경우"
   ]
  },
  {
   "cell_type": "markdown",
   "metadata": {},
   "source": [
    "### 기술통계(descriptive statistics)\n",
    "- 분포의 특징을 나타내는 여러가지 숫자를 계산하여 그 숫자로서 분포를 나타내는 것\n",
    "- 대표적인 기술통계\n",
    "    - 표본평균, 표본중앙값, 표본최빈값\n",
    "    - 표본분산, 표본표준편차\n",
    "    - 표본왜도, 표본첨도"
   ]
  },
  {
   "cell_type": "markdown",
   "metadata": {},
   "source": [
    "### 표본평균\n",
    "- 일반적으로 부르는 평균\n",
    "- 데이터 분포의 대략적인 위치를 나타냄\n",
    "\n",
    "    $ \n",
    "    m = \\bar{x} = \\dfrac{1}{N}\\sum_{i=1}^{N} x_i \n",
    "    $\n"
   ]
  },
  {
   "cell_type": "markdown",
   "metadata": {},
   "source": [
    "### 표본중앙값(sample median)\n",
    "- 전체 자료를 크기별로 정렬했을 때 가장 중앙에 위치하는 값\n",
    "- 표본이 비대칭적으로 생겼을 때 사용 : 이상치(outlier)\n",
    "- 전체 표본 개수가 $N$인 경우,\n",
    "    - $N$이 홀수이면 : 중앙값은 $(N + 1)/2$번째 표본의 값\n",
    "    - $N$이 짝수이면 : 중앙값은 $N/2$번째 표본의 값과 $N/2 + 1$번째 표본의 값의 평균"
   ]
  },
  {
   "cell_type": "markdown",
   "metadata": {},
   "source": [
    "### 표본최빈값(most frequent value)\n",
    "- 데이터값 중 가장 빈번하게 나오는 값\n",
    "- 범주값일 경우에 적용\n",
    "- 연속적일 경우에는 최빈값을 정하기가 어렵다."
   ]
  },
  {
   "cell_type": "markdown",
   "metadata": {},
   "source": [
    "### 대푯값 계산 With Python\n",
    "- 범주형 데이터는 실수로 바꾼 다음에 대푯값을 계산\n",
    "- `mean()` : 표본평균 계산\n",
    "- `median()` : 표본중앙값 계산\n",
    "- `argmax()` : 이산데이터의 최댓값 계산\n",
    "- `histogram()` : 데이터를 구간으로 나누어 각 구간에 들어가는 데이터 개수 계산."
   ]
  },
  {
   "cell_type": "markdown",
   "metadata": {},
   "source": [
    "### 히스토그램으로 이용한 붓꽃 데이터 분포"
   ]
  },
  {
   "cell_type": "code",
   "execution_count": 3,
   "metadata": {},
   "outputs": [
    {
     "data": {
      "text/html": [
       "<div>\n",
       "<style scoped>\n",
       "    .dataframe tbody tr th:only-of-type {\n",
       "        vertical-align: middle;\n",
       "    }\n",
       "\n",
       "    .dataframe tbody tr th {\n",
       "        vertical-align: top;\n",
       "    }\n",
       "\n",
       "    .dataframe thead th {\n",
       "        text-align: right;\n",
       "    }\n",
       "</style>\n",
       "<table border=\"1\" class=\"dataframe\">\n",
       "  <thead>\n",
       "    <tr style=\"text-align: right;\">\n",
       "      <th></th>\n",
       "      <th>sepal length (cm)</th>\n",
       "      <th>sepal width (cm)</th>\n",
       "      <th>petal length (cm)</th>\n",
       "      <th>petal width (cm)</th>\n",
       "      <th>species</th>\n",
       "    </tr>\n",
       "  </thead>\n",
       "  <tbody>\n",
       "    <tr>\n",
       "      <th>148</th>\n",
       "      <td>6.2</td>\n",
       "      <td>3.4</td>\n",
       "      <td>5.4</td>\n",
       "      <td>2.3</td>\n",
       "      <td>virginica</td>\n",
       "    </tr>\n",
       "    <tr>\n",
       "      <th>149</th>\n",
       "      <td>5.9</td>\n",
       "      <td>3.0</td>\n",
       "      <td>5.1</td>\n",
       "      <td>1.8</td>\n",
       "      <td>virginica</td>\n",
       "    </tr>\n",
       "  </tbody>\n",
       "</table>\n",
       "</div>"
      ],
      "text/plain": [
       "     sepal length (cm)  sepal width (cm)  petal length (cm)  petal width (cm)  \\\n",
       "148                6.2               3.4                5.4               2.3   \n",
       "149                5.9               3.0                5.1               1.8   \n",
       "\n",
       "       species  \n",
       "148  virginica  \n",
       "149  virginica  "
      ]
     },
     "execution_count": 3,
     "metadata": {},
     "output_type": "execute_result"
    }
   ],
   "source": [
    "import pandas as pd\n",
    "from sklearn.datasets import load_iris\n",
    "iris = load_iris()\n",
    "df = pd.DataFrame(iris.data, columns=iris.feature_names)\n",
    "sy = pd.Series(iris.target, dtype=\"category\")\n",
    "sy = sy.cat.rename_categories(iris.target_names)\n",
    "df['species'] = sy\n",
    "df.tail(2)"
   ]
  },
  {
   "cell_type": "code",
   "execution_count": 8,
   "metadata": {},
   "outputs": [
    {
     "data": {
      "image/png": "[encoded data removed]",
      "text/plain": [
       "<Figure size 432x288 with 1 Axes>"
      ]
     },
     "metadata": {
      "needs_background": "light"
     },
     "output_type": "display_data"
    }
   ],
   "source": [
    "import seaborn as sns\n",
    "import matplotlib.pyplot as plt\n",
    "%matplotlib inline\n",
    "x = df['petal length (cm)'].values\n",
    "\n",
    "sns.distplot(x, rug=True)\n",
    "plt.title('petal length (cm)')\n",
    "plt.xlabel('petal length (cm)')\n",
    "plt.show()"
   ]
  },
  {
   "cell_type": "code",
   "execution_count": 10,
   "metadata": {},
   "outputs": [
    {
     "data": {
      "image/png": "[encoded data removed]",
      "text/plain": [
       "<Figure size 432x288 with 1 Axes>"
      ]
     },
     "metadata": {
      "needs_background": "light"
     },
     "output_type": "display_data"
    }
   ],
   "source": [
    "x = df[df.species == \"setosa\"]['petal length (cm)'].values\n",
    "\n",
    "sns.distplot(x, rug=True)\n",
    "plt.title('setosa petal length (cm)')\n",
    "plt.xlabel('petal length (cm)')\n",
    "plt.show()"
   ]
  },
  {
   "cell_type": "markdown",
   "metadata": {},
   "source": [
    "### 대칭분포\n",
    "- 표본평균, 표본중앙값, 표본최빈값은 분포의 모양에 따라 다음과 같은 특성을 보인다.\n",
    "    * 분포가 표본평균을 기준으로 대칭인 대칭(symmetric)분포이면 표본중앙값은 표본평균과 같다.\n",
    "    * 분포가 대칭분포이면서 하나의 최고값만을 가지는 단봉분포이면 표본최빈값은 표본평균과 같다.\n",
    "    * 이상치(outlier)에 표본평균이 가장 크게 영향을 받고 표본최빈값이 가장 적게 영향을 받는다."
   ]
  },
  {
   "cell_type": "markdown",
   "metadata": {},
   "source": [
    "### 분산과 표준편차\n",
    "- 평균이나 기댓값이 분포의 **위치**를 대표하는 것이라면 분산은 분포의 **폭(width)**을 대표하는 값\n",
    "\n",
    "    $\n",
    "    \\text{표준편차} = \\sqrt{\\text{분산}}\n",
    "    $\n",
    "\n",
    "\n",
    "- 표본분산, $\\bar{x}$은 표본평균.\n",
    "\n",
    "    $\n",
    "    s^2 = \\dfrac{1}{N}\\sum_{i=1}^{N} (x_i-\\bar{x})^2 \n",
    "    $"
   ]
  },
  {
   "cell_type": "markdown",
   "metadata": {},
   "source": [
    "### 표본분산 및 표본표준편차의 계산 With Python\n",
    "   - `var()` : 분산\n",
    "   - `std()` : 표준편차\n",
    "   - `ddof`  : 이 인수를 사용하면 비편향 표본분산과 표본표준편차를 구할 수 있다."
   ]
  },
  {
   "cell_type": "markdown",
   "metadata": {},
   "source": [
    "### 표본비대칭도(sample skewness)\n",
    "- 평균과의 거리의 세제곱을 이용하여 구한 특징값\n",
    "- **표본비대칭도가 0이면 분포가 대칭**\n",
    "\n",
    "    $ \n",
    "    \\text{표본비대칭도} = \n",
    "    \\frac{\\tfrac{1}{N} \\sum_{i=1}^N (x_i-\\overline{x})^3}{ \\sqrt{\\tfrac{1}{N-1} \\sum_{i=1}^N (x_i-\\overline{x})^2}^{\\,3}}\n",
    "    $\n",
    "    \n",
    "<img src=\"https://datascienceschool.net/upfiles/fbef84feab4646cf918e1b474ef07290.png\" style=\"width=100%;\">"
   ]
  },
  {
   "cell_type": "markdown",
   "metadata": {},
   "source": [
    "### 표본첨도(sample kurtosis)\n",
    "- 평균과의 거리의 네제곱을 이용하여 구한 특징값\n",
    "\n",
    "    $\n",
    "    \\text{표본첨도} = \n",
    "    \\frac{\\tfrac{1}{N} \\sum_{i=1}^N (x_i - \\overline{x})^4}{\\left(\\tfrac{1}{N} \\sum_{i=1}^N (x_i - \\overline{x})^2\\right)^2} - 3\n",
    "    $\n"
   ]
  },
  {
   "cell_type": "markdown",
   "metadata": {},
   "source": [
    "### 표본모멘트\n",
    "- 분산, 비대칭도, 첨도를 구하기 위해 제곱, 세제곱, 네제곱을 하는 것처럼 $k$제곱을 이용하여 구한 모멘트\n",
    "\n",
    "    $ \n",
    "    \\text{표본모멘트} = \n",
    "    \\frac{1}{N}\\sum_{i = 1}^{N} x^k_i\n",
    "    $\n",
    "    \n",
    "    \n",
    "- 2차 표본모멘트 이상은 평균을 뺀 **표본중앙모멘트(sample centered moment)**값을 사용하기도 한다. \n",
    "\n",
    "    $ \n",
    "    \\text{표본중앙모멘트} = \n",
    "    \\frac{1}{N}\\sum_{i = 1}^{N} (x_i - \\bar{x})^k\n",
    "    $"
   ]
  },
  {
   "cell_type": "markdown",
   "metadata": {},
   "source": [
    "### 확률변수\n",
    "- 수학적으로 확률공간의 표본을 입력으로 받아서 실수인 숫자로 바꾸어 출력하는 함수\n",
    "- 출력되는 실수가 데이터의 값\n",
    "\n",
    "    $ \n",
    "    \\omega \\in \\Omega \\;\\;\\; \\xrightarrow{\\text{확률변수 } X} \\;\\; x \\in \\mathbf{R} \n",
    "    $\n",
    "\n",
    "    $\n",
    "    X(\\omega) = x\n",
    "    $\n"
   ]
  },
  {
   "cell_type": "markdown",
   "metadata": {},
   "source": [
    "### 이산확률변수, 연속확률변수\n",
    "- 이산확률변수 : 확률변수값이 연속적(continuous)이지 않고 떨어져(discrete) 있도록 정의할 수 있을 때\n",
    "- 연속확률변수 : 연속적이고 무한대의 실수 표본값을 가지는 확률변수"
   ]
  },
  {
   "cell_type": "markdown",
   "metadata": {},
   "source": [
    "### 확률변수를 사용한 데이터 분석\n",
    " 1. 데이터를 수집, 전처리.\n",
    " 2. 수집한 데이터가 어떤 확률변수의 표본 데이터라고 가정.\n",
    " 3. 데이터를 사용하여 해당 확률변수의 확률분포함수의 모양을 결정.\n",
    " 4. 결정된 확률변수로부터 다음에 생성될 데이터나 데이터 특성을 예측.\n",
    "\n",
    "- 데이터에서 확률분포함수의 모양을 구하는 방법\n",
    "    - 기술통계\n",
    "        1. 데이터 분포가 가지는 표본평균, 표본분산 등의 기술통계값을 구한다.\n",
    "        2. 이 값과 같은 기술통계값을 가지는 확률분포함수를 찾는다."
   ]
  }
 ],
 "metadata": {
  "kernelspec": {
   "display_name": "Python 3",
   "language": "python",
   "name": "python3"
  },
  "language_info": {
   "codemirror_mode": {
    "name": "ipython",
    "version": 3
   },
   "file_extension": ".py",
   "mimetype": "text/x-python",
   "name": "python",
   "nbconvert_exporter": "python",
   "pygments_lexer": "ipython3",
   "version": "3.6.9"
  }
 },
 "nbformat": 4,
 "nbformat_minor": 2
}
