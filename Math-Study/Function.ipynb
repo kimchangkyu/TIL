{
 "cells": [
  {
   "cell_type": "markdown",
   "metadata": {},
   "source": [
    "## 함수"
   ]
  },
  {
   "cell_type": "markdown",
   "metadata": {},
   "source": [
    "**함수(function)**는 입력 값을 출력 값으로 바꾸어 출력하는 관계(relationship)를 말한다.\n",
    "\n",
    "**정의역(domain)** : 함수에서 입력변수가 가질 수 있는 값의 집합\n",
    "\n",
    "**공역(range)** : 출력변수가 가질 수 있는 값의 집합"
   ]
  },
  {
   "cell_type": "markdown",
   "metadata": {},
   "source": [
    "### 변수"
   ]
  },
  {
   "cell_type": "markdown",
   "metadata": {},
   "source": [
    "**변수(variable)** : 어떤 숫자를 대표하는 기호. \n",
    "\n",
    "**입력변수(input variable)** : 입력 값을 대표하는 변수\n",
    "\n",
    "**출력변수(output variable)** : 출력 값을 대표하는 변수"
   ]
  },
  {
   "cell_type": "markdown",
   "metadata": {},
   "source": [
    "### 불연속함수\n",
    "- 데이터 분석에서 많이 사용되는 불연속함수들"
   ]
  },
  {
   "cell_type": "markdown",
   "metadata": {},
   "source": [
    "### 부호함수"
   ]
  },
  {
   "cell_type": "markdown",
   "metadata": {},
   "source": [
    "입력이 양수이면 1, 음수이면 -1, 0이면 0을 출력하는 $x=0$에서 불연속인 함수이다. \n",
    "\n",
    "넘파이에서는 `sign()` 명령으로 구현"
   ]
  },
  {
   "cell_type": "code",
   "execution_count": 8,
   "metadata": {},
   "outputs": [
    {
     "data": {
      "text/plain": [
       "(-1.0, 0, 1.0)"
      ]
     },
     "execution_count": 8,
     "metadata": {},
     "output_type": "execute_result"
    }
   ],
   "source": [
    "np.sign(-0.01), np.sign(0), np.sign(0.01)"
   ]
  },
  {
   "cell_type": "markdown",
   "metadata": {},
   "source": [
    "### 단위계단함수"
   ]
  },
  {
   "cell_type": "markdown",
   "metadata": {},
   "source": [
    "단위계단함수(Heaviside step function)도 $x=0$에서 불연속인 함수이다. 넘파이 구현이 없으므로 직접 구현해야 한다."
   ]
  },
  {
   "cell_type": "markdown",
   "metadata": {},
   "source": [
    "### 지시함수"
   ]
  },
  {
   "cell_type": "markdown",
   "metadata": {},
   "source": [
    "함수 이름에 아래 첨자로 미리 지정된 값이 들어오면 출력이 1이 되고 아니면 출력이 0이 된다.\n",
    "\n",
    "지시함수는 데이터 중에서 특정한 데이터만 선택하여 갯수를 세는데 사용된다."
   ]
  },
  {
   "cell_type": "markdown",
   "metadata": {},
   "source": [
    "### 역함수\n",
    "- 어떤 함수의 입력/출력 관계와 정반대의 입출력 관계를 갖는 함수"
   ]
  },
  {
   "cell_type": "markdown",
   "metadata": {},
   "source": [
    "$ \n",
    "y = f(x), \\;\\;\\; \\rightarrow \\;\\;\\; x = f^{-1}(y) \n",
    "$"
   ]
  },
  {
   "cell_type": "markdown",
   "metadata": {},
   "source": [
    "### 데이터 분석에서 많이 사용되는 함수들"
   ]
  },
  {
   "cell_type": "markdown",
   "metadata": {},
   "source": [
    "### 다항식함수"
   ]
  },
  {
   "cell_type": "markdown",
   "metadata": {},
   "source": [
    "거듭제곱 항의 선형조합으로 이루어진 함수다. \n",
    "\n",
    "$\n",
    "f(x) = c_0 + c_1 x + c_2 x^2 + \\cdots + c_n x^n \n",
    "$"
   ]
  },
  {
   "cell_type": "markdown",
   "metadata": {},
   "source": [
    "### 최대함수와 최소함수"
   ]
  },
  {
   "cell_type": "markdown",
   "metadata": {},
   "source": [
    "최대함수는 두 개의 인수 중에서 큰 값을 출력하는 함수이다.\n",
    "\n",
    "$ \n",
    "\\begin{align}\n",
    "\\max(x, y) \n",
    "=\n",
    "\\begin{cases}\n",
    "x & \\text{ if } x \\geq y \\\\\n",
    "y & \\text{ if } x < y \n",
    "\\end{cases}\n",
    "\\end{align}\n",
    "$\n",
    "\n",
    "\n",
    "최소함수는 최대함수와 반대로 두 개의 인수 중 작은 값을 출력하는 함수이다.\n",
    "\n",
    "$ \n",
    "\\begin{align}\n",
    "\\min(x, y) \n",
    "=\n",
    "\\begin{cases}\n",
    "x & \\text{ if } x \\leq y \\\\\n",
    "y & \\text{ if } x > y \n",
    "\\end{cases}\n",
    "\\end{align}\n",
    "$"
   ]
  },
  {
   "cell_type": "markdown",
   "metadata": {},
   "source": [
    "### 지수함수"
   ]
  },
  {
   "cell_type": "markdown",
   "metadata": {},
   "source": [
    "밑을 오일러 수 $e$로 하여 거듭제곱을 하는 함수를 **지수함수(exponential function)**라고 한다. \n",
    "\n",
    "$ \n",
    "y = e^x \n",
    "$\n",
    "\n",
    "$ \n",
    "y = \\exp (x) =\\exp x \n",
    "$"
   ]
  },
  {
   "cell_type": "code",
   "execution_count": 7,
   "metadata": {},
   "outputs": [
    {
     "data": {
      "text/plain": [
       "(0.1353352832366127, 1.0, 7.38905609893065)"
      ]
     },
     "execution_count": 7,
     "metadata": {},
     "output_type": "execute_result"
    }
   ],
   "source": [
    "np.exp(-2), np.exp(0), np.exp(2)"
   ]
  },
  {
   "cell_type": "markdown",
   "metadata": {},
   "source": [
    "#### 지수함수 특성\n",
    "\n",
    "* 양수($e$)를 거듭제곱한 값이므로 항상 양수다.\n",
    "* $x=0$일 때 1이 된다.\n",
    "* $x$가 양의 무한대로 가면($x \\rightarrow \\infty$), 양의 무한대로 다가간다.\n",
    "* $x$가 음의 무한대로 가면($x \\rightarrow -\\infty$), 0으로 다가간다.\n",
    "* $x_1 > x_2$이면 $\\exp{x_1} > \\exp{x_2}$이다.\n"
   ]
  },
  {
   "cell_type": "code",
   "execution_count": 6,
   "metadata": {},
   "outputs": [
    {
     "data": {
      "text/plain": [
       "(2980.9579870417283, 2980.9579870417283)"
      ]
     },
     "execution_count": 6,
     "metadata": {},
     "output_type": "execute_result"
    }
   ],
   "source": [
    "np.exp(5 + 3), np.exp(5) * np.exp(3)"
   ]
  },
  {
   "cell_type": "markdown",
   "metadata": {},
   "source": [
    "### 로지스틱함수\n",
    "- 지수함수를 변형한 함수\n",
    "- 회귀 분석이나 인공신경망에서 자주 사용"
   ]
  },
  {
   "cell_type": "markdown",
   "metadata": {},
   "source": [
    "$ \n",
    "\\begin{align}\n",
    "\\sigma(x) = \\dfrac{1}{1 + \\exp(-x)} \n",
    "\\end{align}\n",
    "$"
   ]
  },
  {
   "cell_type": "markdown",
   "metadata": {},
   "source": [
    "### 로그함수"
   ]
  },
  {
   "cell_type": "code",
   "execution_count": 9,
   "metadata": {},
   "outputs": [
    {
     "data": {
      "text/plain": [
       "2.302585092994046"
      ]
     },
     "execution_count": 9,
     "metadata": {},
     "output_type": "execute_result"
    }
   ],
   "source": [
    "np.log(10)"
   ]
  },
  {
   "cell_type": "markdown",
   "metadata": {},
   "source": [
    "로그는 지수함수의 역함수이다.\n",
    "\n",
    "$ \n",
    "y = \\log x \n",
    "$"
   ]
  },
  {
   "cell_type": "markdown",
   "metadata": {},
   "source": [
    "#### 로그함수 특징\n",
    "\n",
    "- $x$값, 즉 입력변수값이 양수이어야 한다. 0이거나 음수이면 정의되지 않는다.\n",
    "- $x > 1$면 $y > 0$ (양수)\n",
    "- $x = 1$이면 $y = 0$\n",
    "- $0 < x < 1$면 $y < 0$ (음수)\n",
    "- $x_1 > x_2$면 $\\log{x_1} > \\log{x_2}$이다."
   ]
  },
  {
   "cell_type": "markdown",
   "metadata": {},
   "source": [
    "#### 로그함수의 성질 1\n",
    "- 로그함수는 곱하기를 더하기로 변환한다.\n",
    "\n",
    "$ \n",
    "\\log{(x_1 \\cdot x_2)} = \\log{x_1} + \\log{x_2} \n",
    "$\n",
    "\n",
    "$ \n",
    "\\log x^n = n \\log x \n",
    "$"
   ]
  },
  {
   "cell_type": "markdown",
   "metadata": {},
   "source": [
    "#### 로그함수의 성질 2\n",
    "- 어떤 함수에 로그를 적용해도 함수의 최고점, 최저점의 위치는 변하지 않는다.\n",
    "- 로그를 취한 함수에 대해 최적화를 하는 경우가 많다."
   ]
  },
  {
   "cell_type": "markdown",
   "metadata": {},
   "source": [
    "#### 로그함수의 성질 3\n",
    "- 0부터 1사이의 작은 값을 확대시켜 보여준다.\n",
    "- 0부터 1사이의 구간을 음의 무한대부터 0까지로 확장시켜주기 때문에 0과 1사이에 있는 작은 값을 더 확실하게 비교할 수 있도록 한다."
   ]
  },
  {
   "cell_type": "markdown",
   "metadata": {},
   "source": [
    "### 소프트플러스함수\n",
    "- 지수함수와 로그함수를 결합하여 만든 함수\n",
    "- 최대함수(ReLU)와 비슷하지만 $x=0$ 근처에서 값이 부드럽게 변한다는 장점 \n",
    "\n",
    "$ \n",
    "\\zeta(x) = \\log( 1 + \\exp(x))\n",
    "$"
   ]
  },
  {
   "cell_type": "markdown",
   "metadata": {},
   "source": [
    "### 다변수함수\n",
    "- 복수의 입력변수를 가지는 함수\n",
    "\n",
    "$ \n",
    "w = f(x, y) \n",
    "$"
   ]
  },
  {
   "cell_type": "markdown",
   "metadata": {},
   "source": [
    "### 함수의 평행이동\n",
    "- 단변수함수를 그래프 상에서 오른쪽으로 $a$만큼 평행\n",
    "\n",
    "$\n",
    "f(x) \\;\\; \\rightarrow \\;\\; f(x-a)\n",
    "$\n"
   ]
  },
  {
   "cell_type": "markdown",
   "metadata": {},
   "source": [
    "### 함수의 스케일링\n",
    "- 단변수함수를 x축 방향으로 k배만큼 늘릴때\n",
    "\n",
    "$\n",
    "f(x) \\;\\; \\rightarrow \\;\\; f\\left(\\frac{x}{k}\\right)\n",
    "$\n",
    "\n",
    "- 단변수함수를 y축 방향으로 k배만큼 늘릴때\n",
    "\n",
    "$\n",
    "f(x) \\;\\; \\rightarrow \\;\\; kf(x)\n",
    "$\n"
   ]
  }
 ],
 "metadata": {
  "kernelspec": {
   "display_name": "Python 3",
   "language": "python",
   "name": "python3"
  },
  "language_info": {
   "codemirror_mode": {
    "name": "ipython",
    "version": 3
   },
   "file_extension": ".py",
   "mimetype": "text/x-python",
   "name": "python",
   "nbconvert_exporter": "python",
   "pygments_lexer": "ipython3",
   "version": "3.7.3"
  }
 },
 "nbformat": 4,
 "nbformat_minor": 2
}
