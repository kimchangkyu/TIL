{
 "cells": [
  {
   "cell_type": "markdown",
   "metadata": {},
   "source": [
    "## 미분"
   ]
  },
  {
   "cell_type": "markdown",
   "metadata": {},
   "source": [
    "예측모형 함수의 계수 = 모수 \n",
    "\n",
    "우리가 결정할 수 있는 것은 선형예측모형의 가중치 $w$ \n",
    "\n",
    "이 가중치 $w$의 값이 모수이다.\n",
    "\n",
    "- 목적함수(objective function): 성능함수, 손실함수, 비용함수, 오차함수 등 최적화의 대상이 되는 함수를 통틀은 것\n",
    "\n",
    "- 최적화(optmization) : 목적함수가 주어졌을 때 이 목적함수의 값을 가장 크게 혹은 적게 할 수 있는 모수를 구하는 것 \n",
    "\n",
    "- **미분(differentiation)** : 최적화를 하기 위해서는 입력값이 변했을 때 함수의 출력값이 어떻게 달라지는지를 정량적으로 알아야 한다. 이러한 과정."
   ]
  },
  {
   "cell_type": "markdown",
   "metadata": {},
   "source": [
    "### 기울기\n",
    "**기울기(slope)** $dx$값이 0으로 근접할 때의 변화율을 말한다.\n",
    "\n",
    "$ \n",
    "\\text{slope} = \\lim_{\\Delta x \\rightarrow 0} \\dfrac{f(x + \\Delta x) - f(x)}{\\Delta x} \n",
    "$"
   ]
  },
  {
   "cell_type": "markdown",
   "metadata": {},
   "source": [
    "### 수치미분(numerical differentiation)\n",
    "- scipy.misc 패키지의 ``derivative()`` 명령으로 수치적으로 대략적인 기울기를 계산가능.\n",
    "\n",
    "대략적인 기울기 수식 \n",
    "\n",
    "$\n",
    "\\text{slope} \\approx \\dfrac{f\\left(x + \\dfrac{1}{2}dx\\right) - f\\left(x - \\dfrac{1}{2}dx\\right)}{dx} \n",
    "$\n",
    "\n",
    "이렇게 기울기를 구하는 방법을 **수치미분**이라고 한다. "
   ]
  },
  {
   "cell_type": "code",
   "execution_count": 6,
   "metadata": {},
   "outputs": [
    {
     "name": "stdout",
     "output_type": "stream",
     "text": [
      "0.9999999999960001\n"
     ]
    }
   ],
   "source": [
    "from scipy.misc import derivative\n",
    "\n",
    "def f(x):\n",
    "    return x ** 4 - 4 * x ** 3 + x ** 2 + x\n",
    "\n",
    "print(derivative(f, 0, dx=1e-6))"
   ]
  },
  {
   "cell_type": "markdown",
   "metadata": {},
   "source": [
    "### 미분\n",
    "- **어떤 함수로부터 그 함수 기울기를 출력하는 새로운 함수를 만들어내는 작업**\n",
    "- **도함수(derivative)** : 미분으로 만들어진 함수\n",
    "\n",
    "    -    $ \n",
    "         f' = \\dfrac{d}{dx}(f) = \\dfrac{df}{dx} \n",
    "         $\n",
    "\n",
    "- 읽는 방법\n",
    "\n",
    "    - $f'$ =  \"f 프라임(prime)\"\n",
    "    - $\\dfrac{df}{dx}$는 \"df 오버(over) dx\""
   ]
  },
  {
   "cell_type": "markdown",
   "metadata": {},
   "source": [
    "### 미분가능\n",
    "- 함수가 $x=0$인 위치에서 기울기를 정의할 수 없는 경우\n",
    "    - 이런 경우에는 $x=0$에서 **미분 불가능(not differentiable)** \n",
    "- 함수가 $x=0$인 위치에서 기울기를 정의할 수 있는 경우\n",
    "    - **미분 가능(differentiable)**"
   ]
  },
  {
   "cell_type": "markdown",
   "metadata": {},
   "source": [
    "### 미분공식"
   ]
  },
  {
   "cell_type": "markdown",
   "metadata": {},
   "source": [
    "#### 1. 기본 미분공식\n",
    "- 상수, 거듭제곱, 로그함수, 지수함수 등의 간단한 함수에 대한 미분공식\n",
    "    - (1) 상수\n",
    "        - 상수를 미분하면 0이 된다.\n",
    "\n",
    "            $ \n",
    "            \\dfrac{d}{dx}(c) = 0 \n",
    "            $\n",
    "    \n",
    "    - (2) 거듭제곱\n",
    "        - $x$의 $n$ 제곱을 미분하면 $n-1$ 제곱으로 제곱수가 1씩 감소. $n=0$일 때는 성립하지 않는다.\n",
    "\n",
    "            $\n",
    "            \\dfrac{d}{dx}(x^n) = n x^{n-1} \n",
    "            $\n",
    "            \n",
    "    - (3) 로그\n",
    "        - 로그함수를 미분하면 $x^{-1}$이 된다.\n",
    "\n",
    "            $ \n",
    "            \\dfrac{d}{dx}(\\log x) = \\dfrac{1}{x} \n",
    "            $\n",
    "            \n",
    "    - (4) 지수\n",
    "\n",
    "        - 밑이 오일러 수인 지수함수는 미분해도 변하지 않음.\n",
    "\n",
    "            $ \n",
    "            \\dfrac{d}{dx}(e^x) = e^x\n",
    "            $"
   ]
  },
  {
   "cell_type": "markdown",
   "metadata": {},
   "source": [
    "#### 2. 선형조합법칙\n",
    "- 상수를 곱한 후 더한 **선형조합(linear combination)**은 각 함수의 도함수를 선형조합한 것과 같다.\n",
    "\n",
    "$ \n",
    "\\dfrac{d}{dx}\\left(a_1 f_1 + a_2 f_2 \\right) = a_1 \\dfrac{df_1}{dx} + a_2 \\dfrac{df_2}{dx}\n",
    "$\n"
   ]
  },
  {
   "cell_type": "markdown",
   "metadata": {},
   "source": [
    "#### 3. 곱셈법칙\n",
    "- **곱셈법칙** : 어떤 함수의 형태가 두 함수를 곱한 것과 같을 때, 각 개별 함수의 도함수를 사용하여 원래 함수의 도함수를 구하는 것\n",
    "\n",
    "$  \n",
    "\\dfrac{d}{dx}\\big( f  \\cdot g \\big) = f \\cdot  \\dfrac{dg}{dx} + \\dfrac{df}{dx} \\cdot g \n",
    "$"
   ]
  },
  {
   "cell_type": "markdown",
   "metadata": {},
   "source": [
    "#### 4. 연쇄법칙\n",
    "- 미분하고자 하는 함수의 입력 변수가 다른 함수의 출력 변수인 경우 적용가능.\n",
    "\n",
    "$\n",
    "f(x) = h(g(x))\n",
    "$ \n",
    "\n",
    "일 때, 도함수는 \n",
    "\n",
    "$ \n",
    "\\dfrac{df}{dx} = \\dfrac{dh}{dg} \\cdot \\dfrac{dg}{dx}\n",
    "$\n",
    "\n",
    "\n",
    "- 로그 함수에 연쇄법칙을 적용.\n",
    "\n",
    "$\n",
    "\\dfrac{d}{dx} \\log f(x) = \\dfrac{f'(x)}{f(x)} \n",
    "$"
   ]
  },
  {
   "cell_type": "markdown",
   "metadata": {},
   "source": [
    "### 2차 도함수\n",
    "- 도함수를 한 번 더 미분하여 만들어진 함수\n",
    "- 2차 도함수는 2개의 prime 기호($''$)를 붙이거나 $\\dfrac{d^2}{dx^2}$ 기호로 표시.\n",
    "\n",
    "$ \n",
    "f'' = \\dfrac{d^2}{dx^2}(f) = \\dfrac{d^2f}{dx^2} \n",
    "$\n",
    "\n",
    "\n",
    "- 2차 도함수는 도함수의 기울기를 나타낸다\n",
    "    - 도함수 값이 증가하면 2차 도함수 값은 양수 : 2차 도함수 값이 양수인 경우를 **볼록(convex)**\n",
    "    - 도함수 값이 감소하면 2차 도함수 값은 음수 : 2차 도함수 값이 음수인 경우를 **오목(concave)**\n",
    "    - 그래서 2차 도함수값을 **볼록도(convexity)**라고도 부른다. \n",
    "\n"
   ]
  },
  {
   "cell_type": "markdown",
   "metadata": {},
   "source": [
    "### 편미분\n",
    "- 함수가 둘 이상의 독립변수를 가지는 다변수 함수인 경우의 미분\n",
    "\n",
    "- 편미분의 결과로 하나의 함수에 대해 여러 개의 도함수가 나올 수 있다.\n",
    "\n",
    "- 편미분의 결과 즉 도함수는 독립 변수를 함수의 아랫첨자로 써서 표기하거나 $\\partial$(round) 기호를 사용하여 표기.\n",
    "\n",
    "    $ \n",
    "    f_x(x,y) = \\dfrac{\\partial f}{\\partial x}\n",
    "    $\n",
    "\n",
    "    $ \n",
    "    f_y(x,y) = \\dfrac{\\partial f}{\\partial y} \n",
    "    $\n",
    "\n",
    "- 편미분 방법 \n",
    "    - 변수가 하나인 함수의 미분과 같다. \n",
    "    - **어떤 하나의 독립 변수에 대해 미분할 때는 다른 독립 변수를 상수로 생각한다**. \n",
    "    - ex)\n",
    "    \n",
    "        $\n",
    "        f(x,y) = x^2 + 4xy + 2y^2\n",
    "        $\n",
    "\n",
    "        $\n",
    "        f_x(x,y) = \\dfrac{\\partial f}{\\partial x} = 2x + 4y\n",
    "        $\n",
    "\n",
    "        $\n",
    "        f_y(x,y) = \\dfrac{\\partial f}{\\partial y} = 4x + 4y\n",
    "        $\n"
   ]
  },
  {
   "cell_type": "markdown",
   "metadata": {},
   "source": [
    "### 다변수 함수의 연쇄법칙\n",
    "$\n",
    "y_N = f_N(x) \n",
    "$\n",
    "\n",
    "$\n",
    "z = g(y_1, y_2, \\ldots, y_N)\n",
    "$\n",
    "\n",
    "이때 변수 $x$ 값의 변화에 따른 $z$ 값의 변화는 다음처럼 계산.\n",
    "\n",
    "$ \n",
    "\\dfrac{dz}{dx} \n",
    "= \\dfrac{\\partial z}{\\partial y_1}\\dfrac{dy_1}{dx} + \\cdots\n",
    "+ \\dfrac{\\partial z}{\\partial y_N}\\dfrac{dy_N}{dx} \n",
    "$"
   ]
  },
  {
   "cell_type": "markdown",
   "metadata": {},
   "source": [
    "### 심파이(SymPy)를 이용한 미분\n",
    "- **심볼릭 연산(symbolic operation)**을 지원하는 파이썬 패키지\n",
    "    - 심볼릭 연산 : 사람이 연필로 계산하는 미분/적분과 동일한 형태의 연산 "
   ]
  },
  {
   "cell_type": "code",
   "execution_count": 7,
   "metadata": {},
   "outputs": [],
   "source": [
    "import sympy\n",
    "sympy.init_printing(use_latex='mathjax') # Juypter notebook에서 수학식의 LaTeX 표현을 위해"
   ]
  },
  {
   "cell_type": "code",
   "execution_count": 8,
   "metadata": {},
   "outputs": [
    {
     "data": {
      "text/latex": [
       "$$x$$"
      ],
      "text/plain": [
       "x"
      ]
     },
     "execution_count": 8,
     "metadata": {},
     "output_type": "execute_result"
    }
   ],
   "source": [
    "x = sympy.symbols('x')\n",
    "x"
   ]
  },
  {
   "cell_type": "code",
   "execution_count": 9,
   "metadata": {},
   "outputs": [
    {
     "data": {
      "text/latex": [
       "$$x e^{x}$$"
      ],
      "text/plain": [
       "   x\n",
       "x⋅ℯ "
      ]
     },
     "execution_count": 9,
     "metadata": {},
     "output_type": "execute_result"
    }
   ],
   "source": [
    "f = x * sympy.exp(x)\n",
    "f"
   ]
  }
 ],
 "metadata": {
  "kernelspec": {
   "display_name": "Python 3",
   "language": "python",
   "name": "python3"
  },
  "language_info": {
   "codemirror_mode": {
    "name": "ipython",
    "version": 3
   },
   "file_extension": ".py",
   "mimetype": "text/x-python",
   "name": "python",
   "nbconvert_exporter": "python",
   "pygments_lexer": "ipython3",
   "version": "3.7.3"
  }
 },
 "nbformat": 4,
 "nbformat_minor": 2
}
