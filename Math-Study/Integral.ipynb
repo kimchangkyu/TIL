{
 "cells": [
  {
   "cell_type": "markdown",
   "metadata": {},
   "source": [
    "## 적분\n",
    "- 미분과 반대되는 개념\n",
    "- 부정적분(indefinite integral)\n",
    "- 정적분(definite integral)"
   ]
  },
  {
   "cell_type": "markdown",
   "metadata": {},
   "source": [
    "### 부정적분(indefinite integral)\n",
    "- **정확하게 미분과 반대되는 개념, 반-미분(anti-derivative)**\n",
    "\n",
    "- 부정적분으로 찾은 원래의 함수를 표기\n",
    "    - $\\int$ 기호(integral)로 나타내는 것이 일반적\n",
    "\n",
    "- 도함수가 $f(x)$이므로 미분하기 전의 함수를 $F(x)$ 또는 $\\int f(x)dx$로 쓴다. \n",
    "- $dx$는 $x$라는 변수로 적분했다는 것을 나타내는 기호로 편미분에 대응하는 적분을 표기할 때 필요하다.\n",
    "\n",
    "    $ \n",
    "    \\dfrac{dF(x)}{dx} = f(x) \\;\\;\\leftrightarrow\\;\\; F(x) = \\int_{}^{} f(x) dx + C \n",
    "    $\n",
    "\n",
    "- $C$는 상수항을 의미\n",
    "    - 상수항은 미분하면 0이 되므로 부정적분은 무한 개의 해가 존재 \n",
    "    - $C$는 당연하므로 생략하고 쓰는 경우도 있다."
   ]
  },
  {
   "cell_type": "markdown",
   "metadata": {},
   "source": [
    "### 편미분의 부정적분\n",
    "- 편미분을 한 도함수에서 원래의 함수를 찾을 수도 있다.\n",
    "- $f(x, y)$가 함수 $F(x, y)$를 $x$로 편미분한 함수일 때\n",
    "\n",
    "    $\n",
    "    \\dfrac{\\partial F(x, y)}{\\partial x} = f(x, y) \\; \\leftrightarrow \\; F(x, y) = \\int_{}^{} f(x, y) dx + C(y)\n",
    "    $\n",
    "\n",
    "- $f(x, y)$가 함수 $F(x, y)$를 $y$로 편미분한 함수일 때\n",
    "\n",
    "    $\n",
    "    \\dfrac{\\partial F(x, y)}{\\partial y} = f(x, y) \\; \\leftrightarrow \\; F(x, y) = \\int_{}^{} f(x, y) dy + C(x)  \n",
    "    $\n"
   ]
  },
  {
   "cell_type": "markdown",
   "metadata": {},
   "source": [
    "### 다차 도함수와 다중적분\n",
    "- 미분을 여러번 한 결과로 나온 다차 도함수로부터 원래의 함수를 찾아낼때\n",
    "\n",
    "    $ \n",
    "    \\iint f(x, y) dydx\n",
    "    $"
   ]
  },
  {
   "cell_type": "markdown",
   "metadata": {},
   "source": [
    "## 심파이를 이용한 부정적분\n",
    "- 심파이의 `integrate()` 명령을 사용"
   ]
  },
  {
   "cell_type": "code",
   "execution_count": 3,
   "metadata": {},
   "outputs": [
    {
     "data": {
      "text/latex": [
       "$$x e^{x}$$"
      ],
      "text/plain": [
       "   x\n",
       "x⋅ℯ "
      ]
     },
     "execution_count": 3,
     "metadata": {},
     "output_type": "execute_result"
    }
   ],
   "source": [
    "import sympy\n",
    "\n",
    "sympy.init_printing(use_latex='mathjax')\n",
    "\n",
    "x = sympy.symbols('x')\n",
    "f = x * sympy.exp(x)\n",
    "f"
   ]
  },
  {
   "cell_type": "code",
   "execution_count": 4,
   "metadata": {},
   "outputs": [
    {
     "data": {
      "text/latex": [
       "$$\\left(x - 1\\right) e^{x}$$"
      ],
      "text/plain": [
       "         x\n",
       "(x - 1)⋅ℯ "
      ]
     },
     "execution_count": 4,
     "metadata": {},
     "output_type": "execute_result"
    }
   ],
   "source": [
    "sympy.integrate(f)"
   ]
  },
  {
   "cell_type": "markdown",
   "metadata": {},
   "source": [
    "### 정적분\n",
    "- **독립변수 $x$가 어떤 구간 $[a, b]$ 사이일 때 그 구간에서 함수 $f(x)$의 값과 x 축이 이루는 면적**을 구하는 행위 or 값\n",
    "\n",
    "    $\n",
    "    \\int_{a}^{b} f(x) dx \n",
    "    $\n",
    "- 정적분 구하는 방법    \n",
    "    - 미적분학의 기본 정리를 사용하여 푸는 방법\n",
    "    - 수치적분(numerical integration)방법"
   ]
  },
  {
   "cell_type": "markdown",
   "metadata": {},
   "source": [
    "#### 미적분학의 기본 정리(Fundamental Theorem of Calculus)\n",
    "- 부정적분으로 구한 함수 $F(x)$를 이용하면 다음처럼 정적분의 값을 구할 수 있다. \n",
    "\n",
    "    $ \n",
    "    \\int_{a}^{b} f(x) dx = F(b) - F(a)  \n",
    "    $"
   ]
  },
  {
   "cell_type": "markdown",
   "metadata": {},
   "source": [
    "### 수치적분\n",
    "- 함수를 아주 작은 구간으로 나누어 실제 면적을 계산해 값을 구하는 방법."
   ]
  },
  {
   "cell_type": "code",
   "execution_count": 6,
   "metadata": {},
   "outputs": [
    {
     "data": {
      "text/latex": [
       "$$\\left ( 15.333333333333332, \\quad 1.7023419710919066e-13\\right )$$"
      ],
      "text/plain": [
       "(15.333333333333332, 1.7023419710919066e-13)"
      ]
     },
     "execution_count": 6,
     "metadata": {},
     "output_type": "execute_result"
    }
   ],
   "source": [
    "import scipy as sp\n",
    "def f(x):\n",
    "    return 2 * x ** 3 - 4 * x ** 2 + x + 8\n",
    "sp.integrate.quad(f, 0, 2)  # 수치적분, Scipy의 integrate 서브패키지의 quad 명령"
   ]
  },
  {
   "cell_type": "markdown",
   "metadata": {},
   "source": [
    "### 다변수 정적분\n",
    "- 입력 변수가 2개인 2차원 함수 $ f(x, y) $\n",
    "- 두 변수로 모두 적분하는 것은 2차원 평면에서 주어진 사각형 영역 아래의 부피를 구하는 것과 같다.\n",
    "\n",
    "    $  \n",
    "    \\int_{y=c}^{y=d} \\int_{x=a}^{x=b} f(x, y) dx dy \n",
    "    $"
   ]
  },
  {
   "cell_type": "markdown",
   "metadata": {},
   "source": [
    "### 다차원 함수의 단일 정적분\n",
    "- 2차원 함수이지만 이중적분을 하지 않고 단일 정적분을 하는 경우\n",
    "    - 하나의 변수만 진짜 변수로 보고 나머지 하나는 상수라고 간주하는 경우 \n",
    "\n",
    "    $\n",
    "    \\int_a^b f(x, y) dx\n",
    "    $"
   ]
  }
 ],
 "metadata": {
  "kernelspec": {
   "display_name": "Python 3",
   "language": "python",
   "name": "python3"
  },
  "language_info": {
   "codemirror_mode": {
    "name": "ipython",
    "version": 3
   },
   "file_extension": ".py",
   "mimetype": "text/x-python",
   "name": "python",
   "nbconvert_exporter": "python",
   "pygments_lexer": "ipython3",
   "version": "3.7.3"
  }
 },
 "nbformat": 4,
 "nbformat_minor": 2
}
