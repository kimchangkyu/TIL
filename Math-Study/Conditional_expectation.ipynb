{
 "cells": [
  {
   "cell_type": "markdown",
   "metadata": {},
   "source": [
    "## 조건부기댓값(conditional expectation)과 예측 문제"
   ]
  },
  {
   "cell_type": "markdown",
   "metadata": {},
   "source": [
    "- 조건부기댓값 혹은 조건부평균\n",
    "- : 확률변수 $Y$의 기댓값을 구할 때 주변 확률밀도함수 $p_Y(y)$를 사용하여 가중치를 계산하지 않고 조건부 확률밀도함수 $p_{Y\\vert X}(y|x)$를 이용하여 가중치를 계산할 때\n",
    "\n",
    "\n",
    "\n",
    "$ \n",
    "\\text{E}_Y[Y \\vert X] \n",
    "= \\int_{y=-\\infty}^{y=\\infty} y \\, p_{Y \\vert X}(y|x) dy \n",
    "$\n",
    "\n",
    "또는\n",
    "\n",
    "$ \n",
    "\\text{E}[Y \\vert X] \n",
    "= \\int y \\, p(y|x) dy \n",
    "$\n"
   ]
  },
  {
   "cell_type": "markdown",
   "metadata": {},
   "source": [
    "- 조건부기댓값은 조건이 되는 확률변수의 값에 따라서 값이 달라지는 확률변수이다.\n",
    "- $\\text{E}[Y \\vert X]$는 조건이 되는 확률변수 $X$의 값 $x$를 입력으로 가지는 **함수**이다.\n",
    "\n",
    "$ \n",
    "\\text{E}[Y \\vert X=x] = f(x) \n",
    "$\n",
    "\n",
    "\n",
    "또는\n",
    "\n",
    "$\n",
    "\\text{E}[Y \\vert x] = f(x) \n",
    "$\n"
   ]
  },
  {
   "cell_type": "markdown",
   "metadata": {},
   "source": [
    "### 예측(prediction) 문제\n",
    "- 두 확률변수가 $X, Y$에서 $X$의 값을 알고 있을 때 $Y$의 값을 알아내는 것\n",
    "- $Y$가 연속확률변수면 회귀분석(regression analysis)\n",
    "- $Y$가 이산확률변수면 분류(classification)\n",
    "- 일반적으로 조건부확률분포의 기댓값인 조건부기댓값을 예측문제의 답으로 하는 경우가 많다\n",
    "\n",
    "    $\n",
    "    x \\xrightarrow {\\text{prediction}} \\hat{y} = E[y|x] = f(x)\n",
    "    $."
   ]
  },
  {
   "cell_type": "markdown",
   "metadata": {},
   "source": [
    "### 조건부기댓값의 성질\n",
    "- 조건부기댓값 $\\text{E}[Y \\vert X]$도 확률변수다.\n"
   ]
  },
  {
   "cell_type": "markdown",
   "metadata": {},
   "source": [
    "- 만약 확률변수 $Y$가 확률변수 $X$의 값을 독립변수로 하는 결정론적 함수값일때\n",
    "- $Y=g(X)$는 더이상 확률적인 값이 아니라 상수가 된다.\n",
    "\n",
    "    $\n",
    "    Y = g(X)\n",
    "    $\n",
    "\n",
    "\n",
    "- 사용자가 $X$의 값을 어떤 값 $x$로 정하는 순간 $Y$의 값도 결정되어 버리기 때문에 \n",
    "  \n",
    "    $\n",
    "    \\text{E}[Y \\vert X] = \\text{E}[g(X) \\vert X] = g(X)\n",
    "    $\n"
   ]
  },
  {
   "cell_type": "markdown",
   "metadata": {},
   "source": [
    "- 확률변수 $X$와 $Y$가 결정론적 함수 관계가 아닐 때도 다음 등식이 성립.\n",
    "\n",
    "    $\n",
    "    \\text{E}[g(X) Y \\vert X] = g(X) \\text{E}[Y \\vert X]\n",
    "    $"
   ]
  },
  {
   "cell_type": "markdown",
   "metadata": {},
   "source": [
    "### 전체 기댓값의 법칙(law of total expectation)\n",
    "- 조건부기댓값은 확률변수이므로 조건이 되는 확률변수에 대해 다시 기댓값을 구할 수 있다. \n",
    "- 이렇게 반복하여 구한 조건부기댓값의 기댓값은 원래 확률변수의 댓값과 같다.\n",
    "\n",
    "    $\n",
    "    \\text{E}_X[\\text{E}_Y[Y \\vert X]] = \\text{E}_Y[Y]\n",
    "    $\n",
    "\n",
    "    또는\n",
    "\n",
    "    $\n",
    "    \\text{E}[\\text{E}[Y \\vert X]] = \\text{E}[Y]\n",
    "    $\n"
   ]
  },
  {
   "cell_type": "markdown",
   "metadata": {},
   "source": [
    "### 조건부분산(conditional variance)\n",
    "- $x$의 값을 알고 있을 때 이에 대한 조건부확률분포 $p(y|x)$의 분산.\n",
    "- 예측문제의 관점으로 보면 조건부분산은 예측의 불확실성, 즉 예측으로 맞출 수 없는 범위를 뜻한다.\n",
    "\n",
    "    $ \n",
    "    \\text{Var}_Y[Y \\vert X] \n",
    "    = \\text{E}_Y[(Y - \\text{E}_Y[Y \\vert X])^2 \\vert X] \n",
    "    = \\int (Y - \\text{E}_Y[Y \\vert X])^2 f_{Y \\vert X}(y \\vert x) dy \n",
    "    $\n"
   ]
  },
  {
   "cell_type": "markdown",
   "metadata": {},
   "source": [
    "### 전체 분산의 법칙(law of total variance)\n",
    "- 확률변수의 분산은 조건부분산의 기댓값과 조건부기댓값의 분산의 합과 같다.\n",
    "\n",
    "    $\n",
    "    \\text{Var}[Y] = \\text{E}[\\text{Var}[Y\\vert X]] + \\text{Var}[\\text{E}[Y\\vert X]]\n",
    "    $\n"
   ]
  }
 ],
 "metadata": {
  "kernelspec": {
   "display_name": "Python 3",
   "language": "python",
   "name": "python3"
  },
  "language_info": {
   "codemirror_mode": {
    "name": "ipython",
    "version": 3
   },
   "file_extension": ".py",
   "mimetype": "text/x-python",
   "name": "python",
   "nbconvert_exporter": "python",
   "pygments_lexer": "ipython3",
   "version": "3.6.9"
  }
 },
 "nbformat": 4,
 "nbformat_minor": 2
}
