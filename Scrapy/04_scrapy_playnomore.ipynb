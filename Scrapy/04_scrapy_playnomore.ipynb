{
 "cells": [
  {
   "cell_type": "markdown",
   "metadata": {},
   "source": [
    "### Playnomore 사이트 데이터 수집\n",
    "- `http://playnomore.co.kr/`\n",
    "- scrapy에서 fake_useragent 사용\n",
    "- scrapy를 실행할때 아규먼트를 설정해서 실행\n",
    "- pipelines에서 데이터 베이스로 데이터를 저장"
   ]
  },
  {
   "cell_type": "code",
   "execution_count": 1,
   "metadata": {},
   "outputs": [],
   "source": [
    "import scrapy\n",
    "import requests\n",
    "from scrapy.http import TextResponse\n",
    "import pandas as pd"
   ]
  },
  {
   "cell_type": "markdown",
   "metadata": {},
   "source": [
    "### 1. 프로젝트 생성"
   ]
  },
  {
   "cell_type": "code",
   "execution_count": 2,
   "metadata": {},
   "outputs": [
    {
     "name": "stdout",
     "output_type": "stream",
     "text": [
      "New Scrapy project 'playnomore', using template directory '/home/ubuntu/.pyenv/versions/3.6.9/envs/python3/lib/python3.6/site-packages/scrapy/templates/project', created in:\r\n",
      "    /home/ubuntu/python3/notebook/fastcampus_1학기_수업내용/06_scrapy/playnomore\r\n",
      "\r\n",
      "You can start your first spider with:\r\n",
      "    cd playnomore\r\n",
      "    scrapy genspider example example.com\r\n"
     ]
    }
   ],
   "source": [
    "!rm -rf playnomore # 있으면 제거\n",
    "!scrapy startproject playnomore"
   ]
  },
  {
   "cell_type": "markdown",
   "metadata": {},
   "source": [
    "### 2. items.py\n",
    "- title, price, img, link"
   ]
  },
  {
   "cell_type": "code",
   "execution_count": null,
   "metadata": {},
   "outputs": [],
   "source": [
    "# items.py를 읽어온다.\n",
    "# %load playnomore/playnomore/items.py\n",
    "\n",
    "# Define here the models for your scraped items\n",
    "#\n",
    "# See documentation in:\n",
    "# https://docs.scrapy.org/en/latest/topics/items.html\n",
    "\n",
    "import scrapy\n",
    "\n",
    "\n",
    "class PlaynomoreItem(scrapy.Item):\n",
    "    # define the fields for your item here like:\n",
    "    # name = scrapy.Field()\n",
    "    pass\n"
   ]
  },
  {
   "cell_type": "markdown",
   "metadata": {},
   "source": [
    "- `%` : 한줄을 읽어서 실행\n",
    "- `%%` : 셀 단위를 읽어서 실행"
   ]
  },
  {
   "cell_type": "code",
   "execution_count": 3,
   "metadata": {},
   "outputs": [
    {
     "name": "stdout",
     "output_type": "stream",
     "text": [
      "Overwriting playnomore/playnomore/items.py\n"
     ]
    }
   ],
   "source": [
    "%%writefile playnomore/playnomore/items.py\n",
    "import scrapy\n",
    "\n",
    "\n",
    "class PlaynomoreItem(scrapy.Item):\n",
    "    title = scrapy.Field()\n",
    "    price = scrapy.Field()\n",
    "    img = scrapy.Field()\n",
    "    link = scrapy.Field()"
   ]
  },
  {
   "cell_type": "markdown",
   "metadata": {},
   "source": [
    "### 3. xpath 확인\n",
    "- 링크\n",
    "- 링크 -> 상세페이지(제목, 이미지URL, 가격)\n",
    "- fake_useragent install\n",
    "    - `pip install fake_useragent`"
   ]
  },
  {
   "cell_type": "code",
   "execution_count": 4,
   "metadata": {},
   "outputs": [
    {
     "data": {
      "text/plain": [
       "<Response [403]>"
      ]
     },
     "execution_count": 4,
     "metadata": {},
     "output_type": "execute_result"
    }
   ],
   "source": [
    "url = \"http://playnomore.co.kr/category/bag/24/\"\n",
    "req = requests.get(url)\n",
    "req\n",
    "# <Response [403]> : useagent를 체크해서 막고있기 때문이다."
   ]
  },
  {
   "cell_type": "code",
   "execution_count": null,
   "metadata": {},
   "outputs": [],
   "source": [
    "!pip install fake_useragent"
   ]
  },
  {
   "cell_type": "code",
   "execution_count": 6,
   "metadata": {},
   "outputs": [
    {
     "data": {
      "text/plain": [
       "<200 http://playnomore.co.kr/category/bag/24/>"
      ]
     },
     "execution_count": 6,
     "metadata": {},
     "output_type": "execute_result"
    }
   ],
   "source": [
    "from fake_useragent import UserAgent\n",
    "url = \"http://playnomore.co.kr/category/bag/24/\"\n",
    "headers = {\"User-Agent\" : UserAgent().chrome}\n",
    "req = requests.get(url, headers=headers)\n",
    "req # <Response [200]> : 잘 된것을 확인\n",
    "response = TextResponse(req.url, body=req.text, encoding=\"utf-8\")\n",
    "response"
   ]
  },
  {
   "cell_type": "markdown",
   "metadata": {},
   "source": [
    "#### 상세페이지 링크"
   ]
  },
  {
   "cell_type": "code",
   "execution_count": 13,
   "metadata": {},
   "outputs": [],
   "source": [
    "links = response.xpath('//*[@id=\"contents\"]/div[2]/div/ul/li/div/a/@href').extract()\n",
    "\n",
    "# response.urljoin(links[0]) # 도메인이 없어서 도메인을 추가 : urljoin(links[0])\n",
    "\n",
    "links = list(map(response.urljoin, links)) # 한페이지의 데이터"
   ]
  },
  {
   "cell_type": "markdown",
   "metadata": {},
   "source": [
    "#### 상세페이지 : 제목, 가격, 이미지URL 가져오기"
   ]
  },
  {
   "cell_type": "code",
   "execution_count": 15,
   "metadata": {},
   "outputs": [
    {
     "data": {
      "text/plain": [
       "<200 http://playnomore.co.kr/product/black-play-day-10-micro-baguette-grey-python-180/547/?cate_no=24&display_group=1>"
      ]
     },
     "execution_count": 15,
     "metadata": {},
     "output_type": "execute_result"
    }
   ],
   "source": [
    "url = links[0]\n",
    "headers = {\"User-Agent\" : UserAgent().chrome}\n",
    "req = requests.get(url, headers=headers)\n",
    "response = TextResponse(req.url, body=req.text, encoding=\"utf-8\")\n",
    "response"
   ]
  },
  {
   "cell_type": "markdown",
   "metadata": {},
   "source": [
    "#### 타이들을 두개로 나누어서 가져와야된다.\n",
    "- 하위 엘리먼트의 텍스트는 가져오지 않기 때문이다."
   ]
  },
  {
   "cell_type": "code",
   "execution_count": 18,
   "metadata": {},
   "outputs": [
    {
     "data": {
      "text/plain": [
       "'[Black Play-Day 10%] MICRO BAGUETTE grey python '"
      ]
     },
     "execution_count": 18,
     "metadata": {},
     "output_type": "execute_result"
    }
   ],
   "source": [
    "title1 = response.xpath('//*[@id=\"contents\"]/div[1]/div[1]/div[2]/div[1]/font/text()').extract()\n",
    "title2 = response.xpath('//*[@id=\"contents\"]/div[1]/div[1]/div[2]/div[1]/text()').extract()\n",
    "\n",
    "title = \"\".join(title1) + \"\".join(title2)\n",
    "title"
   ]
  },
  {
   "cell_type": "markdown",
   "metadata": {},
   "source": [
    "#### 가격 가져오기"
   ]
  },
  {
   "cell_type": "code",
   "execution_count": 19,
   "metadata": {},
   "outputs": [
    {
     "data": {
      "text/plain": [
       "'$ 162'"
      ]
     },
     "execution_count": 19,
     "metadata": {},
     "output_type": "execute_result"
    }
   ],
   "source": [
    "price = response.xpath('//*[@id=\"contents\"]/div[1]/div[1]/div[2]/div[2]/text()').extract()[0]\n",
    "price"
   ]
  },
  {
   "cell_type": "markdown",
   "metadata": {},
   "source": [
    "#### 이미지 URL 가져오기"
   ]
  },
  {
   "cell_type": "code",
   "execution_count": 21,
   "metadata": {},
   "outputs": [
    {
     "data": {
      "text/plain": [
       "'http://playnomore.co.kr/web/product/big/201910/596078374708bbb81ffd629a8cf88950.jpg'"
      ]
     },
     "execution_count": 21,
     "metadata": {},
     "output_type": "execute_result"
    }
   ],
   "source": [
    "img = \"http:\" + response.xpath('//*[@id=\"contents\"]/div[1]/div[1]/div[1]/div[1]/img/@src').extract()[0]\n",
    "img"
   ]
  },
  {
   "cell_type": "markdown",
   "metadata": {},
   "source": [
    "### 4. spider.py\n",
    "- scrapy-fake-useragent install\n",
    "    - `pip install scrapy-fake-useragent`"
   ]
  },
  {
   "cell_type": "code",
   "execution_count": 22,
   "metadata": {},
   "outputs": [
    {
     "name": "stdout",
     "output_type": "stream",
     "text": [
      "Collecting scrapy-fake-useragent\n",
      "  Downloading https://files.pythonhosted.org/packages/0d/1b/c9e5f1917c87a09787271933dcd4bface93ee60248a6a85cc98f2fd58e2c/scrapy_fake_useragent-1.1.0-py2.py3-none-any.whl\n",
      "Requirement already satisfied: fake-useragent in /home/ubuntu/.pyenv/versions/3.6.9/envs/python3/lib/python3.6/site-packages (from scrapy-fake-useragent) (0.1.11)\n",
      "Installing collected packages: scrapy-fake-useragent\n",
      "Successfully installed scrapy-fake-useragent-1.1.0\n",
      "\u001b[33mYou are using pip version 18.1, however version 19.3.1 is available.\n",
      "You should consider upgrading via the 'pip install --upgrade pip' command.\u001b[0m\n"
     ]
    }
   ],
   "source": [
    "!pip install scrapy-fake-useragent"
   ]
  },
  {
   "cell_type": "code",
   "execution_count": 23,
   "metadata": {},
   "outputs": [
    {
     "name": "stdout",
     "output_type": "stream",
     "text": [
      "fake-useragent        0.1.11   \n",
      "scrapy-fake-useragent 1.1.0    \n",
      "\u001b[33mYou are using pip version 18.1, however version 19.3.1 is available.\n",
      "You should consider upgrading via the 'pip install --upgrade pip' command.\u001b[0m\n"
     ]
    }
   ],
   "source": [
    "!pip list | grep fake"
   ]
  },
  {
   "cell_type": "code",
   "execution_count": 40,
   "metadata": {},
   "outputs": [
    {
     "name": "stdout",
     "output_type": "stream",
     "text": [
      "Overwriting playnomore/playnomore/spiders/spider.py\n"
     ]
    }
   ],
   "source": [
    "%%writefile playnomore/playnomore/spiders/spider.py\n",
    "import scrapy\n",
    "from playnomore.items import PlaynomoreItem\n",
    "\n",
    "\n",
    "class PlaynomoreSpider(scrapy.Spider):\n",
    "    # 이 이름을 사용해야 한다 규칙이다.\n",
    "    name = \"Playnomore\"\n",
    "    custom_settings = {\n",
    "        'DOWNLOADER_MIDDLEWARES': {\n",
    "            'scrapy.downloadermiddlewares.useragent.UserAgentMiddleware': None,\n",
    "            'scrapy_fake_useragent.middleware.RandomUserAgentMiddleware': 400,\n",
    "        }\n",
    "    }\n",
    "    \n",
    "    def start_requests(self):\n",
    "        url = \"http://playnomore.co.kr/category/bag/24/\"\n",
    "        yield scrapy.Request(url, callback=self.parse)\n",
    "        \n",
    "    def parse(self, response):\n",
    "        links = response.xpath('//*[@id=\"contents\"]/div[2]/div/ul/li/div/a/@href').extract()\n",
    "        links = list(map(response.urljoin, links))\n",
    "        for link in links:\n",
    "            yield scrapy.Request(link, callback=self.page_parse)\n",
    "                         \n",
    "    # 상세페이지 데이터를 객체로 만든다.\n",
    "    def page_parse(self, response):\n",
    "        item = PlaynomoreItem()\n",
    "        title1 = response.xpath('//*[@id=\"contents\"]/div[1]/div[1]/div[2]/div[1]/font/text()').extract()\n",
    "        title2 = response.xpath('//*[@id=\"contents\"]/div[1]/div[1]/div[2]/div[1]/text()').extract()\n",
    "        item[\"title\"] = \"\".join(title1) + \"\".join(title2)\n",
    "        item[\"price\"] = response.xpath('//*[@id=\"contents\"]/div[1]/div[1]/div[2]/div[2]/text()').extract()[0]\n",
    "        item[\"img\"] = \"http:\" + response.xpath('//*[@id=\"contents\"]/div[1]/div[1]/div[1]/div[1]/img/@src').extract()[0]\n",
    "        item[\"link\"] = response.url\n",
    "        yield item"
   ]
  },
  {
   "cell_type": "code",
   "execution_count": 41,
   "metadata": {},
   "outputs": [
    {
     "name": "stdout",
     "output_type": "stream",
     "text": [
      "Overwriting run.sh\n"
     ]
    }
   ],
   "source": [
    "%%writefile run.sh\n",
    "cd playnomore\n",
    "scrapy crawl Playnomore -o playnomore.csv"
   ]
  },
  {
   "cell_type": "code",
   "execution_count": 43,
   "metadata": {},
   "outputs": [],
   "source": [
    "!chmod +x run.sh"
   ]
  },
  {
   "cell_type": "code",
   "execution_count": 44,
   "metadata": {
    "collapsed": true
   },
   "outputs": [
    {
     "name": "stdout",
     "output_type": "stream",
     "text": [
      "2019-11-28 05:24:27 [scrapy.utils.log] INFO: Scrapy 1.8.0 started (bot: playnomore)\n",
      "2019-11-28 05:24:27 [scrapy.utils.log] INFO: Versions: lxml 4.4.1.0, libxml2 2.9.9, cssselect 1.1.0, parsel 1.5.2, w3lib 1.21.0, Twisted 19.10.0, Python 3.6.9 (default, Oct 24 2019, 05:23:48) - [GCC 7.4.0], pyOpenSSL 19.1.0 (OpenSSL 1.1.1d  10 Sep 2019), cryptography 2.8, Platform Linux-4.15.0-1052-aws-x86_64-with-debian-buster-sid\n",
      "2019-11-28 05:24:27 [scrapy.crawler] INFO: Overridden settings: {'BOT_NAME': 'playnomore', 'FEED_FORMAT': 'csv', 'FEED_URI': 'playnomore.csv', 'NEWSPIDER_MODULE': 'playnomore.spiders', 'ROBOTSTXT_OBEY': True, 'SPIDER_MODULES': ['playnomore.spiders']}\n",
      "2019-11-28 05:24:27 [scrapy.extensions.telnet] INFO: Telnet Password: b0c82527e89468e1\n",
      "2019-11-28 05:24:27 [scrapy.middleware] INFO: Enabled extensions:\n",
      "['scrapy.extensions.corestats.CoreStats',\n",
      " 'scrapy.extensions.telnet.TelnetConsole',\n",
      " 'scrapy.extensions.memusage.MemoryUsage',\n",
      " 'scrapy.extensions.feedexport.FeedExporter',\n",
      " 'scrapy.extensions.logstats.LogStats']\n",
      "2019-11-28 05:24:27 [scrapy.middleware] INFO: Enabled downloader middlewares:\n",
      "['scrapy.downloadermiddlewares.robotstxt.RobotsTxtMiddleware',\n",
      " 'scrapy.downloadermiddlewares.httpauth.HttpAuthMiddleware',\n",
      " 'scrapy.downloadermiddlewares.downloadtimeout.DownloadTimeoutMiddleware',\n",
      " 'scrapy.downloadermiddlewares.defaultheaders.DefaultHeadersMiddleware',\n",
      " 'scrapy_fake_useragent.middleware.RandomUserAgentMiddleware',\n",
      " 'scrapy.downloadermiddlewares.retry.RetryMiddleware',\n",
      " 'scrapy.downloadermiddlewares.redirect.MetaRefreshMiddleware',\n",
      " 'scrapy.downloadermiddlewares.httpcompression.HttpCompressionMiddleware',\n",
      " 'scrapy.downloadermiddlewares.redirect.RedirectMiddleware',\n",
      " 'scrapy.downloadermiddlewares.cookies.CookiesMiddleware',\n",
      " 'scrapy.downloadermiddlewares.httpproxy.HttpProxyMiddleware',\n",
      " 'scrapy.downloadermiddlewares.stats.DownloaderStats']\n",
      "2019-11-28 05:24:27 [scrapy.middleware] INFO: Enabled spider middlewares:\n",
      "['scrapy.spidermiddlewares.httperror.HttpErrorMiddleware',\n",
      " 'scrapy.spidermiddlewares.offsite.OffsiteMiddleware',\n",
      " 'scrapy.spidermiddlewares.referer.RefererMiddleware',\n",
      " 'scrapy.spidermiddlewares.urllength.UrlLengthMiddleware',\n",
      " 'scrapy.spidermiddlewares.depth.DepthMiddleware']\n",
      "2019-11-28 05:24:27 [scrapy.middleware] INFO: Enabled item pipelines:\n",
      "[]\n",
      "2019-11-28 05:24:27 [scrapy.core.engine] INFO: Spider opened\n",
      "2019-11-28 05:24:27 [scrapy.extensions.logstats] INFO: Crawled 0 pages (at 0 pages/min), scraped 0 items (at 0 items/min)\n",
      "2019-11-28 05:24:27 [scrapy.extensions.telnet] INFO: Telnet console listening on 127.0.0.1:6023\n",
      "2019-11-28 05:24:27 [scrapy.core.engine] DEBUG: Crawled (200) <GET http://playnomore.co.kr/robots.txt> (referer: None)\n",
      "2019-11-28 05:24:27 [scrapy.core.engine] DEBUG: Crawled (200) <GET http://playnomore.co.kr/category/bag/24/> (referer: None)\n",
      "2019-11-28 05:24:27 [scrapy.downloadermiddlewares.redirect] DEBUG: Redirecting (301) to <GET http://playnomore.co.kr/product/black-play-day-10-micro-moon-olive-180/542/?cate_no=24&display_group=1> from <GET http://playnomore.co.kr/product/detail.html?product_no=542&cate_no=24&display_group=1>\n",
      "2019-11-28 05:24:27 [scrapy.downloadermiddlewares.redirect] DEBUG: Redirecting (301) to <GET http://playnomore.co.kr/product/black-play-day-20-pre-order-micro-candy-white-170/507/?cate_no=24&display_group=1> from <GET http://playnomore.co.kr/product/detail.html?product_no=507&cate_no=24&display_group=1>\n",
      "2019-11-28 05:24:27 [scrapy.downloadermiddlewares.redirect] DEBUG: Redirecting (301) to <GET http://playnomore.co.kr/product/black-play-day-20-micro-candy-almond-170/535/?cate_no=24&display_group=1> from <GET http://playnomore.co.kr/product/detail.html?product_no=535&cate_no=24&display_group=1>\n",
      "2019-11-28 05:24:27 [scrapy.downloadermiddlewares.redirect] DEBUG: Redirecting (301) to <GET http://playnomore.co.kr/product/black-play-day-10-micro-moon-indi-pink-180/541/?cate_no=24&display_group=1> from <GET http://playnomore.co.kr/product/detail.html?product_no=541&cate_no=24&display_group=1>\n",
      "2019-11-28 05:24:27 [scrapy.downloadermiddlewares.redirect] DEBUG: Redirecting (301) to <GET http://playnomore.co.kr/product/black-play-day-20-micro-candy-midnight-170/536/?cate_no=24&display_group=1> from <GET http://playnomore.co.kr/product/detail.html?product_no=536&cate_no=24&display_group=1>\n",
      "2019-11-28 05:24:27 [scrapy.downloadermiddlewares.redirect] DEBUG: Redirecting (301) to <GET http://playnomore.co.kr/product/black-play-day-20-micro-candy-black-170/506/?cate_no=24&display_group=1> from <GET http://playnomore.co.kr/product/detail.html?product_no=506&cate_no=24&display_group=1>\n",
      "2019-11-28 05:24:27 [scrapy.downloadermiddlewares.redirect] DEBUG: Redirecting (301) to <GET http://playnomore.co.kr/product/black-play-day-10-micro-moon-chocolate-180/540/?cate_no=24&display_group=1> from <GET http://playnomore.co.kr/product/detail.html?product_no=540&cate_no=24&display_group=1>\n",
      "2019-11-28 05:24:27 [scrapy.downloadermiddlewares.redirect] DEBUG: Redirecting (301) to <GET http://playnomore.co.kr/product/black-play-day-20-micro-candy-tweed-black-170/534/?cate_no=24&display_group=1> from <GET http://playnomore.co.kr/product/detail.html?product_no=534&cate_no=24&display_group=1>\n",
      "2019-11-28 05:24:27 [scrapy.downloadermiddlewares.redirect] DEBUG: Redirecting (301) to <GET http://playnomore.co.kr/product/black-play-day-10-micro-moon-ivory-180/539/?cate_no=24&display_group=1> from <GET http://playnomore.co.kr/product/detail.html?product_no=539&cate_no=24&display_group=1>\n",
      "2019-11-28 05:24:27 [scrapy.downloadermiddlewares.redirect] DEBUG: Redirecting (301) to <GET http://playnomore.co.kr/product/black-play-day-10-micro-moon-black-180/538/?cate_no=24&display_group=1> from <GET http://playnomore.co.kr/product/detail.html?product_no=538&cate_no=24&display_group=1>\n",
      "2019-11-28 05:24:27 [scrapy.downloadermiddlewares.redirect] DEBUG: Redirecting (301) to <GET http://playnomore.co.kr/product/black-play-day-10-micro-baguette-pink-python-180/545/?cate_no=24&display_group=1> from <GET http://playnomore.co.kr/product/detail.html?product_no=545&cate_no=24&display_group=1>\n",
      "2019-11-28 05:24:27 [scrapy.downloadermiddlewares.redirect] DEBUG: Redirecting (301) to <GET http://playnomore.co.kr/product/black-play-day-10-micro-baguette-black-box-180/543/?cate_no=24&display_group=1> from <GET http://playnomore.co.kr/product/detail.html?product_no=543&cate_no=24&display_group=1>\n",
      "2019-11-28 05:24:27 [scrapy.downloadermiddlewares.redirect] DEBUG: Redirecting (301) to <GET http://playnomore.co.kr/product/black-play-day-10-micro-baguette-cocoa-box-180/544/?cate_no=24&display_group=1> from <GET http://playnomore.co.kr/product/detail.html?product_no=544&cate_no=24&display_group=1>\n",
      "2019-11-28 05:24:27 [scrapy.downloadermiddlewares.redirect] DEBUG: Redirecting (301) to <GET http://playnomore.co.kr/product/black-play-day-10-micro-baguette-green-python-180/546/?cate_no=24&display_group=1> from <GET http://playnomore.co.kr/product/detail.html?product_no=546&cate_no=24&display_group=1>\n",
      "2019-11-28 05:24:27 [scrapy.downloadermiddlewares.redirect] DEBUG: Redirecting (301) to <GET http://playnomore.co.kr/product/black-play-day-10-micro-baguette-grey-python-180/547/?cate_no=24&display_group=1> from <GET http://playnomore.co.kr/product/detail.html?product_no=547&cate_no=24&display_group=1>\n",
      "2019-11-28 05:24:28 [scrapy.core.engine] DEBUG: Crawled (200) <GET http://playnomore.co.kr/product/black-play-day-10-micro-moon-olive-180/542/?cate_no=24&display_group=1> (referer: http://playnomore.co.kr/category/bag/24/)\n",
      "2019-11-28 05:24:28 [scrapy.core.engine] DEBUG: Crawled (200) <GET http://playnomore.co.kr/product/black-play-day-20-pre-order-micro-candy-white-170/507/?cate_no=24&display_group=1> (referer: http://playnomore.co.kr/category/bag/24/)\n",
      "2019-11-28 05:24:28 [scrapy.core.engine] DEBUG: Crawled (200) <GET http://playnomore.co.kr/product/black-play-day-20-micro-candy-black-170/506/?cate_no=24&display_group=1> (referer: http://playnomore.co.kr/category/bag/24/)\n",
      "2019-11-28 05:24:28 [scrapy.core.engine] DEBUG: Crawled (200) <GET http://playnomore.co.kr/product/black-play-day-20-micro-candy-midnight-170/536/?cate_no=24&display_group=1> (referer: http://playnomore.co.kr/category/bag/24/)\n",
      "2019-11-28 05:24:28 [scrapy.core.engine] DEBUG: Crawled (200) <GET http://playnomore.co.kr/product/black-play-day-10-micro-moon-indi-pink-180/541/?cate_no=24&display_group=1> (referer: http://playnomore.co.kr/category/bag/24/)\n",
      "2019-11-28 05:24:28 [scrapy.core.engine] DEBUG: Crawled (200) <GET http://playnomore.co.kr/product/black-play-day-20-micro-candy-almond-170/535/?cate_no=24&display_group=1> (referer: http://playnomore.co.kr/category/bag/24/)\n",
      "2019-11-28 05:24:28 [scrapy.core.engine] DEBUG: Crawled (200) <GET http://playnomore.co.kr/product/black-play-day-10-micro-moon-chocolate-180/540/?cate_no=24&display_group=1> (referer: http://playnomore.co.kr/category/bag/24/)\n",
      "2019-11-28 05:24:28 [scrapy.core.engine] DEBUG: Crawled (200) <GET http://playnomore.co.kr/product/black-play-day-20-micro-candy-tweed-black-170/534/?cate_no=24&display_group=1> (referer: http://playnomore.co.kr/category/bag/24/)\n"
     ]
    },
    {
     "name": "stdout",
     "output_type": "stream",
     "text": [
      "2019-11-28 05:24:28 [scrapy.core.scraper] DEBUG: Scraped from <200 http://playnomore.co.kr/product/black-play-day-10-micro-moon-olive-180/542/?cate_no=24&display_group=1>\n",
      "{'img': 'http://playnomore.co.kr/web/product/big/201909/009a912866af7785c74acb8fd657fa5d.jpg',\n",
      " 'link': 'http://playnomore.co.kr/product/black-play-day-10-micro-moon-olive-180/542/?cate_no=24&display_group=1',\n",
      " 'price': '$ 162',\n",
      " 'title': '[Black Play-Day 10%] MICRO MOON olive '}\n",
      "2019-11-28 05:24:28 [scrapy.core.scraper] DEBUG: Scraped from <200 http://playnomore.co.kr/product/black-play-day-20-pre-order-micro-candy-white-170/507/?cate_no=24&display_group=1>\n",
      "{'img': 'http://playnomore.co.kr/web/product/big/201905/f3b7377fccdb62d9657441b1eda6d19d.jpg',\n",
      " 'link': 'http://playnomore.co.kr/product/black-play-day-20-pre-order-micro-candy-white-170/507/?cate_no=24&display_group=1',\n",
      " 'price': '$ 136',\n",
      " 'title': '[Black Play-Day 20%] [PRE-ORDER] MICRO CANDY white '}\n",
      "2019-11-28 05:24:28 [scrapy.core.scraper] DEBUG: Scraped from <200 http://playnomore.co.kr/product/black-play-day-20-micro-candy-black-170/506/?cate_no=24&display_group=1>\n",
      "{'img': 'http://playnomore.co.kr/web/product/big/201905/87ef31c172cfadd128fcddd8712f8f3b.jpg',\n",
      " 'link': 'http://playnomore.co.kr/product/black-play-day-20-micro-candy-black-170/506/?cate_no=24&display_group=1',\n",
      " 'price': '$ 136',\n",
      " 'title': '[Black Play-Day 20%] MICRO CANDY black '}\n",
      "2019-11-28 05:24:28 [scrapy.core.scraper] DEBUG: Scraped from <200 http://playnomore.co.kr/product/black-play-day-20-micro-candy-midnight-170/536/?cate_no=24&display_group=1>\n",
      "{'img': 'http://playnomore.co.kr/web/product/big/201909/634e167680e1314de54b1069c72ed16a.jpg',\n",
      " 'link': 'http://playnomore.co.kr/product/black-play-day-20-micro-candy-midnight-170/536/?cate_no=24&display_group=1',\n",
      " 'price': '$ 136',\n",
      " 'title': '[Black Play-Day 20%] MICRO CANDY midnight '}\n",
      "2019-11-28 05:24:28 [scrapy.core.scraper] DEBUG: Scraped from <200 http://playnomore.co.kr/product/black-play-day-10-micro-moon-indi-pink-180/541/?cate_no=24&display_group=1>\n",
      "{'img': 'http://playnomore.co.kr/web/product/big/201909/27f0c6559910472640d25c2731d4bc7a.jpg',\n",
      " 'link': 'http://playnomore.co.kr/product/black-play-day-10-micro-moon-indi-pink-180/541/?cate_no=24&display_group=1',\n",
      " 'price': '$ 162',\n",
      " 'title': '[Black Play-Day 10%] MICRO MOON indi pink '}\n",
      "2019-11-28 05:24:28 [scrapy.core.scraper] DEBUG: Scraped from <200 http://playnomore.co.kr/product/black-play-day-20-micro-candy-almond-170/535/?cate_no=24&display_group=1>\n",
      "{'img': 'http://playnomore.co.kr/web/product/big/201909/4a34e4457b5ba7fabc316e0faea413ad.jpg',\n",
      " 'link': 'http://playnomore.co.kr/product/black-play-day-20-micro-candy-almond-170/535/?cate_no=24&display_group=1',\n",
      " 'price': '$ 136',\n",
      " 'title': '[Black Play-Day 20%] MICRO CANDY almond '}\n",
      "2019-11-28 05:24:28 [scrapy.core.scraper] DEBUG: Scraped from <200 http://playnomore.co.kr/product/black-play-day-10-micro-moon-chocolate-180/540/?cate_no=24&display_group=1>\n",
      "{'img': 'http://playnomore.co.kr/web/product/big/201909/f8981ada9b99c416229cb597ed13e777.jpg',\n",
      " 'link': 'http://playnomore.co.kr/product/black-play-day-10-micro-moon-chocolate-180/540/?cate_no=24&display_group=1',\n",
      " 'price': '$ 162',\n",
      " 'title': '[Black Play-Day 10%] MICRO MOON chocolate '}\n",
      "2019-11-28 05:24:28 [scrapy.core.scraper] DEBUG: Scraped from <200 http://playnomore.co.kr/product/black-play-day-20-micro-candy-tweed-black-170/534/?cate_no=24&display_group=1>\n",
      "{'img': 'http://playnomore.co.kr/web/product/big/201909/26416e10a6c1141c9267554d5054c93c.jpg',\n",
      " 'link': 'http://playnomore.co.kr/product/black-play-day-20-micro-candy-tweed-black-170/534/?cate_no=24&display_group=1',\n",
      " 'price': '$ 136',\n",
      " 'title': '[Black Play-Day 20%] MICRO CANDY tweed black '}\n",
      "2019-11-28 05:24:28 [scrapy.core.engine] DEBUG: Crawled (200) <GET http://playnomore.co.kr/product/black-play-day-10-micro-baguette-black-box-180/543/?cate_no=24&display_group=1> (referer: http://playnomore.co.kr/category/bag/24/)\n",
      "2019-11-28 05:24:28 [scrapy.core.engine] DEBUG: Crawled (200) <GET http://playnomore.co.kr/product/black-play-day-10-micro-moon-black-180/538/?cate_no=24&display_group=1> (referer: http://playnomore.co.kr/category/bag/24/)\n",
      "2019-11-28 05:24:28 [scrapy.core.engine] DEBUG: Crawled (200) <GET http://playnomore.co.kr/product/black-play-day-10-micro-moon-ivory-180/539/?cate_no=24&display_group=1> (referer: http://playnomore.co.kr/category/bag/24/)\n",
      "2019-11-28 05:24:28 [scrapy.core.engine] DEBUG: Crawled (200) <GET http://playnomore.co.kr/product/black-play-day-10-micro-baguette-green-python-180/546/?cate_no=24&display_group=1> (referer: http://playnomore.co.kr/category/bag/24/)\n",
      "2019-11-28 05:24:28 [scrapy.core.engine] DEBUG: Crawled (200) <GET http://playnomore.co.kr/product/black-play-day-10-micro-baguette-pink-python-180/545/?cate_no=24&display_group=1> (referer: http://playnomore.co.kr/category/bag/24/)\n",
      "2019-11-28 05:24:28 [scrapy.core.engine] DEBUG: Crawled (200) <GET http://playnomore.co.kr/product/black-play-day-10-micro-baguette-cocoa-box-180/544/?cate_no=24&display_group=1> (referer: http://playnomore.co.kr/category/bag/24/)\n",
      "2019-11-28 05:24:28 [scrapy.core.engine] DEBUG: Crawled (200) <GET http://playnomore.co.kr/product/black-play-day-10-micro-baguette-grey-python-180/547/?cate_no=24&display_group=1> (referer: http://playnomore.co.kr/category/bag/24/)\n",
      "2019-11-28 05:24:28 [scrapy.core.scraper] DEBUG: Scraped from <200 http://playnomore.co.kr/product/black-play-day-10-micro-baguette-black-box-180/543/?cate_no=24&display_group=1>\n",
      "{'img': 'http://playnomore.co.kr/web/product/big/201910/de197b5f5a5bff1a3004f29a07a6bdd2.jpg',\n",
      " 'link': 'http://playnomore.co.kr/product/black-play-day-10-micro-baguette-black-box-180/543/?cate_no=24&display_group=1',\n",
      " 'price': '$ 162',\n",
      " 'title': '[Black Play-Day 10%] MICRO BAGUETTE black box '}\n",
      "2019-11-28 05:24:28 [scrapy.core.scraper] DEBUG: Scraped from <200 http://playnomore.co.kr/product/black-play-day-10-micro-moon-black-180/538/?cate_no=24&display_group=1>\n",
      "{'img': 'http://playnomore.co.kr/web/product/big/201909/cc069c51075d5440b1e8ea235821abe4.jpg',\n",
      " 'link': 'http://playnomore.co.kr/product/black-play-day-10-micro-moon-black-180/538/?cate_no=24&display_group=1',\n",
      " 'price': '$ 162',\n",
      " 'title': '[Black Play-Day 10%] MICRO MOON black '}\n",
      "2019-11-28 05:24:28 [scrapy.core.scraper] DEBUG: Scraped from <200 http://playnomore.co.kr/product/black-play-day-10-micro-moon-ivory-180/539/?cate_no=24&display_group=1>\n",
      "{'img': 'http://playnomore.co.kr/web/product/big/201909/184b38c352f5b2c79aef02fd6d407e12.jpg',\n",
      " 'link': 'http://playnomore.co.kr/product/black-play-day-10-micro-moon-ivory-180/539/?cate_no=24&display_group=1',\n",
      " 'price': '$ 162',\n",
      " 'title': '[Black Play-Day 10%] MICRO MOON ivory '}\n",
      "2019-11-28 05:24:28 [scrapy.core.scraper] DEBUG: Scraped from <200 http://playnomore.co.kr/product/black-play-day-10-micro-baguette-green-python-180/546/?cate_no=24&display_group=1>\n",
      "{'img': 'http://playnomore.co.kr/web/product/big/201910/751de37eead5e1a82a373b0738ed1059.jpg',\n",
      " 'link': 'http://playnomore.co.kr/product/black-play-day-10-micro-baguette-green-python-180/546/?cate_no=24&display_group=1',\n",
      " 'price': '$ 162',\n",
      " 'title': '[Black Play-Day 10%] MICRO BAGUETTE green python '}\n",
      "2019-11-28 05:24:28 [scrapy.core.scraper] DEBUG: Scraped from <200 http://playnomore.co.kr/product/black-play-day-10-micro-baguette-pink-python-180/545/?cate_no=24&display_group=1>\n",
      "{'img': 'http://playnomore.co.kr/web/product/big/201910/0af90d394789fffda249d8ba5f787a96.jpg',\n",
      " 'link': 'http://playnomore.co.kr/product/black-play-day-10-micro-baguette-pink-python-180/545/?cate_no=24&display_group=1',\n",
      " 'price': '$ 162',\n",
      " 'title': '[Black Play-Day 10%] MICRO BAGUETTE pink python '}\n",
      "2019-11-28 05:24:28 [scrapy.core.scraper] DEBUG: Scraped from <200 http://playnomore.co.kr/product/black-play-day-10-micro-baguette-cocoa-box-180/544/?cate_no=24&display_group=1>\n",
      "{'img': 'http://playnomore.co.kr/web/product/big/201910/ea1e590f00168a375c1bf10dcc501e3d.jpg',\n",
      " 'link': 'http://playnomore.co.kr/product/black-play-day-10-micro-baguette-cocoa-box-180/544/?cate_no=24&display_group=1',\n",
      " 'price': '$ 162',\n",
      " 'title': '[Black Play-Day 10%] MICRO BAGUETTE cocoa box '}\n",
      "2019-11-28 05:24:28 [scrapy.core.scraper] DEBUG: Scraped from <200 http://playnomore.co.kr/product/black-play-day-10-micro-baguette-grey-python-180/547/?cate_no=24&display_group=1>\n",
      "{'img': 'http://playnomore.co.kr/web/product/big/201910/596078374708bbb81ffd629a8cf88950.jpg',\n",
      " 'link': 'http://playnomore.co.kr/product/black-play-day-10-micro-baguette-grey-python-180/547/?cate_no=24&display_group=1',\n",
      " 'price': '$ 162',\n",
      " 'title': '[Black Play-Day 10%] MICRO BAGUETTE grey python '}\n",
      "2019-11-28 05:24:28 [scrapy.core.engine] INFO: Closing spider (finished)\n",
      "2019-11-28 05:24:28 [scrapy.extensions.feedexport] INFO: Stored csv feed (15 items) in: playnomore.csv\n",
      "2019-11-28 05:24:28 [scrapy.statscollectors] INFO: Dumping Scrapy stats:\n",
      "{'downloader/request_bytes': 15808,\n",
      " 'downloader/request_count': 32,\n",
      " 'downloader/request_method_count/GET': 32,\n",
      " 'downloader/response_bytes': 307822,\n",
      " 'downloader/response_count': 32,\n",
      " 'downloader/response_status_count/200': 17,\n",
      " 'downloader/response_status_count/301': 15,\n",
      " 'elapsed_time_seconds': 1.209399,\n",
      " 'finish_reason': 'finished',\n",
      " 'finish_time': datetime.datetime(2019, 11, 28, 5, 24, 28, 551632),\n",
      " 'item_scraped_count': 15,\n",
      " 'log_count/DEBUG': 47,\n",
      " 'log_count/INFO': 11,\n",
      " 'memusage/max': 53657600,\n",
      " 'memusage/startup': 53657600,\n",
      " 'request_depth_max': 1,\n",
      " 'response_received_count': 17,\n",
      " 'robotstxt/request_count': 1,\n",
      " 'robotstxt/response_count': 1,\n",
      " 'robotstxt/response_status_count/200': 1,\n",
      " 'scheduler/dequeued': 31,\n",
      " 'scheduler/dequeued/memory': 31,\n",
      " 'scheduler/enqueued': 31,\n",
      " 'scheduler/enqueued/memory': 31,\n",
      " 'start_time': datetime.datetime(2019, 11, 28, 5, 24, 27, 342233)}\n",
      "2019-11-28 05:24:28 [scrapy.core.engine] INFO: Spider closed (finished)\n"
     ]
    }
   ],
   "source": [
    "!./run.sh"
   ]
  },
  {
   "cell_type": "markdown",
   "metadata": {},
   "source": [
    "### pandas로 확인"
   ]
  },
  {
   "cell_type": "code",
   "execution_count": 45,
   "metadata": {},
   "outputs": [
    {
     "data": {
      "text/html": [
       "<div>\n",
       "<style scoped>\n",
       "    .dataframe tbody tr th:only-of-type {\n",
       "        vertical-align: middle;\n",
       "    }\n",
       "\n",
       "    .dataframe tbody tr th {\n",
       "        vertical-align: top;\n",
       "    }\n",
       "\n",
       "    .dataframe thead th {\n",
       "        text-align: right;\n",
       "    }\n",
       "</style>\n",
       "<table border=\"1\" class=\"dataframe\">\n",
       "  <thead>\n",
       "    <tr style=\"text-align: right;\">\n",
       "      <th></th>\n",
       "      <th>img</th>\n",
       "      <th>link</th>\n",
       "      <th>price</th>\n",
       "      <th>title</th>\n",
       "    </tr>\n",
       "  </thead>\n",
       "  <tbody>\n",
       "    <tr>\n",
       "      <th>29</th>\n",
       "      <td>http://playnomore.co.kr/web/product/big/201910...</td>\n",
       "      <td>http://playnomore.co.kr/product/black-play-day...</td>\n",
       "      <td>$ 162</td>\n",
       "      <td>[Black Play-Day 10%] MICRO BAGUETTE cocoa box</td>\n",
       "    </tr>\n",
       "    <tr>\n",
       "      <th>30</th>\n",
       "      <td>http://playnomore.co.kr/web/product/big/201910...</td>\n",
       "      <td>http://playnomore.co.kr/product/black-play-day...</td>\n",
       "      <td>$ 162</td>\n",
       "      <td>[Black Play-Day 10%] MICRO BAGUETTE grey python</td>\n",
       "    </tr>\n",
       "  </tbody>\n",
       "</table>\n",
       "</div>"
      ],
      "text/plain": [
       "                                                  img  \\\n",
       "29  http://playnomore.co.kr/web/product/big/201910...   \n",
       "30  http://playnomore.co.kr/web/product/big/201910...   \n",
       "\n",
       "                                                 link  price  \\\n",
       "29  http://playnomore.co.kr/product/black-play-day...  $ 162   \n",
       "30  http://playnomore.co.kr/product/black-play-day...  $ 162   \n",
       "\n",
       "                                               title  \n",
       "29    [Black Play-Day 10%] MICRO BAGUETTE cocoa box   \n",
       "30  [Black Play-Day 10%] MICRO BAGUETTE grey python   "
      ]
     },
     "execution_count": 45,
     "metadata": {},
     "output_type": "execute_result"
    }
   ],
   "source": [
    "df = pd.read_csv(\"playnomore/playnomore.csv\")\n",
    "df.tail(2)"
   ]
  },
  {
   "cell_type": "markdown",
   "metadata": {},
   "source": [
    "### 5. argument 설정"
   ]
  },
  {
   "cell_type": "code",
   "execution_count": 47,
   "metadata": {},
   "outputs": [
    {
     "name": "stdout",
     "output_type": "stream",
     "text": [
      "Overwriting playnomore/playnomore/spiders/spider.py\n"
     ]
    }
   ],
   "source": [
    "%%writefile playnomore/playnomore/spiders/spider.py\n",
    "import scrapy\n",
    "from playnomore.items import PlaynomoreItem\n",
    "\n",
    "\n",
    "class PlaynomoreSpider(scrapy.Spider):\n",
    "    # 이 이름을 사용해야 한다 규칙이다.\n",
    "    name = \"Playnomore\"\n",
    "    custom_settings = {\n",
    "        'DOWNLOADER_MIDDLEWARES': {\n",
    "            'scrapy.downloadermiddlewares.useragent.UserAgentMiddleware': None,\n",
    "            'scrapy_fake_useragent.middleware.RandomUserAgentMiddleware': 400,\n",
    "        }\n",
    "    }\n",
    "    \n",
    "    def __init__(self, category1=\"bag\", category2=24, **kwargs):\n",
    "        self.start_url = \"http://playnomore.co.kr/category/{}/{}/\".format(category1, category2)\n",
    "        super().__init__(**kwargs) # 기존에 있던 생성자 함수를 상속, 위코드만 추가\n",
    "    \n",
    "    def start_requests(self):\n",
    "        url = self.start_url\n",
    "        yield scrapy.Request(url, callback=self.parse)\n",
    "        \n",
    "    def parse(self, response):\n",
    "        links = response.xpath('//*[@id=\"contents\"]/div[2]/div/ul/li/div/a/@href').extract()\n",
    "        links = list(map(response.urljoin, links))\n",
    "        for link in links:\n",
    "            yield scrapy.Request(link, callback=self.page_parse)\n",
    "                         \n",
    "    # 상세페이지 데이터를 객체로 만든다.\n",
    "    def page_parse(self, response):\n",
    "        item = PlaynomoreItem()\n",
    "        title1 = response.xpath('//*[@id=\"contents\"]/div[1]/div[1]/div[2]/div[1]/font/text()').extract()\n",
    "        title2 = response.xpath('//*[@id=\"contents\"]/div[1]/div[1]/div[2]/div[1]/text()').extract()\n",
    "        item[\"title\"] = \"\".join(title1) + \"\".join(title2)\n",
    "        item[\"price\"] = response.xpath('//*[@id=\"contents\"]/div[1]/div[1]/div[2]/div[2]/text()').extract()[0]\n",
    "        item[\"img\"] = \"http:\" + response.xpath('//*[@id=\"contents\"]/div[1]/div[1]/div[1]/div[1]/img/@src').extract()[0]\n",
    "        item[\"link\"] = response.url\n",
    "        yield item"
   ]
  },
  {
   "cell_type": "markdown",
   "metadata": {},
   "source": [
    "#### 신발정보 수집\n",
    "- shoes, 25"
   ]
  },
  {
   "cell_type": "code",
   "execution_count": 50,
   "metadata": {},
   "outputs": [
    {
     "name": "stdout",
     "output_type": "stream",
     "text": [
      "Overwriting run.sh\n"
     ]
    }
   ],
   "source": [
    "%%writefile run.sh\n",
    "cd playnomore\n",
    "scrapy crawl Playnomore -o playnomore2.csv -a category1=shoes -a category2=25"
   ]
  },
  {
   "cell_type": "code",
   "execution_count": 51,
   "metadata": {
    "collapsed": true
   },
   "outputs": [
    {
     "name": "stdout",
     "output_type": "stream",
     "text": [
      "2019-11-28 05:32:30 [scrapy.utils.log] INFO: Scrapy 1.8.0 started (bot: playnomore)\n",
      "2019-11-28 05:32:30 [scrapy.utils.log] INFO: Versions: lxml 4.4.1.0, libxml2 2.9.9, cssselect 1.1.0, parsel 1.5.2, w3lib 1.21.0, Twisted 19.10.0, Python 3.6.9 (default, Oct 24 2019, 05:23:48) - [GCC 7.4.0], pyOpenSSL 19.1.0 (OpenSSL 1.1.1d  10 Sep 2019), cryptography 2.8, Platform Linux-4.15.0-1052-aws-x86_64-with-debian-buster-sid\n",
      "2019-11-28 05:32:30 [scrapy.crawler] INFO: Overridden settings: {'BOT_NAME': 'playnomore', 'FEED_FORMAT': 'csv', 'FEED_URI': 'playnomore2.csv', 'NEWSPIDER_MODULE': 'playnomore.spiders', 'ROBOTSTXT_OBEY': True, 'SPIDER_MODULES': ['playnomore.spiders']}\n",
      "2019-11-28 05:32:30 [scrapy.extensions.telnet] INFO: Telnet Password: ac3d39ac7c5dfd5c\n",
      "2019-11-28 05:32:30 [scrapy.middleware] INFO: Enabled extensions:\n",
      "['scrapy.extensions.corestats.CoreStats',\n",
      " 'scrapy.extensions.telnet.TelnetConsole',\n",
      " 'scrapy.extensions.memusage.MemoryUsage',\n",
      " 'scrapy.extensions.feedexport.FeedExporter',\n",
      " 'scrapy.extensions.logstats.LogStats']\n",
      "2019-11-28 05:32:30 [scrapy.middleware] INFO: Enabled downloader middlewares:\n",
      "['scrapy.downloadermiddlewares.robotstxt.RobotsTxtMiddleware',\n",
      " 'scrapy.downloadermiddlewares.httpauth.HttpAuthMiddleware',\n",
      " 'scrapy.downloadermiddlewares.downloadtimeout.DownloadTimeoutMiddleware',\n",
      " 'scrapy.downloadermiddlewares.defaultheaders.DefaultHeadersMiddleware',\n",
      " 'scrapy_fake_useragent.middleware.RandomUserAgentMiddleware',\n",
      " 'scrapy.downloadermiddlewares.retry.RetryMiddleware',\n",
      " 'scrapy.downloadermiddlewares.redirect.MetaRefreshMiddleware',\n",
      " 'scrapy.downloadermiddlewares.httpcompression.HttpCompressionMiddleware',\n",
      " 'scrapy.downloadermiddlewares.redirect.RedirectMiddleware',\n",
      " 'scrapy.downloadermiddlewares.cookies.CookiesMiddleware',\n",
      " 'scrapy.downloadermiddlewares.httpproxy.HttpProxyMiddleware',\n",
      " 'scrapy.downloadermiddlewares.stats.DownloaderStats']\n",
      "2019-11-28 05:32:30 [scrapy.middleware] INFO: Enabled spider middlewares:\n",
      "['scrapy.spidermiddlewares.httperror.HttpErrorMiddleware',\n",
      " 'scrapy.spidermiddlewares.offsite.OffsiteMiddleware',\n",
      " 'scrapy.spidermiddlewares.referer.RefererMiddleware',\n",
      " 'scrapy.spidermiddlewares.urllength.UrlLengthMiddleware',\n",
      " 'scrapy.spidermiddlewares.depth.DepthMiddleware']\n",
      "2019-11-28 05:32:30 [scrapy.middleware] INFO: Enabled item pipelines:\n",
      "[]\n",
      "2019-11-28 05:32:30 [scrapy.core.engine] INFO: Spider opened\n",
      "2019-11-28 05:32:30 [scrapy.extensions.logstats] INFO: Crawled 0 pages (at 0 pages/min), scraped 0 items (at 0 items/min)\n",
      "2019-11-28 05:32:30 [scrapy.extensions.telnet] INFO: Telnet console listening on 127.0.0.1:6023\n",
      "2019-11-28 05:32:30 [scrapy.core.engine] DEBUG: Crawled (200) <GET http://playnomore.co.kr/robots.txt> (referer: None)\n",
      "2019-11-28 05:32:31 [scrapy.core.engine] DEBUG: Crawled (200) <GET http://playnomore.co.kr/category/shoes/25/> (referer: None)\n",
      "2019-11-28 05:32:31 [scrapy.downloadermiddlewares.redirect] DEBUG: Redirecting (301) to <GET http://playnomore.co.kr/product/sold-out-winkygirl-color-blocks-2cm-multi/140/?cate_no=25&display_group=1> from <GET http://playnomore.co.kr/product/detail.html?product_no=140&cate_no=25&display_group=1>\n",
      "2019-11-28 05:32:31 [scrapy.downloadermiddlewares.redirect] DEBUG: Redirecting (301) to <GET http://playnomore.co.kr/product/sold-out-kiss-me-deep-green/23/?cate_no=25&display_group=1> from <GET http://playnomore.co.kr/product/detail.html?product_no=23&cate_no=25&display_group=1>\n",
      "2019-11-28 05:32:31 [scrapy.downloadermiddlewares.redirect] DEBUG: Redirecting (301) to <GET http://playnomore.co.kr/product/sold-out-shy-lip-bloafer-champagne-gold/305/?cate_no=25&display_group=1> from <GET http://playnomore.co.kr/product/detail.html?product_no=305&cate_no=25&display_group=1>\n",
      "2019-11-28 05:32:31 [scrapy.downloadermiddlewares.redirect] DEBUG: Redirecting (301) to <GET http://playnomore.co.kr/product/sold-out-winkygirl-color-blocks-2cm-black/138/?cate_no=25&display_group=1> from <GET http://playnomore.co.kr/product/detail.html?product_no=138&cate_no=25&display_group=1>\n",
      "2019-11-28 05:32:31 [scrapy.downloadermiddlewares.redirect] DEBUG: Redirecting (301) to <GET http://playnomore.co.kr/product/sold-out-winkygirl-color-blocks-metallic-navy-5cm/20/?cate_no=25&display_group=1> from <GET http://playnomore.co.kr/product/detail.html?product_no=20&cate_no=25&display_group=1>\n",
      "2019-11-28 05:32:31 [scrapy.downloadermiddlewares.redirect] DEBUG: Redirecting (301) to <GET http://playnomore.co.kr/product/sold-out-kiss-me-pink-beige/22/?cate_no=25&display_group=1> from <GET http://playnomore.co.kr/product/detail.html?product_no=22&cate_no=25&display_group=1>\n",
      "2019-11-28 05:32:31 [scrapy.downloadermiddlewares.redirect] DEBUG: Redirecting (301) to <GET http://playnomore.co.kr/product/sold-out-winkygirl-color-blocks-5cm-metallic-pink/137/?cate_no=25&display_group=1> from <GET http://playnomore.co.kr/product/detail.html?product_no=137&cate_no=25&display_group=1>\n",
      "2019-11-28 05:32:31 [scrapy.downloadermiddlewares.redirect] DEBUG: Redirecting (301) to <GET http://playnomore.co.kr/product/sold-out-shy-friends-oxford-black/181/?cate_no=25&display_group=1> from <GET http://playnomore.co.kr/product/detail.html?product_no=181&cate_no=25&display_group=1>\n",
      "2019-11-28 05:32:31 [scrapy.downloadermiddlewares.redirect] DEBUG: Redirecting (301) to <GET http://playnomore.co.kr/product/sold-out-shygirl-oxford-gold/233/?cate_no=25&display_group=1> from <GET http://playnomore.co.kr/product/detail.html?product_no=233&cate_no=25&display_group=1>\n",
      "2019-11-28 05:32:31 [scrapy.downloadermiddlewares.redirect] DEBUG: Redirecting (301) to <GET http://playnomore.co.kr/product/sold-out-shy-lip-bloafer-chrome/304/?cate_no=25&display_group=1> from <GET http://playnomore.co.kr/product/detail.html?product_no=304&cate_no=25&display_group=1>\n",
      "2019-11-28 05:32:31 [scrapy.downloadermiddlewares.redirect] DEBUG: Redirecting (301) to <GET http://playnomore.co.kr/product/sold-out-shygirl-oxford-silver/232/?cate_no=25&display_group=1> from <GET http://playnomore.co.kr/product/detail.html?product_no=232&cate_no=25&display_group=1>\n",
      "2019-11-28 05:32:31 [scrapy.downloadermiddlewares.redirect] DEBUG: Redirecting (301) to <GET http://playnomore.co.kr/product/sold-out-winkygirl-color-blocks-5cm-multi/19/?cate_no=25&display_group=1> from <GET http://playnomore.co.kr/product/detail.html?product_no=19&cate_no=25&display_group=1>\n",
      "2019-11-28 05:32:31 [scrapy.downloadermiddlewares.redirect] DEBUG: Redirecting (301) to <GET http://playnomore.co.kr/product/sold-out-shygirl-oxford-chrome/207/?cate_no=25&display_group=1> from <GET http://playnomore.co.kr/product/detail.html?product_no=207&cate_no=25&display_group=1>\n",
      "2019-11-28 05:32:31 [scrapy.downloadermiddlewares.redirect] DEBUG: Redirecting (301) to <GET http://playnomore.co.kr/product/70-sale-finding-cinderella-winkygirl-color-blocks-5cm-silver-414/21/?cate_no=25&display_group=1> from <GET http://playnomore.co.kr/product/detail.html?product_no=21&cate_no=25&display_group=1>\n",
      "2019-11-28 05:32:31 [scrapy.downloadermiddlewares.redirect] DEBUG: Redirecting (301) to <GET http://playnomore.co.kr/product/sold-out-winkygirl-color-blocks-5cm-rose-gold/18/?cate_no=25&display_group=1> from <GET http://playnomore.co.kr/product/detail.html?product_no=18&cate_no=25&display_group=1>\n",
      "2019-11-28 05:32:31 [scrapy.core.engine] DEBUG: Crawled (200) <GET http://playnomore.co.kr/product/sold-out-winkygirl-color-blocks-2cm-multi/140/?cate_no=25&display_group=1> (referer: http://playnomore.co.kr/category/shoes/25/)\n",
      "2019-11-28 05:32:31 [scrapy.core.engine] DEBUG: Crawled (200) <GET http://playnomore.co.kr/product/sold-out-shy-lip-bloafer-champagne-gold/305/?cate_no=25&display_group=1> (referer: http://playnomore.co.kr/category/shoes/25/)\n",
      "2019-11-28 05:32:31 [scrapy.core.engine] DEBUG: Crawled (200) <GET http://playnomore.co.kr/product/sold-out-winkygirl-color-blocks-5cm-metallic-pink/137/?cate_no=25&display_group=1> (referer: http://playnomore.co.kr/category/shoes/25/)\n",
      "2019-11-28 05:32:31 [scrapy.core.engine] DEBUG: Crawled (200) <GET http://playnomore.co.kr/product/sold-out-kiss-me-deep-green/23/?cate_no=25&display_group=1> (referer: http://playnomore.co.kr/category/shoes/25/)\n",
      "2019-11-28 05:32:31 [scrapy.core.engine] DEBUG: Crawled (200) <GET http://playnomore.co.kr/product/sold-out-kiss-me-pink-beige/22/?cate_no=25&display_group=1> (referer: http://playnomore.co.kr/category/shoes/25/)\n",
      "2019-11-28 05:32:31 [scrapy.core.engine] DEBUG: Crawled (200) <GET http://playnomore.co.kr/product/sold-out-winkygirl-color-blocks-metallic-navy-5cm/20/?cate_no=25&display_group=1> (referer: http://playnomore.co.kr/category/shoes/25/)\n",
      "2019-11-28 05:32:31 [scrapy.core.scraper] DEBUG: Scraped from <200 http://playnomore.co.kr/product/sold-out-winkygirl-color-blocks-2cm-multi/140/?cate_no=25&display_group=1>\n",
      "{'img': 'http://playnomore.co.kr/web/product/big/201701/140_shop7_744641.jpg',\n",
      " 'link': 'http://playnomore.co.kr/product/sold-out-winkygirl-color-blocks-2cm-multi/140/?cate_no=25&display_group=1',\n",
      " 'price': '$ 414',\n",
      " 'title': '[SOLD OUT] WINKYGIRL COLOR BLOCKS (2cm) multi'}\n",
      "2019-11-28 05:32:31 [scrapy.core.scraper] DEBUG: Scraped from <200 http://playnomore.co.kr/product/sold-out-shy-lip-bloafer-champagne-gold/305/?cate_no=25&display_group=1>\n",
      "{'img': 'http://playnomore.co.kr/web/product/big/201706/305_shop7_443176.jpg',\n",
      " 'link': 'http://playnomore.co.kr/product/sold-out-shy-lip-bloafer-champagne-gold/305/?cate_no=25&display_group=1',\n",
      " 'price': '$ 480',\n",
      " 'title': '[SOLD OUT] SHY LIP bloafer champagne gold'}\n",
      "2019-11-28 05:32:31 [scrapy.core.scraper] DEBUG: Scraped from <200 http://playnomore.co.kr/product/sold-out-winkygirl-color-blocks-5cm-metallic-pink/137/?cate_no=25&display_group=1>\n",
      "{'img': 'http://playnomore.co.kr/web/product/big/201701/137_shop7_918095.jpg',\n",
      " 'link': 'http://playnomore.co.kr/product/sold-out-winkygirl-color-blocks-5cm-metallic-pink/137/?cate_no=25&display_group=1',\n",
      " 'price': '$ 414',\n",
      " 'title': '[SOLD OUT] WINKYGIRL COLOR BLOCKS (5cm) metallic pink'}\n",
      "2019-11-28 05:32:31 [scrapy.core.scraper] DEBUG: Scraped from <200 http://playnomore.co.kr/product/sold-out-kiss-me-deep-green/23/?cate_no=25&display_group=1>\n",
      "{'img': 'http://playnomore.co.kr/web/product/big/201702/23_shop7_151870.jpg',\n",
      " 'link': 'http://playnomore.co.kr/product/sold-out-kiss-me-deep-green/23/?cate_no=25&display_group=1',\n",
      " 'price': '$ 450',\n",
      " 'title': '[SOLD OUT] KISS ME deep green'}\n",
      "2019-11-28 05:32:31 [scrapy.core.scraper] DEBUG: Scraped from <200 http://playnomore.co.kr/product/sold-out-kiss-me-pink-beige/22/?cate_no=25&display_group=1>\n",
      "{'img': 'http://playnomore.co.kr/web/product/big/201702/22_shop7_242463.jpg',\n",
      " 'link': 'http://playnomore.co.kr/product/sold-out-kiss-me-pink-beige/22/?cate_no=25&display_group=1',\n",
      " 'price': '$ 450',\n",
      " 'title': '[SOLD OUT] KISS ME pink beige'}\n",
      "2019-11-28 05:32:31 [scrapy.core.engine] DEBUG: Crawled (200) <GET http://playnomore.co.kr/product/sold-out-winkygirl-color-blocks-2cm-black/138/?cate_no=25&display_group=1> (referer: http://playnomore.co.kr/category/shoes/25/)\n",
      "2019-11-28 05:32:31 [scrapy.core.engine] DEBUG: Crawled (200) <GET http://playnomore.co.kr/product/sold-out-shy-friends-oxford-black/181/?cate_no=25&display_group=1> (referer: http://playnomore.co.kr/category/shoes/25/)\n",
      "2019-11-28 05:32:31 [scrapy.core.scraper] DEBUG: Scraped from <200 http://playnomore.co.kr/product/sold-out-winkygirl-color-blocks-metallic-navy-5cm/20/?cate_no=25&display_group=1>\n",
      "{'img': 'http://playnomore.co.kr/web/product/big/201609/20_shop7_178984.jpg',\n",
      " 'link': 'http://playnomore.co.kr/product/sold-out-winkygirl-color-blocks-metallic-navy-5cm/20/?cate_no=25&display_group=1',\n",
      " 'price': '$ 414',\n",
      " 'title': '[SOLD OUT] WINKYGIRL COLOR BLOCKS metallic navy (5cm)'}\n",
      "2019-11-28 05:32:31 [scrapy.core.scraper] DEBUG: Scraped from <200 http://playnomore.co.kr/product/sold-out-winkygirl-color-blocks-2cm-black/138/?cate_no=25&display_group=1>\n",
      "{'img': 'http://playnomore.co.kr/web/product/big/201701/138_shop7_619644.jpg',\n",
      " 'link': 'http://playnomore.co.kr/product/sold-out-winkygirl-color-blocks-2cm-black/138/?cate_no=25&display_group=1',\n",
      " 'price': '$ 414',\n",
      " 'title': '[SOLD OUT] WINKYGIRL COLOR BLOCKS  (2cm) black'}\n",
      "2019-11-28 05:32:31 [scrapy.core.scraper] DEBUG: Scraped from <200 http://playnomore.co.kr/product/sold-out-shy-friends-oxford-black/181/?cate_no=25&display_group=1>\n",
      "{'img': 'http://playnomore.co.kr/web/product/big/201702/181_shop7_374071.jpg',\n",
      " 'link': 'http://playnomore.co.kr/product/sold-out-shy-friends-oxford-black/181/?cate_no=25&display_group=1',\n",
      " 'price': '$ 450',\n",
      " 'title': '[SOLD OUT] SHY FRIENDS oxford black'}\n",
      "2019-11-28 05:32:32 [scrapy.core.engine] DEBUG: Crawled (200) <GET http://playnomore.co.kr/product/sold-out-shygirl-oxford-silver/232/?cate_no=25&display_group=1> (referer: http://playnomore.co.kr/category/shoes/25/)\n",
      "2019-11-28 05:32:32 [scrapy.core.engine] DEBUG: Crawled (200) <GET http://playnomore.co.kr/product/sold-out-shygirl-oxford-gold/233/?cate_no=25&display_group=1> (referer: http://playnomore.co.kr/category/shoes/25/)\n",
      "2019-11-28 05:32:32 [scrapy.core.engine] DEBUG: Crawled (200) <GET http://playnomore.co.kr/product/sold-out-winkygirl-color-blocks-5cm-multi/19/?cate_no=25&display_group=1> (referer: http://playnomore.co.kr/category/shoes/25/)\n",
      "2019-11-28 05:32:32 [scrapy.core.engine] DEBUG: Crawled (200) <GET http://playnomore.co.kr/product/70-sale-finding-cinderella-winkygirl-color-blocks-5cm-silver-414/21/?cate_no=25&display_group=1> (referer: http://playnomore.co.kr/category/shoes/25/)\n",
      "2019-11-28 05:32:32 [scrapy.core.engine] DEBUG: Crawled (200) <GET http://playnomore.co.kr/product/sold-out-shy-lip-bloafer-chrome/304/?cate_no=25&display_group=1> (referer: http://playnomore.co.kr/category/shoes/25/)\n",
      "2019-11-28 05:32:32 [scrapy.core.scraper] DEBUG: Scraped from <200 http://playnomore.co.kr/product/sold-out-shygirl-oxford-silver/232/?cate_no=25&display_group=1>\n",
      "{'img': 'http://playnomore.co.kr/web/product/big/201703/232_shop7_426702.jpg',\n",
      " 'link': 'http://playnomore.co.kr/product/sold-out-shygirl-oxford-silver/232/?cate_no=25&display_group=1',\n",
      " 'price': '$ 450',\n",
      " 'title': '[SOLD OUT] SHYGIRL oxford silver'}\n",
      "2019-11-28 05:32:32 [scrapy.core.scraper] DEBUG: Scraped from <200 http://playnomore.co.kr/product/sold-out-shygirl-oxford-gold/233/?cate_no=25&display_group=1>\n",
      "{'img': 'http://playnomore.co.kr/web/product/big/201703/233_shop7_194677.jpg',\n",
      " 'link': 'http://playnomore.co.kr/product/sold-out-shygirl-oxford-gold/233/?cate_no=25&display_group=1',\n",
      " 'price': '$ 450',\n",
      " 'title': '[SOLD OUT] SHYGIRL oxford gold'}\n",
      "2019-11-28 05:32:32 [scrapy.core.engine] DEBUG: Crawled (200) <GET http://playnomore.co.kr/product/sold-out-winkygirl-color-blocks-5cm-rose-gold/18/?cate_no=25&display_group=1> (referer: http://playnomore.co.kr/category/shoes/25/)\n",
      "2019-11-28 05:32:32 [scrapy.core.engine] DEBUG: Crawled (200) <GET http://playnomore.co.kr/product/sold-out-shygirl-oxford-chrome/207/?cate_no=25&display_group=1> (referer: http://playnomore.co.kr/category/shoes/25/)\n",
      "2019-11-28 05:32:32 [scrapy.core.scraper] DEBUG: Scraped from <200 http://playnomore.co.kr/product/sold-out-winkygirl-color-blocks-5cm-multi/19/?cate_no=25&display_group=1>\n",
      "{'img': 'http://playnomore.co.kr/web/product/big/201702/19_shop7_561442.jpg',\n",
      " 'link': 'http://playnomore.co.kr/product/sold-out-winkygirl-color-blocks-5cm-multi/19/?cate_no=25&display_group=1',\n",
      " 'price': '$ 414',\n",
      " 'title': '[SOLD OUT] WINKYGIRL COLOR BLOCKS (5cm) multi'}\n",
      "2019-11-28 05:32:32 [scrapy.core.scraper] DEBUG: Scraped from <200 http://playnomore.co.kr/product/70-sale-finding-cinderella-winkygirl-color-blocks-5cm-silver-414/21/?cate_no=25&display_group=1>\n",
      "{'img': 'http://playnomore.co.kr/web/product/big/201609/21_shop1_572305.jpg',\n",
      " 'link': 'http://playnomore.co.kr/product/70-sale-finding-cinderella-winkygirl-color-blocks-5cm-silver-414/21/?cate_no=25&display_group=1',\n",
      " 'price': '$ 125',\n",
      " 'title': '[70% SALE : Finding CINDERELLA] WINKYGIRL COLOR BLOCKS (5cm) '\n",
      "          'silver '}\n",
      "2019-11-28 05:32:32 [scrapy.core.scraper] DEBUG: Scraped from <200 http://playnomore.co.kr/product/sold-out-shy-lip-bloafer-chrome/304/?cate_no=25&display_group=1>\n",
      "{'img': 'http://playnomore.co.kr/web/product/big/201706/304_shop7_862848.jpg',\n",
      " 'link': 'http://playnomore.co.kr/product/sold-out-shy-lip-bloafer-chrome/304/?cate_no=25&display_group=1',\n",
      " 'price': '$ 480',\n",
      " 'title': '[SOLD OUT] SHY LIP bloafer chrome'}\n"
     ]
    },
    {
     "name": "stdout",
     "output_type": "stream",
     "text": [
      "2019-11-28 05:32:32 [scrapy.core.scraper] DEBUG: Scraped from <200 http://playnomore.co.kr/product/sold-out-winkygirl-color-blocks-5cm-rose-gold/18/?cate_no=25&display_group=1>\n",
      "{'img': 'http://playnomore.co.kr/web/product/big/201702/18_shop7_183931.jpg',\n",
      " 'link': 'http://playnomore.co.kr/product/sold-out-winkygirl-color-blocks-5cm-rose-gold/18/?cate_no=25&display_group=1',\n",
      " 'price': '$ 414',\n",
      " 'title': '[SOLD OUT] WINKYGIRL COLOR BLOCKS (5cm) rose gold'}\n",
      "2019-11-28 05:32:32 [scrapy.core.scraper] DEBUG: Scraped from <200 http://playnomore.co.kr/product/sold-out-shygirl-oxford-chrome/207/?cate_no=25&display_group=1>\n",
      "{'img': 'http://playnomore.co.kr/web/product/big/201702/207_shop7_312513.jpg',\n",
      " 'link': 'http://playnomore.co.kr/product/sold-out-shygirl-oxford-chrome/207/?cate_no=25&display_group=1',\n",
      " 'price': '$ 450',\n",
      " 'title': '[SOLD OUT] SHYGIRL oxford chrome'}\n",
      "2019-11-28 05:32:32 [scrapy.core.engine] INFO: Closing spider (finished)\n",
      "2019-11-28 05:32:32 [scrapy.extensions.feedexport] INFO: Stored csv feed (15 items) in: playnomore2.csv\n",
      "2019-11-28 05:32:32 [scrapy.statscollectors] INFO: Dumping Scrapy stats:\n",
      "{'downloader/request_bytes': 15960,\n",
      " 'downloader/request_count': 32,\n",
      " 'downloader/request_method_count/GET': 32,\n",
      " 'downloader/response_bytes': 303195,\n",
      " 'downloader/response_count': 32,\n",
      " 'downloader/response_status_count/200': 17,\n",
      " 'downloader/response_status_count/301': 15,\n",
      " 'elapsed_time_seconds': 1.334102,\n",
      " 'finish_reason': 'finished',\n",
      " 'finish_time': datetime.datetime(2019, 11, 28, 5, 32, 32, 257569),\n",
      " 'item_scraped_count': 15,\n",
      " 'log_count/DEBUG': 47,\n",
      " 'log_count/INFO': 11,\n",
      " 'memusage/max': 53682176,\n",
      " 'memusage/startup': 53682176,\n",
      " 'request_depth_max': 1,\n",
      " 'response_received_count': 17,\n",
      " 'robotstxt/request_count': 1,\n",
      " 'robotstxt/response_count': 1,\n",
      " 'robotstxt/response_status_count/200': 1,\n",
      " 'scheduler/dequeued': 31,\n",
      " 'scheduler/dequeued/memory': 31,\n",
      " 'scheduler/enqueued': 31,\n",
      " 'scheduler/enqueued/memory': 31,\n",
      " 'start_time': datetime.datetime(2019, 11, 28, 5, 32, 30, 923467)}\n",
      "2019-11-28 05:32:32 [scrapy.core.engine] INFO: Spider closed (finished)\n"
     ]
    }
   ],
   "source": [
    "!./run.sh"
   ]
  },
  {
   "cell_type": "code",
   "execution_count": 52,
   "metadata": {},
   "outputs": [
    {
     "data": {
      "text/html": [
       "<div>\n",
       "<style scoped>\n",
       "    .dataframe tbody tr th:only-of-type {\n",
       "        vertical-align: middle;\n",
       "    }\n",
       "\n",
       "    .dataframe tbody tr th {\n",
       "        vertical-align: top;\n",
       "    }\n",
       "\n",
       "    .dataframe thead th {\n",
       "        text-align: right;\n",
       "    }\n",
       "</style>\n",
       "<table border=\"1\" class=\"dataframe\">\n",
       "  <thead>\n",
       "    <tr style=\"text-align: right;\">\n",
       "      <th></th>\n",
       "      <th>img</th>\n",
       "      <th>link</th>\n",
       "      <th>price</th>\n",
       "      <th>title</th>\n",
       "    </tr>\n",
       "  </thead>\n",
       "  <tbody>\n",
       "    <tr>\n",
       "      <th>13</th>\n",
       "      <td>http://playnomore.co.kr/web/product/big/201702...</td>\n",
       "      <td>http://playnomore.co.kr/product/sold-out-winky...</td>\n",
       "      <td>$ 414</td>\n",
       "      <td>[SOLD OUT] WINKYGIRL COLOR BLOCKS (5cm) rose gold</td>\n",
       "    </tr>\n",
       "    <tr>\n",
       "      <th>14</th>\n",
       "      <td>http://playnomore.co.kr/web/product/big/201702...</td>\n",
       "      <td>http://playnomore.co.kr/product/sold-out-shygi...</td>\n",
       "      <td>$ 450</td>\n",
       "      <td>[SOLD OUT] SHYGIRL oxford chrome</td>\n",
       "    </tr>\n",
       "  </tbody>\n",
       "</table>\n",
       "</div>"
      ],
      "text/plain": [
       "                                                  img  \\\n",
       "13  http://playnomore.co.kr/web/product/big/201702...   \n",
       "14  http://playnomore.co.kr/web/product/big/201702...   \n",
       "\n",
       "                                                 link  price  \\\n",
       "13  http://playnomore.co.kr/product/sold-out-winky...  $ 414   \n",
       "14  http://playnomore.co.kr/product/sold-out-shygi...  $ 450   \n",
       "\n",
       "                                                title  \n",
       "13  [SOLD OUT] WINKYGIRL COLOR BLOCKS (5cm) rose gold  \n",
       "14                   [SOLD OUT] SHYGIRL oxford chrome  "
      ]
     },
     "execution_count": 52,
     "metadata": {},
     "output_type": "execute_result"
    }
   ],
   "source": [
    "df = pd.read_csv(\"playnomore/playnomore2.csv\")\n",
    "df.tail(2)"
   ]
  },
  {
   "cell_type": "markdown",
   "metadata": {},
   "source": [
    "### 6. Mongodb에 저장\n",
    "- pymongo 사용\n",
    "- pymongo를 pipelines.py에 적용\n",
    "- pymongo install\n",
    "    - `pip install pymongo==2.8.1`"
   ]
  },
  {
   "cell_type": "code",
   "execution_count": 54,
   "metadata": {},
   "outputs": [],
   "source": [
    "import pymongo"
   ]
  },
  {
   "cell_type": "code",
   "execution_count": 55,
   "metadata": {},
   "outputs": [
    {
     "data": {
      "text/plain": [
       "MongoClient('13.124.41.91', 27017)"
      ]
     },
     "execution_count": 55,
     "metadata": {},
     "output_type": "execute_result"
    }
   ],
   "source": [
    "client = pymongo.MongoClient('mongodb://13.124.41.91:27017/')\n",
    "client"
   ]
  },
  {
   "cell_type": "code",
   "execution_count": 56,
   "metadata": {},
   "outputs": [
    {
     "data": {
      "text/plain": [
       "Collection(Database(MongoClient('13.124.41.91', 27017), 'playnomore'), 'shoes')"
      ]
     },
     "execution_count": 56,
     "metadata": {},
     "output_type": "execute_result"
    }
   ],
   "source": [
    "db = client.playnomore # 데이터베이스\n",
    "collection = db.shoes # 테이블\n",
    "collection"
   ]
  },
  {
   "cell_type": "code",
   "execution_count": 57,
   "metadata": {},
   "outputs": [
    {
     "data": {
      "text/plain": [
       "ObjectId('5ddf5e67045a62483536dea4')"
      ]
     },
     "execution_count": 57,
     "metadata": {},
     "output_type": "execute_result"
    }
   ],
   "source": [
    "# 한글이 잘 들어가는지 확인\n",
    "data = {\"title\":\"신발\"}\n",
    "collection.insert(data)"
   ]
  },
  {
   "cell_type": "markdown",
   "metadata": {},
   "source": [
    "#### Mongodb 모듈 파일 생성\n",
    "- import 해서 생성을 하기 위해서"
   ]
  },
  {
   "cell_type": "code",
   "execution_count": 58,
   "metadata": {},
   "outputs": [
    {
     "name": "stdout",
     "output_type": "stream",
     "text": [
      "Writing playnomore/playnomore/mongodb.py\n"
     ]
    }
   ],
   "source": [
    "%%writefile playnomore/playnomore/mongodb.py\n",
    "import pymongo\n",
    "\n",
    "client = pymongo.MongoClient('mongodb://13.124.41.91:27017/')\n",
    "db = client.playnomore \n",
    "collection = db.shoes "
   ]
  },
  {
   "cell_type": "code",
   "execution_count": 59,
   "metadata": {},
   "outputs": [
    {
     "name": "stdout",
     "output_type": "stream",
     "text": [
      "# -*- coding: utf-8 -*-\r\n",
      "\r\n",
      "# Define your item pipelines here\r\n",
      "#\r\n",
      "# Don't forget to add your pipeline to the ITEM_PIPELINES setting\r\n",
      "# See: https://docs.scrapy.org/en/latest/topics/item-pipeline.html\r\n",
      "\r\n",
      "\r\n",
      "class PlaynomorePipeline(object):\r\n",
      "    def process_item(self, item, spider):\r\n",
      "        return item\r\n"
     ]
    }
   ],
   "source": [
    "!cat playnomore/playnomore/pipelines.py"
   ]
  },
  {
   "cell_type": "code",
   "execution_count": 60,
   "metadata": {},
   "outputs": [
    {
     "name": "stdout",
     "output_type": "stream",
     "text": [
      "Overwriting playnomore/playnomore/pipelines.py\n"
     ]
    }
   ],
   "source": [
    "%%writefile playnomore/playnomore/pipelines.py\n",
    "from .mongodb import collection\n",
    "\n",
    "class PlaynomorePipeline(object):\n",
    "    \n",
    "    def process_item(self, item, spider):\n",
    "        \n",
    "        data = { \"title\": item[\"title\"], \n",
    "                 \"price\": item[\"price\"], \n",
    "                 \"img\": item[\"img\"],\n",
    "                 \"link\": item[\"link\"],\n",
    "                }\n",
    "        collection.insert(data)\n",
    "        return item"
   ]
  },
  {
   "cell_type": "code",
   "execution_count": 61,
   "metadata": {},
   "outputs": [],
   "source": [
    "!echo \"ITEM_PIPELINES = {\" >> playnomore/playnomore/settings.py"
   ]
  },
  {
   "cell_type": "code",
   "execution_count": 62,
   "metadata": {},
   "outputs": [],
   "source": [
    "!echo \"    'playnomore.pipelines.PlaynomorePipeline': 300,\" >> playnomore/playnomore/settings.py"
   ]
  },
  {
   "cell_type": "code",
   "execution_count": 63,
   "metadata": {},
   "outputs": [],
   "source": [
    "!echo \"}\" >> playnomore/playnomore/settings.py"
   ]
  },
  {
   "cell_type": "code",
   "execution_count": 68,
   "metadata": {},
   "outputs": [
    {
     "name": "stdout",
     "output_type": "stream",
     "text": [
      "#HTTPCACHE_IGNORE_HTTP_CODES = []\r\n",
      "#HTTPCACHE_STORAGE = 'scrapy.extensions.httpcache.FilesystemCacheStorage'\r\n",
      "ITEM_PIPELINES = {\r\n",
      "    'playnomore.pipelines.PlaynomorePipeline': 300,\r\n",
      "}\r\n"
     ]
    }
   ],
   "source": [
    "!tail -n 5 playnomore/playnomore/settings.py"
   ]
  },
  {
   "cell_type": "code",
   "execution_count": 69,
   "metadata": {},
   "outputs": [
    {
     "name": "stdout",
     "output_type": "stream",
     "text": [
      "cd playnomore\r\n",
      "scrapy crawl Playnomore -o playnomore2.csv -a category1=shoes -a category2=25\r\n"
     ]
    }
   ],
   "source": [
    "!cat run.sh"
   ]
  },
  {
   "cell_type": "code",
   "execution_count": 70,
   "metadata": {
    "collapsed": true
   },
   "outputs": [
    {
     "name": "stdout",
     "output_type": "stream",
     "text": [
      "2019-11-28 05:55:28 [scrapy.utils.log] INFO: Scrapy 1.8.0 started (bot: playnomore)\n",
      "2019-11-28 05:55:28 [scrapy.utils.log] INFO: Versions: lxml 4.4.1.0, libxml2 2.9.9, cssselect 1.1.0, parsel 1.5.2, w3lib 1.21.0, Twisted 19.10.0, Python 3.6.9 (default, Oct 24 2019, 05:23:48) - [GCC 7.4.0], pyOpenSSL 19.1.0 (OpenSSL 1.1.1d  10 Sep 2019), cryptography 2.8, Platform Linux-4.15.0-1052-aws-x86_64-with-debian-buster-sid\n",
      "2019-11-28 05:55:28 [scrapy.crawler] INFO: Overridden settings: {'BOT_NAME': 'playnomore', 'FEED_FORMAT': 'csv', 'FEED_URI': 'playnomore2.csv', 'NEWSPIDER_MODULE': 'playnomore.spiders', 'ROBOTSTXT_OBEY': True, 'SPIDER_MODULES': ['playnomore.spiders']}\n",
      "2019-11-28 05:55:28 [scrapy.extensions.telnet] INFO: Telnet Password: ccbc6eaf249acb77\n",
      "2019-11-28 05:55:28 [scrapy.middleware] INFO: Enabled extensions:\n",
      "['scrapy.extensions.corestats.CoreStats',\n",
      " 'scrapy.extensions.telnet.TelnetConsole',\n",
      " 'scrapy.extensions.memusage.MemoryUsage',\n",
      " 'scrapy.extensions.feedexport.FeedExporter',\n",
      " 'scrapy.extensions.logstats.LogStats']\n",
      "2019-11-28 05:55:29 [scrapy.middleware] INFO: Enabled downloader middlewares:\n",
      "['scrapy.downloadermiddlewares.robotstxt.RobotsTxtMiddleware',\n",
      " 'scrapy.downloadermiddlewares.httpauth.HttpAuthMiddleware',\n",
      " 'scrapy.downloadermiddlewares.downloadtimeout.DownloadTimeoutMiddleware',\n",
      " 'scrapy.downloadermiddlewares.defaultheaders.DefaultHeadersMiddleware',\n",
      " 'scrapy_fake_useragent.middleware.RandomUserAgentMiddleware',\n",
      " 'scrapy.downloadermiddlewares.retry.RetryMiddleware',\n",
      " 'scrapy.downloadermiddlewares.redirect.MetaRefreshMiddleware',\n",
      " 'scrapy.downloadermiddlewares.httpcompression.HttpCompressionMiddleware',\n",
      " 'scrapy.downloadermiddlewares.redirect.RedirectMiddleware',\n",
      " 'scrapy.downloadermiddlewares.cookies.CookiesMiddleware',\n",
      " 'scrapy.downloadermiddlewares.httpproxy.HttpProxyMiddleware',\n",
      " 'scrapy.downloadermiddlewares.stats.DownloaderStats']\n",
      "2019-11-28 05:55:29 [scrapy.middleware] INFO: Enabled spider middlewares:\n",
      "['scrapy.spidermiddlewares.httperror.HttpErrorMiddleware',\n",
      " 'scrapy.spidermiddlewares.offsite.OffsiteMiddleware',\n",
      " 'scrapy.spidermiddlewares.referer.RefererMiddleware',\n",
      " 'scrapy.spidermiddlewares.urllength.UrlLengthMiddleware',\n",
      " 'scrapy.spidermiddlewares.depth.DepthMiddleware']\n",
      "2019-11-28 05:55:29 [scrapy.middleware] INFO: Enabled item pipelines:\n",
      "['playnomore.pipelines.PlaynomorePipeline']\n",
      "2019-11-28 05:55:29 [scrapy.core.engine] INFO: Spider opened\n",
      "2019-11-28 05:55:29 [scrapy.extensions.logstats] INFO: Crawled 0 pages (at 0 pages/min), scraped 0 items (at 0 items/min)\n",
      "2019-11-28 05:55:29 [scrapy.extensions.telnet] INFO: Telnet console listening on 127.0.0.1:6023\n",
      "2019-11-28 05:55:29 [scrapy.core.engine] DEBUG: Crawled (200) <GET http://playnomore.co.kr/robots.txt> (referer: None)\n",
      "2019-11-28 05:55:29 [scrapy.core.engine] DEBUG: Crawled (200) <GET http://playnomore.co.kr/category/shoes/25/> (referer: None)\n",
      "2019-11-28 05:55:29 [scrapy.downloadermiddlewares.redirect] DEBUG: Redirecting (301) to <GET http://playnomore.co.kr/product/sold-out-winkygirl-color-blocks-2cm-multi/140/?cate_no=25&display_group=1> from <GET http://playnomore.co.kr/product/detail.html?product_no=140&cate_no=25&display_group=1>\n",
      "2019-11-28 05:55:29 [scrapy.downloadermiddlewares.redirect] DEBUG: Redirecting (301) to <GET http://playnomore.co.kr/product/sold-out-kiss-me-pink-beige/22/?cate_no=25&display_group=1> from <GET http://playnomore.co.kr/product/detail.html?product_no=22&cate_no=25&display_group=1>\n",
      "2019-11-28 05:55:29 [scrapy.downloadermiddlewares.redirect] DEBUG: Redirecting (301) to <GET http://playnomore.co.kr/product/sold-out-shy-friends-oxford-black/181/?cate_no=25&display_group=1> from <GET http://playnomore.co.kr/product/detail.html?product_no=181&cate_no=25&display_group=1>\n",
      "2019-11-28 05:55:29 [scrapy.downloadermiddlewares.redirect] DEBUG: Redirecting (301) to <GET http://playnomore.co.kr/product/sold-out-kiss-me-deep-green/23/?cate_no=25&display_group=1> from <GET http://playnomore.co.kr/product/detail.html?product_no=23&cate_no=25&display_group=1>\n",
      "2019-11-28 05:55:29 [scrapy.downloadermiddlewares.redirect] DEBUG: Redirecting (301) to <GET http://playnomore.co.kr/product/sold-out-winkygirl-color-blocks-metallic-navy-5cm/20/?cate_no=25&display_group=1> from <GET http://playnomore.co.kr/product/detail.html?product_no=20&cate_no=25&display_group=1>\n",
      "2019-11-28 05:55:29 [scrapy.downloadermiddlewares.redirect] DEBUG: Redirecting (301) to <GET http://playnomore.co.kr/product/sold-out-shy-lip-bloafer-champagne-gold/305/?cate_no=25&display_group=1> from <GET http://playnomore.co.kr/product/detail.html?product_no=305&cate_no=25&display_group=1>\n",
      "2019-11-28 05:55:29 [scrapy.downloadermiddlewares.redirect] DEBUG: Redirecting (301) to <GET http://playnomore.co.kr/product/sold-out-winkygirl-color-blocks-2cm-black/138/?cate_no=25&display_group=1> from <GET http://playnomore.co.kr/product/detail.html?product_no=138&cate_no=25&display_group=1>\n",
      "2019-11-28 05:55:29 [scrapy.downloadermiddlewares.redirect] DEBUG: Redirecting (301) to <GET http://playnomore.co.kr/product/sold-out-winkygirl-color-blocks-5cm-metallic-pink/137/?cate_no=25&display_group=1> from <GET http://playnomore.co.kr/product/detail.html?product_no=137&cate_no=25&display_group=1>\n",
      "2019-11-28 05:55:29 [scrapy.downloadermiddlewares.redirect] DEBUG: Redirecting (301) to <GET http://playnomore.co.kr/product/sold-out-shy-lip-bloafer-chrome/304/?cate_no=25&display_group=1> from <GET http://playnomore.co.kr/product/detail.html?product_no=304&cate_no=25&display_group=1>\n",
      "2019-11-28 05:55:29 [scrapy.downloadermiddlewares.redirect] DEBUG: Redirecting (301) to <GET http://playnomore.co.kr/product/sold-out-shygirl-oxford-gold/233/?cate_no=25&display_group=1> from <GET http://playnomore.co.kr/product/detail.html?product_no=233&cate_no=25&display_group=1>\n",
      "2019-11-28 05:55:29 [scrapy.downloadermiddlewares.redirect] DEBUG: Redirecting (301) to <GET http://playnomore.co.kr/product/70-sale-finding-cinderella-winkygirl-color-blocks-5cm-silver-414/21/?cate_no=25&display_group=1> from <GET http://playnomore.co.kr/product/detail.html?product_no=21&cate_no=25&display_group=1>\n",
      "2019-11-28 05:55:29 [scrapy.downloadermiddlewares.redirect] DEBUG: Redirecting (301) to <GET http://playnomore.co.kr/product/sold-out-winkygirl-color-blocks-5cm-multi/19/?cate_no=25&display_group=1> from <GET http://playnomore.co.kr/product/detail.html?product_no=19&cate_no=25&display_group=1>\n",
      "2019-11-28 05:55:29 [scrapy.downloadermiddlewares.redirect] DEBUG: Redirecting (301) to <GET http://playnomore.co.kr/product/sold-out-shygirl-oxford-silver/232/?cate_no=25&display_group=1> from <GET http://playnomore.co.kr/product/detail.html?product_no=232&cate_no=25&display_group=1>\n",
      "2019-11-28 05:55:29 [scrapy.downloadermiddlewares.redirect] DEBUG: Redirecting (301) to <GET http://playnomore.co.kr/product/sold-out-shygirl-oxford-chrome/207/?cate_no=25&display_group=1> from <GET http://playnomore.co.kr/product/detail.html?product_no=207&cate_no=25&display_group=1>\n",
      "2019-11-28 05:55:29 [scrapy.downloadermiddlewares.redirect] DEBUG: Redirecting (301) to <GET http://playnomore.co.kr/product/sold-out-winkygirl-color-blocks-5cm-rose-gold/18/?cate_no=25&display_group=1> from <GET http://playnomore.co.kr/product/detail.html?product_no=18&cate_no=25&display_group=1>\n",
      "2019-11-28 05:55:29 [scrapy.core.engine] DEBUG: Crawled (200) <GET http://playnomore.co.kr/product/sold-out-kiss-me-pink-beige/22/?cate_no=25&display_group=1> (referer: http://playnomore.co.kr/category/shoes/25/)\n",
      "2019-11-28 05:55:29 [scrapy.core.engine] DEBUG: Crawled (200) <GET http://playnomore.co.kr/product/sold-out-winkygirl-color-blocks-2cm-multi/140/?cate_no=25&display_group=1> (referer: http://playnomore.co.kr/category/shoes/25/)\n",
      "2019-11-28 05:55:29 [scrapy.core.engine] DEBUG: Crawled (200) <GET http://playnomore.co.kr/product/sold-out-shy-lip-bloafer-champagne-gold/305/?cate_no=25&display_group=1> (referer: http://playnomore.co.kr/category/shoes/25/)\n",
      "2019-11-28 05:55:29 [scrapy.core.engine] DEBUG: Crawled (200) <GET http://playnomore.co.kr/product/sold-out-kiss-me-deep-green/23/?cate_no=25&display_group=1> (referer: http://playnomore.co.kr/category/shoes/25/)\n",
      "2019-11-28 05:55:29 [scrapy.core.engine] DEBUG: Crawled (200) <GET http://playnomore.co.kr/product/sold-out-winkygirl-color-blocks-2cm-black/138/?cate_no=25&display_group=1> (referer: http://playnomore.co.kr/category/shoes/25/)\n"
     ]
    },
    {
     "name": "stdout",
     "output_type": "stream",
     "text": [
      "2019-11-28 05:55:29 [scrapy.core.engine] DEBUG: Crawled (200) <GET http://playnomore.co.kr/product/sold-out-shy-friends-oxford-black/181/?cate_no=25&display_group=1> (referer: http://playnomore.co.kr/category/shoes/25/)\n",
      "2019-11-28 05:55:29 [scrapy.core.engine] DEBUG: Crawled (200) <GET http://playnomore.co.kr/product/sold-out-winkygirl-color-blocks-metallic-navy-5cm/20/?cate_no=25&display_group=1> (referer: http://playnomore.co.kr/category/shoes/25/)\n",
      "2019-11-28 05:55:29 [scrapy.core.engine] DEBUG: Crawled (200) <GET http://playnomore.co.kr/product/sold-out-winkygirl-color-blocks-5cm-metallic-pink/137/?cate_no=25&display_group=1> (referer: http://playnomore.co.kr/category/shoes/25/)\n",
      "2019-11-28 05:55:29 [scrapy.core.scraper] DEBUG: Scraped from <200 http://playnomore.co.kr/product/sold-out-kiss-me-pink-beige/22/?cate_no=25&display_group=1>\n",
      "{'img': 'http://playnomore.co.kr/web/product/big/201702/22_shop7_242463.jpg',\n",
      " 'link': 'http://playnomore.co.kr/product/sold-out-kiss-me-pink-beige/22/?cate_no=25&display_group=1',\n",
      " 'price': '$ 450',\n",
      " 'title': '[SOLD OUT] KISS ME pink beige'}\n",
      "2019-11-28 05:55:29 [scrapy.core.scraper] DEBUG: Scraped from <200 http://playnomore.co.kr/product/sold-out-winkygirl-color-blocks-2cm-multi/140/?cate_no=25&display_group=1>\n",
      "{'img': 'http://playnomore.co.kr/web/product/big/201701/140_shop7_744641.jpg',\n",
      " 'link': 'http://playnomore.co.kr/product/sold-out-winkygirl-color-blocks-2cm-multi/140/?cate_no=25&display_group=1',\n",
      " 'price': '$ 414',\n",
      " 'title': '[SOLD OUT] WINKYGIRL COLOR BLOCKS (2cm) multi'}\n",
      "2019-11-28 05:55:29 [scrapy.core.scraper] DEBUG: Scraped from <200 http://playnomore.co.kr/product/sold-out-shy-lip-bloafer-champagne-gold/305/?cate_no=25&display_group=1>\n",
      "{'img': 'http://playnomore.co.kr/web/product/big/201706/305_shop7_443176.jpg',\n",
      " 'link': 'http://playnomore.co.kr/product/sold-out-shy-lip-bloafer-champagne-gold/305/?cate_no=25&display_group=1',\n",
      " 'price': '$ 480',\n",
      " 'title': '[SOLD OUT] SHY LIP bloafer champagne gold'}\n",
      "2019-11-28 05:55:29 [scrapy.core.scraper] DEBUG: Scraped from <200 http://playnomore.co.kr/product/sold-out-kiss-me-deep-green/23/?cate_no=25&display_group=1>\n",
      "{'img': 'http://playnomore.co.kr/web/product/big/201702/23_shop7_151870.jpg',\n",
      " 'link': 'http://playnomore.co.kr/product/sold-out-kiss-me-deep-green/23/?cate_no=25&display_group=1',\n",
      " 'price': '$ 450',\n",
      " 'title': '[SOLD OUT] KISS ME deep green'}\n",
      "2019-11-28 05:55:29 [scrapy.core.scraper] DEBUG: Scraped from <200 http://playnomore.co.kr/product/sold-out-winkygirl-color-blocks-2cm-black/138/?cate_no=25&display_group=1>\n",
      "{'img': 'http://playnomore.co.kr/web/product/big/201701/138_shop7_619644.jpg',\n",
      " 'link': 'http://playnomore.co.kr/product/sold-out-winkygirl-color-blocks-2cm-black/138/?cate_no=25&display_group=1',\n",
      " 'price': '$ 414',\n",
      " 'title': '[SOLD OUT] WINKYGIRL COLOR BLOCKS  (2cm) black'}\n",
      "2019-11-28 05:55:29 [scrapy.core.scraper] DEBUG: Scraped from <200 http://playnomore.co.kr/product/sold-out-shy-friends-oxford-black/181/?cate_no=25&display_group=1>\n",
      "{'img': 'http://playnomore.co.kr/web/product/big/201702/181_shop7_374071.jpg',\n",
      " 'link': 'http://playnomore.co.kr/product/sold-out-shy-friends-oxford-black/181/?cate_no=25&display_group=1',\n",
      " 'price': '$ 450',\n",
      " 'title': '[SOLD OUT] SHY FRIENDS oxford black'}\n",
      "2019-11-28 05:55:29 [scrapy.core.scraper] DEBUG: Scraped from <200 http://playnomore.co.kr/product/sold-out-winkygirl-color-blocks-metallic-navy-5cm/20/?cate_no=25&display_group=1>\n",
      "{'img': 'http://playnomore.co.kr/web/product/big/201609/20_shop7_178984.jpg',\n",
      " 'link': 'http://playnomore.co.kr/product/sold-out-winkygirl-color-blocks-metallic-navy-5cm/20/?cate_no=25&display_group=1',\n",
      " 'price': '$ 414',\n",
      " 'title': '[SOLD OUT] WINKYGIRL COLOR BLOCKS metallic navy (5cm)'}\n",
      "2019-11-28 05:55:29 [scrapy.core.scraper] DEBUG: Scraped from <200 http://playnomore.co.kr/product/sold-out-winkygirl-color-blocks-5cm-metallic-pink/137/?cate_no=25&display_group=1>\n",
      "{'img': 'http://playnomore.co.kr/web/product/big/201701/137_shop7_918095.jpg',\n",
      " 'link': 'http://playnomore.co.kr/product/sold-out-winkygirl-color-blocks-5cm-metallic-pink/137/?cate_no=25&display_group=1',\n",
      " 'price': '$ 414',\n",
      " 'title': '[SOLD OUT] WINKYGIRL COLOR BLOCKS (5cm) metallic pink'}\n",
      "2019-11-28 05:55:30 [scrapy.core.engine] DEBUG: Crawled (200) <GET http://playnomore.co.kr/product/sold-out-shygirl-oxford-gold/233/?cate_no=25&display_group=1> (referer: http://playnomore.co.kr/category/shoes/25/)\n",
      "2019-11-28 05:55:30 [scrapy.core.engine] DEBUG: Crawled (200) <GET http://playnomore.co.kr/product/sold-out-shy-lip-bloafer-chrome/304/?cate_no=25&display_group=1> (referer: http://playnomore.co.kr/category/shoes/25/)\n",
      "2019-11-28 05:55:30 [scrapy.core.engine] DEBUG: Crawled (200) <GET http://playnomore.co.kr/product/sold-out-shygirl-oxford-silver/232/?cate_no=25&display_group=1> (referer: http://playnomore.co.kr/category/shoes/25/)\n",
      "2019-11-28 05:55:30 [scrapy.core.engine] DEBUG: Crawled (200) <GET http://playnomore.co.kr/product/70-sale-finding-cinderella-winkygirl-color-blocks-5cm-silver-414/21/?cate_no=25&display_group=1> (referer: http://playnomore.co.kr/category/shoes/25/)\n",
      "2019-11-28 05:55:30 [scrapy.core.engine] DEBUG: Crawled (200) <GET http://playnomore.co.kr/product/sold-out-shygirl-oxford-chrome/207/?cate_no=25&display_group=1> (referer: http://playnomore.co.kr/category/shoes/25/)\n",
      "2019-11-28 05:55:30 [scrapy.core.engine] DEBUG: Crawled (200) <GET http://playnomore.co.kr/product/sold-out-winkygirl-color-blocks-5cm-rose-gold/18/?cate_no=25&display_group=1> (referer: http://playnomore.co.kr/category/shoes/25/)\n",
      "2019-11-28 05:55:30 [scrapy.core.engine] DEBUG: Crawled (200) <GET http://playnomore.co.kr/product/sold-out-winkygirl-color-blocks-5cm-multi/19/?cate_no=25&display_group=1> (referer: http://playnomore.co.kr/category/shoes/25/)\n",
      "2019-11-28 05:55:30 [scrapy.core.scraper] DEBUG: Scraped from <200 http://playnomore.co.kr/product/sold-out-shygirl-oxford-gold/233/?cate_no=25&display_group=1>\n",
      "{'img': 'http://playnomore.co.kr/web/product/big/201703/233_shop7_194677.jpg',\n",
      " 'link': 'http://playnomore.co.kr/product/sold-out-shygirl-oxford-gold/233/?cate_no=25&display_group=1',\n",
      " 'price': '$ 450',\n",
      " 'title': '[SOLD OUT] SHYGIRL oxford gold'}\n",
      "2019-11-28 05:55:30 [scrapy.core.scraper] DEBUG: Scraped from <200 http://playnomore.co.kr/product/sold-out-shy-lip-bloafer-chrome/304/?cate_no=25&display_group=1>\n",
      "{'img': 'http://playnomore.co.kr/web/product/big/201706/304_shop7_862848.jpg',\n",
      " 'link': 'http://playnomore.co.kr/product/sold-out-shy-lip-bloafer-chrome/304/?cate_no=25&display_group=1',\n",
      " 'price': '$ 480',\n",
      " 'title': '[SOLD OUT] SHY LIP bloafer chrome'}\n",
      "2019-11-28 05:55:30 [scrapy.core.scraper] DEBUG: Scraped from <200 http://playnomore.co.kr/product/sold-out-shygirl-oxford-silver/232/?cate_no=25&display_group=1>\n",
      "{'img': 'http://playnomore.co.kr/web/product/big/201703/232_shop7_426702.jpg',\n",
      " 'link': 'http://playnomore.co.kr/product/sold-out-shygirl-oxford-silver/232/?cate_no=25&display_group=1',\n",
      " 'price': '$ 450',\n",
      " 'title': '[SOLD OUT] SHYGIRL oxford silver'}\n",
      "2019-11-28 05:55:30 [scrapy.core.scraper] DEBUG: Scraped from <200 http://playnomore.co.kr/product/70-sale-finding-cinderella-winkygirl-color-blocks-5cm-silver-414/21/?cate_no=25&display_group=1>\n",
      "{'img': 'http://playnomore.co.kr/web/product/big/201609/21_shop1_572305.jpg',\n",
      " 'link': 'http://playnomore.co.kr/product/70-sale-finding-cinderella-winkygirl-color-blocks-5cm-silver-414/21/?cate_no=25&display_group=1',\n",
      " 'price': '$ 125',\n",
      " 'title': '[70% SALE : Finding CINDERELLA] WINKYGIRL COLOR BLOCKS (5cm) '\n",
      "          'silver '}\n",
      "2019-11-28 05:55:30 [scrapy.core.scraper] DEBUG: Scraped from <200 http://playnomore.co.kr/product/sold-out-shygirl-oxford-chrome/207/?cate_no=25&display_group=1>\n",
      "{'img': 'http://playnomore.co.kr/web/product/big/201702/207_shop7_312513.jpg',\n",
      " 'link': 'http://playnomore.co.kr/product/sold-out-shygirl-oxford-chrome/207/?cate_no=25&display_group=1',\n",
      " 'price': '$ 450',\n",
      " 'title': '[SOLD OUT] SHYGIRL oxford chrome'}\n",
      "2019-11-28 05:55:30 [scrapy.core.scraper] DEBUG: Scraped from <200 http://playnomore.co.kr/product/sold-out-winkygirl-color-blocks-5cm-rose-gold/18/?cate_no=25&display_group=1>\n",
      "{'img': 'http://playnomore.co.kr/web/product/big/201702/18_shop7_183931.jpg',\n",
      " 'link': 'http://playnomore.co.kr/product/sold-out-winkygirl-color-blocks-5cm-rose-gold/18/?cate_no=25&display_group=1',\n",
      " 'price': '$ 414',\n",
      " 'title': '[SOLD OUT] WINKYGIRL COLOR BLOCKS (5cm) rose gold'}\n"
     ]
    },
    {
     "name": "stdout",
     "output_type": "stream",
     "text": [
      "2019-11-28 05:55:30 [scrapy.core.scraper] DEBUG: Scraped from <200 http://playnomore.co.kr/product/sold-out-winkygirl-color-blocks-5cm-multi/19/?cate_no=25&display_group=1>\r\n",
      "{'img': 'http://playnomore.co.kr/web/product/big/201702/19_shop7_561442.jpg',\r\n",
      " 'link': 'http://playnomore.co.kr/product/sold-out-winkygirl-color-blocks-5cm-multi/19/?cate_no=25&display_group=1',\r\n",
      " 'price': '$ 414',\r\n",
      " 'title': '[SOLD OUT] WINKYGIRL COLOR BLOCKS (5cm) multi'}\r\n",
      "2019-11-28 05:55:30 [scrapy.core.engine] INFO: Closing spider (finished)\r\n",
      "2019-11-28 05:55:30 [scrapy.extensions.feedexport] INFO: Stored csv feed (15 items) in: playnomore2.csv\r\n",
      "2019-11-28 05:55:30 [scrapy.statscollectors] INFO: Dumping Scrapy stats:\r\n",
      "{'downloader/request_bytes': 15998,\r\n",
      " 'downloader/request_count': 32,\r\n",
      " 'downloader/request_method_count/GET': 32,\r\n",
      " 'downloader/response_bytes': 303173,\r\n",
      " 'downloader/response_count': 32,\r\n",
      " 'downloader/response_status_count/200': 17,\r\n",
      " 'downloader/response_status_count/301': 15,\r\n",
      " 'elapsed_time_seconds': 1.261397,\r\n",
      " 'finish_reason': 'finished',\r\n",
      " 'finish_time': datetime.datetime(2019, 11, 28, 5, 55, 30, 301346),\r\n",
      " 'item_scraped_count': 15,\r\n",
      " 'log_count/DEBUG': 47,\r\n",
      " 'log_count/INFO': 11,\r\n",
      " 'memusage/max': 55128064,\r\n",
      " 'memusage/startup': 55128064,\r\n",
      " 'request_depth_max': 1,\r\n",
      " 'response_received_count': 17,\r\n",
      " 'robotstxt/request_count': 1,\r\n",
      " 'robotstxt/response_count': 1,\r\n",
      " 'robotstxt/response_status_count/200': 1,\r\n",
      " 'scheduler/dequeued': 31,\r\n",
      " 'scheduler/dequeued/memory': 31,\r\n",
      " 'scheduler/enqueued': 31,\r\n",
      " 'scheduler/enqueued/memory': 31,\r\n",
      " 'start_time': datetime.datetime(2019, 11, 28, 5, 55, 29, 39949)}\r\n",
      "2019-11-28 05:55:30 [scrapy.core.engine] INFO: Spider closed (finished)\r\n"
     ]
    }
   ],
   "source": [
    "!./run.sh"
   ]
  }
 ],
 "metadata": {
  "kernelspec": {
   "display_name": "Python 3",
   "language": "python",
   "name": "python3"
  },
  "language_info": {
   "codemirror_mode": {
    "name": "ipython",
    "version": 3
   },
   "file_extension": ".py",
   "mimetype": "text/x-python",
   "name": "python",
   "nbconvert_exporter": "python",
   "pygments_lexer": "ipython3",
   "version": "3.7.3"
  }
 },
 "nbformat": 4,
 "nbformat_minor": 2
}
