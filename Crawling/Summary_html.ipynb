{
 "cells": [
  {
   "cell_type": "markdown",
   "metadata": {},
   "source": [
    "### 1. HTML\n",
    "- 웹 문서를 작성하는 언어\n",
    "- Document\n",
    "    - HTML 코드를 구성하고 있는 모든 문자열 코드\n",
    "- Element\n",
    "    - Document를 구성하고 있는 단위\n",
    "    - 시작 Tag와 끝 Tag로 구성되어있다.\n",
    "- Tag\n",
    "    - Element를 구성하는 단위\n",
    "    - Tag의 종류에 따라서 웹 서비스에서 사용되는 기능이 달라진다.\n",
    "    - 시작 Tag에 속성값을 설정할 수 있다.\n",
    "    - 가장 많이 사용하는 Tag\n",
    "        - div : 하나의 영역 레이아웃을 나타낸다.\n",
    "        - ul li : 리스트를 나타내는 태그\n",
    "        - a : 링크를 나타내는 태그 -> href\n",
    "        - p : 한줄 문자열을 나타내는 태그\n",
    "        - span : 블럭 단위로 문자열을 나타내는 태그\n",
    "        - img : 이미지를 나타낸다.\n",
    "        - table\n",
    "- Attribute\n",
    "    - 시작 태그에 태그의 속성을 설정하는 값\n",
    "    - id, class, 기타 등등\n",
    "        - id : 웹페이지 내에서 유일한 값\n",
    "        - class : 페이지 내에서 같은 값 사용이 가능, 엘리먼트 내에서도 여러개 설정 가능"
   ]
  },
  {
   "cell_type": "markdown",
   "metadata": {},
   "source": [
    "### 2. CSS Selector\n",
    "- HTML의 Element를 선택하기 위한 방법\n",
    "- Element를 선택하는 방법\n",
    "    - Tag 이름 : `div`\n",
    "    - id 값 : `#wrap`\n",
    "    - class 값 : `.wrap`\n",
    "    - 기타 속성값 : `[data=\"python\"]`\n",
    "- 혼합해서 사용 가능\n",
    "    - `div.wrap` : div태그에 wrap클래스를 가진 것을 선택\n",
    "    - 기타 등등\n",
    "- not, nth-child\n",
    "    - not : `.wrap:not(.python)` : 모든 wrap클래스를 선택하는데 python클래스를 포함한것은 제외\n",
    "    - nth-child : `.wrap:nth-child(3)` : 상위 엘리먼트에서 세번째가 wrap클래스가 있으면 선택\n",
    "- 계층적 구조로 선택하는 방법\n",
    "    - `#wrap > .txt` : 바로 한단계 하위 엘리먼트에서 검색 -> 등호 사용\n",
    "    - `#wrap .txt` : 모든 하위 엘리먼트에서 검색 -> 띄어쓰기 사용\n",
    "    - `#data > .wrap:nth-child(3)`"
   ]
  }
 ],
 "metadata": {
  "kernelspec": {
   "display_name": "Python 3",
   "language": "python",
   "name": "python3"
  },
  "language_info": {
   "codemirror_mode": {
    "name": "ipython",
    "version": 3
   },
   "file_extension": ".py",
   "mimetype": "text/x-python",
   "name": "python",
   "nbconvert_exporter": "python",
   "pygments_lexer": "ipython3",
   "version": "3.7.3"
  }
 },
 "nbformat": 4,
 "nbformat_minor": 2
}
