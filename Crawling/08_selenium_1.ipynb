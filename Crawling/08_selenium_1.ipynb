{
 "cells": [
  {
   "cell_type": "markdown",
   "metadata": {},
   "source": [
    "### Selenium\n",
    "- 브라우저를 직접 실행하여 자동화하고 브라우저상에 있는 데이터를 수집하는 방법\n",
    "- 웹 테스트 자동화를 위해서 만들어진 라이브러리\n",
    "- 다양한 브라우저 지원\n",
    "- 다양한 언어를 지원"
   ]
  },
  {
   "cell_type": "markdown",
   "metadata": {},
   "source": [
    "#### 설정\n",
    "- chrome driver 설정\n",
    "    - 크롬 드라이버 다운로드 : `https://chromedriver.chromium.org/downloads`\n",
    "    - 본인 컴퓨터에 맞는 크롬 드라이버 버전을 확인 후 다운로드\n",
    "        - 크롬 버전 확인\n",
    "            - 크롬 설정 -> 도움말\n",
    "    - 사용중인 주피터 노트북과 같은 디렉도리에 크롬 드라이버 파일 업로드\n",
    "        - `chromedriver.exe`\n",
    "    - global 설정\n",
    "        - mac\n",
    "            - chromedriver 파일을 /usr/local/bin 디렉토리로 복사\n",
    "            - `sudo cp ~/Downloads/chromedriver /usr/local/bin`\n",
    "        - windows\n",
    "            - 환경변수 추가\n",
    "            - 내컴퓨터 - 속성 - 고급시스템설정 - 환경변수\n",
    "                - chromedriver의 path를 추가\n",
    "- selenium python package 설치\n",
    "    - `sudo pip install selenium`\n",
    "    - `conda install -c conda-forge selenium`"
   ]
  },
  {
   "cell_type": "code",
   "execution_count": 6,
   "metadata": {},
   "outputs": [],
   "source": [
    "from selenium import webdriver"
   ]
  },
  {
   "cell_type": "code",
   "execution_count": 16,
   "metadata": {},
   "outputs": [],
   "source": [
    "driver = webdriver.Chrome() # 새로운 브라우저가 뜬다. -> 객체가 브라우져랑 연결되있다."
   ]
  },
  {
   "cell_type": "markdown",
   "metadata": {},
   "source": [
    "#### 페이지 이동 : get"
   ]
  },
  {
   "cell_type": "code",
   "execution_count": 17,
   "metadata": {},
   "outputs": [],
   "source": [
    "driver.get(\"https://daum.net\")"
   ]
  },
  {
   "cell_type": "markdown",
   "metadata": {},
   "source": [
    "#### 윈도우 사이즈 조절"
   ]
  },
  {
   "cell_type": "code",
   "execution_count": 18,
   "metadata": {},
   "outputs": [],
   "source": [
    "driver.set_window_size(800, 600) # 픽셀"
   ]
  },
  {
   "cell_type": "markdown",
   "metadata": {},
   "source": [
    "#### 스크롤 위치 조절"
   ]
  },
  {
   "cell_type": "code",
   "execution_count": 19,
   "metadata": {},
   "outputs": [],
   "source": [
    "driver.execute_script(\"window.scrollTo(200, 300);\") # 자바스크립트를 실행시킨다.\n",
    "# 전체 Document에서 200, 300의 위치로 이동시킨다.\n",
    "# 크롤링을 할때 화면에 보이지 않으면 이벤트를 발생하지 않는다.\n",
    "# ex - 화면 클릭 이벤트를 하기위해서 원하는 화면의 위치로 이동을 해야지 이벤트가 작동한다."
   ]
  },
  {
   "cell_type": "markdown",
   "metadata": {},
   "source": [
    "#### alert 다루기\n",
    "- alert창을 확인을 눌러서 없어야지 크롤링이 원활하게 된다."
   ]
  },
  {
   "cell_type": "code",
   "execution_count": 22,
   "metadata": {},
   "outputs": [],
   "source": [
    "driver.execute_script(\"alert('FastCampus!');\")"
   ]
  },
  {
   "cell_type": "markdown",
   "metadata": {},
   "source": [
    "- alert 창 확인버튼 누르기"
   ]
  },
  {
   "cell_type": "code",
   "execution_count": 23,
   "metadata": {},
   "outputs": [],
   "source": [
    "alert = driver.switch_to.alert\n",
    "alert.accept()"
   ]
  },
  {
   "cell_type": "markdown",
   "metadata": {},
   "source": [
    "#### input 태그에 문자열 입력\n",
    "- `daum.net`을 사용\n",
    "- select_one : `find_element_by_css_selector`\n",
    "- select : `find_elements_by_css_selector`"
   ]
  },
  {
   "cell_type": "code",
   "execution_count": 29,
   "metadata": {},
   "outputs": [],
   "source": [
    "# 패스트 캠퍼스 문자를 입력\n",
    "driver.find_element_by_css_selector(\"#q\").send_keys(\"패스트 캠퍼스\")"
   ]
  },
  {
   "cell_type": "code",
   "execution_count": 27,
   "metadata": {},
   "outputs": [],
   "source": [
    "# 기존 검색을 지우고 새로운 검색을 입력\n",
    "driver.find_element_by_css_selector(\"#q\").clear()\n",
    "driver.find_element_by_css_selector(\"#q\").send_keys(\"파이썬\")"
   ]
  },
  {
   "cell_type": "markdown",
   "metadata": {},
   "source": [
    "#### button 클릭"
   ]
  },
  {
   "cell_type": "code",
   "execution_count": 30,
   "metadata": {},
   "outputs": [],
   "source": [
    "driver.find_element_by_css_selector(\".inner_search > .btn_search\").click()"
   ]
  },
  {
   "cell_type": "markdown",
   "metadata": {},
   "source": [
    "#### 브라우저 종료"
   ]
  },
  {
   "cell_type": "code",
   "execution_count": 31,
   "metadata": {},
   "outputs": [],
   "source": [
    "driver.quit()"
   ]
  },
  {
   "cell_type": "markdown",
   "metadata": {},
   "source": [
    "### Darksky api 키 재발급 자동화\n",
    "- `https://darksky.net/dev`"
   ]
  },
  {
   "cell_type": "markdown",
   "metadata": {},
   "source": [
    "#### 1. 브라우저 열기"
   ]
  },
  {
   "cell_type": "code",
   "execution_count": 32,
   "metadata": {},
   "outputs": [],
   "source": [
    "driver = webdriver.Chrome()"
   ]
  },
  {
   "cell_type": "markdown",
   "metadata": {},
   "source": [
    "#### 2. 로그인 페이지 이동"
   ]
  },
  {
   "cell_type": "code",
   "execution_count": 33,
   "metadata": {},
   "outputs": [],
   "source": [
    "driver.get(\"https://darksky.net/dev/login\")"
   ]
  },
  {
   "cell_type": "markdown",
   "metadata": {},
   "source": [
    "#### 3. 이메일, 패스워드 입력"
   ]
  },
  {
   "cell_type": "code",
   "execution_count": 37,
   "metadata": {},
   "outputs": [],
   "source": [
    "email = \"email\"\n",
    "pw = \"password\"\n",
    "\n",
    "driver.find_element_by_css_selector(\"#email\").clear()\n",
    "driver.find_element_by_css_selector(\"#password\").clear()\n",
    "driver.find_element_by_css_selector(\"#email\").send_keys(email)\n",
    "driver.find_element_by_css_selector(\"#password\").send_keys(pw)"
   ]
  },
  {
   "cell_type": "markdown",
   "metadata": {},
   "source": [
    "#### 4. 로그인 버튼 클릭"
   ]
  },
  {
   "cell_type": "code",
   "execution_count": 38,
   "metadata": {},
   "outputs": [],
   "source": [
    "driver.find_element_by_css_selector('[type=\"submit\"]').click()"
   ]
  },
  {
   "cell_type": "markdown",
   "metadata": {},
   "source": [
    "#### 5. 리셋 시크릿 버튼 클릭"
   ]
  },
  {
   "cell_type": "code",
   "execution_count": 39,
   "metadata": {},
   "outputs": [],
   "source": [
    "driver.find_element_by_css_selector('.reset-key').click()"
   ]
  },
  {
   "cell_type": "markdown",
   "metadata": {},
   "source": [
    "#### 6. alert 확인 버튼 클릭"
   ]
  },
  {
   "cell_type": "code",
   "execution_count": 41,
   "metadata": {},
   "outputs": [],
   "source": [
    "alert = driver.switch_to.alert\n",
    "alert.accept()"
   ]
  },
  {
   "cell_type": "markdown",
   "metadata": {},
   "source": [
    "#### 7. 바뀐 키값 출력"
   ]
  },
  {
   "cell_type": "code",
   "execution_count": null,
   "metadata": {},
   "outputs": [],
   "source": [
    "s_key = driver.find_element_by_css_selector(\"#api-key\").get_attribute(\"value\")"
   ]
  },
  {
   "cell_type": "markdown",
   "metadata": {},
   "source": [
    "#### 8. 브라우저 종료"
   ]
  },
  {
   "cell_type": "code",
   "execution_count": 43,
   "metadata": {},
   "outputs": [],
   "source": [
    "driver.quit()"
   ]
  },
  {
   "cell_type": "markdown",
   "metadata": {},
   "source": [
    "### 함수로 만들기"
   ]
  },
  {
   "cell_type": "code",
   "execution_count": 44,
   "metadata": {},
   "outputs": [],
   "source": [
    "def reset_darksky_key(ID, PW):\n",
    "    driver = webdriver.Chrome()\n",
    "    driver.get(\"https://darksky.net/dev/login\")\n",
    "    driver.find_element_by_css_selector(\"#email\").send_keys(ID)\n",
    "    driver.find_element_by_css_selector(\"#password\").send_keys(PW)\n",
    "    driver.find_element_by_css_selector('[type=\"submit\"]').click()\n",
    "    driver.find_element_by_css_selector('.reset-key').click()\n",
    "    alert = driver.switch_to.alert\n",
    "    alert.accept()\n",
    "    s_key = driver.find_element_by_css_selector(\"#api-key\").get_attribute(\"value\")\n",
    "    driver.quit()\n",
    "    return s_key"
   ]
  },
  {
   "cell_type": "code",
   "execution_count": null,
   "metadata": {},
   "outputs": [],
   "source": [
    "email = \"email\"\n",
    "pw = \"password\"\n",
    "reset_darksky_key(email, pw)"
   ]
  }
 ],
 "metadata": {
  "kernelspec": {
   "display_name": "Python 3",
   "language": "python",
   "name": "python3"
  },
  "language_info": {
   "codemirror_mode": {
    "name": "ipython",
    "version": 3
   },
   "file_extension": ".py",
   "mimetype": "text/x-python",
   "name": "python",
   "nbconvert_exporter": "python",
   "pygments_lexer": "ipython3",
   "version": "3.7.3"
  }
 },
 "nbformat": 4,
 "nbformat_minor": 2
}
