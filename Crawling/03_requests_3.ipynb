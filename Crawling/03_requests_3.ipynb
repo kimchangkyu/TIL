{
 "cells": [
  {
   "cell_type": "markdown",
   "metadata": {},
   "source": [
    "### 직방\n",
    "- 동이름을 입력하면 아파트 매물을 데이터 프레임으로 만들기\n",
    "- robots.txt"
   ]
  },
  {
   "cell_type": "markdown",
   "metadata": {},
   "source": [
    "### 1. 웹서비스 분석 : URL 찾기, 크롤링 전략 세우기\n",
    "- 동이름 입력 -> lat, lng(위도, 경도 가져오기)\n",
    "- lat, lng -> geohash : geohash 패키지 설치\n",
    "- geohash -> item ids 가져오기\n",
    "- item ids -> item datas 가져오기 -> 데이터 프레임으로 만들기"
   ]
  },
  {
   "cell_type": "code",
   "execution_count": 3,
   "metadata": {},
   "outputs": [],
   "source": [
    "import requests"
   ]
  },
  {
   "cell_type": "markdown",
   "metadata": {},
   "source": [
    "### 1) 동이름 -> 위도 경도 가져오기"
   ]
  },
  {
   "cell_type": "code",
   "execution_count": 6,
   "metadata": {},
   "outputs": [],
   "source": [
    "addr = \"성수동\" # 주소\n",
    "url = \"https://apis.zigbang.com/search?q={}\".format(addr)\n",
    "response = requests.get(url)\n",
    "data = response.json()[\"items\"][0] # 파싱 # 간단하게 하나의 데이터만 가져오기\n",
    "lat, lng = data[\"lat\"], data[\"lng\"] # 위도, 경도 데이터"
   ]
  },
  {
   "cell_type": "markdown",
   "metadata": {},
   "source": [
    "### 2) 위도, 경도 -> geohash 데이터 가져오기"
   ]
  },
  {
   "cell_type": "code",
   "execution_count": 8,
   "metadata": {},
   "outputs": [],
   "source": [
    "# geohash : 위도, 경도 값을 문자로 바꿔주는 패키지 - > pip install geohash2"
   ]
  },
  {
   "cell_type": "code",
   "execution_count": 9,
   "metadata": {},
   "outputs": [],
   "source": [
    "import geohash2"
   ]
  },
  {
   "cell_type": "code",
   "execution_count": 10,
   "metadata": {},
   "outputs": [
    {
     "data": {
      "text/plain": [
       "(37.541725158691406, 127.04335021972656, 'wydmd')"
      ]
     },
     "execution_count": 10,
     "metadata": {},
     "output_type": "execute_result"
    }
   ],
   "source": [
    "# precision : 작을수록 큰범위, 클수록 작은범위\n",
    "geohash = geohash2.encode(lat, lng, precision = 5)\n",
    "lat, lng, geohash"
   ]
  },
  {
   "cell_type": "markdown",
   "metadata": {},
   "source": [
    "### 3) geohash -> ids 데이터 가져오기"
   ]
  },
  {
   "cell_type": "code",
   "execution_count": 16,
   "metadata": {},
   "outputs": [
    {
     "data": {
      "text/plain": [
       "(2345, [17788871, 17813458, 17962259])"
      ]
     },
     "execution_count": 16,
     "metadata": {},
     "output_type": "execute_result"
    }
   ],
   "source": [
    "url = \"https://apis.zigbang.com/property/apartments/items?domain=zigbang&geohash={}&q=type=sales%7Cprice=0~-1%7CfloorArea=0~-1\".format(geohash)\n",
    "response = requests.get(url)\n",
    "datas = response.json()[\"items\"]\n",
    "ids = [data[\"itemId\"] for data in datas] # 원하는 itemId를 리스트로 만들기\n",
    "len(data), ids[:3]"
   ]
  },
  {
   "cell_type": "markdown",
   "metadata": {},
   "source": [
    "### 4) ids -> items 데이터 가져오기"
   ]
  },
  {
   "cell_type": "code",
   "execution_count": 19,
   "metadata": {},
   "outputs": [],
   "source": [
    "ids_str = str(ids[:200]).replace(\" \", \"\") # 데이터의 공백을 없애준다. # 공백이 있으면 에러가 난다.\n",
    "# 200개의 데이터만 가져온다 2345개를 다 가져오면 너무 많은 데이터로 오류가 난다."
   ]
  },
  {
   "cell_type": "code",
   "execution_count": 22,
   "metadata": {},
   "outputs": [],
   "source": [
    "url = \"https://apis.zigbang.com/property/apartments/items?\\\n",
    "vritemIds={ids}&itemIds={ids}&citemIds={ids}\".format(ids = ids_str)\n",
    "response = requests.get(url)\n",
    "datas = response.json()[\"items\"]"
   ]
  },
  {
   "cell_type": "code",
   "execution_count": 39,
   "metadata": {},
   "outputs": [],
   "source": [
    "# 데이터 프레임으로 만들기\n",
    "item_df = pd.DataFrame(datas)"
   ]
  },
  {
   "cell_type": "code",
   "execution_count": 40,
   "metadata": {},
   "outputs": [
    {
     "data": {
      "text/plain": [
       "39"
      ]
     },
     "execution_count": 40,
     "metadata": {},
     "output_type": "execute_result"
    }
   ],
   "source": [
    "len(item_df.columns)"
   ]
  },
  {
   "cell_type": "code",
   "execution_count": 41,
   "metadata": {},
   "outputs": [],
   "source": [
    "# pandas option 설정\n",
    "# 중간에 columns이 끊어져서 보이는것을 해결\n",
    "pd.options.display.max_columns # 20개 출력\n",
    "pd.options.display.max_columns = len(item_df.columns) # 39개"
   ]
  },
  {
   "cell_type": "code",
   "execution_count": 42,
   "metadata": {},
   "outputs": [
    {
     "data": {
      "text/html": [
       "<div>\n",
       "<style scoped>\n",
       "    .dataframe tbody tr th:only-of-type {\n",
       "        vertical-align: middle;\n",
       "    }\n",
       "\n",
       "    .dataframe tbody tr th {\n",
       "        vertical-align: top;\n",
       "    }\n",
       "\n",
       "    .dataframe thead th {\n",
       "        text-align: right;\n",
       "    }\n",
       "</style>\n",
       "<table border=\"1\" class=\"dataframe\">\n",
       "  <thead>\n",
       "    <tr style=\"text-align: right;\">\n",
       "      <th></th>\n",
       "      <th>agentId</th>\n",
       "      <th>agentName</th>\n",
       "      <th>agentNo</th>\n",
       "      <th>agentPhone</th>\n",
       "      <th>agentTel</th>\n",
       "      <th>agentUserName</th>\n",
       "      <th>agreementArea</th>\n",
       "      <th>agreementAreaName</th>\n",
       "      <th>apartmentId</th>\n",
       "      <th>apartmentName</th>\n",
       "      <th>buildingFloor</th>\n",
       "      <th>buildingName</th>\n",
       "      <th>created_at</th>\n",
       "      <th>exclusive_type</th>\n",
       "      <th>floorPlan</th>\n",
       "      <th>grossArea</th>\n",
       "      <th>grossAreaName</th>\n",
       "      <th>groupedItemFloor</th>\n",
       "      <th>house_key</th>\n",
       "      <th>isNew</th>\n",
       "      <th>itemId</th>\n",
       "      <th>itemImage</th>\n",
       "      <th>itemImages</th>\n",
       "      <th>itemTitle</th>\n",
       "      <th>lat</th>\n",
       "      <th>lng</th>\n",
       "      <th>netArea</th>\n",
       "      <th>real_type</th>\n",
       "      <th>regDate</th>\n",
       "      <th>regTime</th>\n",
       "      <th>rent</th>\n",
       "      <th>roomTypeId</th>\n",
       "      <th>sales</th>\n",
       "      <th>sectionType</th>\n",
       "      <th>type</th>\n",
       "      <th>userNo</th>\n",
       "      <th>viewType</th>\n",
       "      <th>vr_request_id</th>\n",
       "      <th>vr_status</th>\n",
       "    </tr>\n",
       "  </thead>\n",
       "  <tbody>\n",
       "    <tr>\n",
       "      <th>198</th>\n",
       "      <td>2724034</td>\n",
       "      <td>우리공인중개사</td>\n",
       "      <td>NaN</td>\n",
       "      <td>01043873588</td>\n",
       "      <td>0222991900</td>\n",
       "      <td>최성숙</td>\n",
       "      <td>{'m2': 0, 'p': 0}</td>\n",
       "      <td>{'m2': 144, 'p': 43}</td>\n",
       "      <td>1349</td>\n",
       "      <td>행당한진타운</td>\n",
       "      <td>19</td>\n",
       "      <td>121동</td>\n",
       "      <td>2019-10-05 18:44:14</td>\n",
       "      <td>1</td>\n",
       "      <td>https://ic.zigbang.com/ic/floorplan/1349/3668/...</td>\n",
       "      <td>{'m2': 144, 'p': 43}</td>\n",
       "      <td>{'m2': 144, 'p': 43}</td>\n",
       "      <td>고층</td>\n",
       "      <td>None</td>\n",
       "      <td>True</td>\n",
       "      <td>18318214</td>\n",
       "      <td>[https://ic.zigbang.com/ic/floorplan/1349/3668...</td>\n",
       "      <td>None</td>\n",
       "      <td>입주가능, 욕실포함올수리되어 깨끗, 전망좋고 채광좋은집</td>\n",
       "      <td>37.555933</td>\n",
       "      <td>127.028746</td>\n",
       "      <td>{'m2': 114, 'p': 34}</td>\n",
       "      <td>아파트</td>\n",
       "      <td>2019-11-08</td>\n",
       "      <td>2019-11-08T02:46:43.000Z</td>\n",
       "      <td>0</td>\n",
       "      <td>3668</td>\n",
       "      <td>115000</td>\n",
       "      <td>premium_recommend</td>\n",
       "      <td>매매</td>\n",
       "      <td>2724034</td>\n",
       "      <td>1</td>\n",
       "      <td>None</td>\n",
       "      <td>None</td>\n",
       "    </tr>\n",
       "    <tr>\n",
       "      <th>199</th>\n",
       "      <td>2724034</td>\n",
       "      <td>우리공인중개사</td>\n",
       "      <td>NaN</td>\n",
       "      <td>01043873588</td>\n",
       "      <td>0222991900</td>\n",
       "      <td>최성숙</td>\n",
       "      <td>{'m2': 0, 'p': 0}</td>\n",
       "      <td>{'m2': 104, 'p': 31}</td>\n",
       "      <td>5361</td>\n",
       "      <td>행당대림</td>\n",
       "      <td>15</td>\n",
       "      <td>113동</td>\n",
       "      <td>2019-07-25 15:50:37</td>\n",
       "      <td>1</td>\n",
       "      <td>https://ic.zigbang.com/ic/floorplan/5361/8644/...</td>\n",
       "      <td>{'m2': 104, 'p': 31}</td>\n",
       "      <td>{'m2': 104, 'p': 31}</td>\n",
       "      <td>저층</td>\n",
       "      <td>None</td>\n",
       "      <td>True</td>\n",
       "      <td>17331412</td>\n",
       "      <td>[https://ic.zigbang.com/ic/floorplan/5361/8644...</td>\n",
       "      <td>None</td>\n",
       "      <td>작은방확장, 올수리, 중문설치, 깨끗한집</td>\n",
       "      <td>37.557901</td>\n",
       "      <td>127.027117</td>\n",
       "      <td>{'m2': 84, 'p': 25}</td>\n",
       "      <td>아파트</td>\n",
       "      <td>2019-11-08</td>\n",
       "      <td>2019-11-08T02:46:43.000Z</td>\n",
       "      <td>0</td>\n",
       "      <td>8644</td>\n",
       "      <td>87000</td>\n",
       "      <td>premium_recommend</td>\n",
       "      <td>매매</td>\n",
       "      <td>2724034</td>\n",
       "      <td>1</td>\n",
       "      <td>None</td>\n",
       "      <td>None</td>\n",
       "    </tr>\n",
       "  </tbody>\n",
       "</table>\n",
       "</div>"
      ],
      "text/plain": [
       "     agentId agentName  agentNo   agentPhone    agentTel agentUserName  \\\n",
       "198  2724034   우리공인중개사      NaN  01043873588  0222991900           최성숙   \n",
       "199  2724034   우리공인중개사      NaN  01043873588  0222991900           최성숙   \n",
       "\n",
       "         agreementArea     agreementAreaName  apartmentId apartmentName  \\\n",
       "198  {'m2': 0, 'p': 0}  {'m2': 144, 'p': 43}         1349        행당한진타운   \n",
       "199  {'m2': 0, 'p': 0}  {'m2': 104, 'p': 31}         5361          행당대림   \n",
       "\n",
       "    buildingFloor buildingName           created_at exclusive_type  \\\n",
       "198            19         121동  2019-10-05 18:44:14              1   \n",
       "199            15         113동  2019-07-25 15:50:37              1   \n",
       "\n",
       "                                             floorPlan             grossArea  \\\n",
       "198  https://ic.zigbang.com/ic/floorplan/1349/3668/...  {'m2': 144, 'p': 43}   \n",
       "199  https://ic.zigbang.com/ic/floorplan/5361/8644/...  {'m2': 104, 'p': 31}   \n",
       "\n",
       "            grossAreaName groupedItemFloor house_key  isNew    itemId  \\\n",
       "198  {'m2': 144, 'p': 43}               고층      None   True  18318214   \n",
       "199  {'m2': 104, 'p': 31}               저층      None   True  17331412   \n",
       "\n",
       "                                             itemImage itemImages  \\\n",
       "198  [https://ic.zigbang.com/ic/floorplan/1349/3668...       None   \n",
       "199  [https://ic.zigbang.com/ic/floorplan/5361/8644...       None   \n",
       "\n",
       "                          itemTitle        lat         lng  \\\n",
       "198  입주가능, 욕실포함올수리되어 깨끗, 전망좋고 채광좋은집  37.555933  127.028746   \n",
       "199          작은방확장, 올수리, 중문설치, 깨끗한집  37.557901  127.027117   \n",
       "\n",
       "                  netArea real_type     regDate                   regTime  \\\n",
       "198  {'m2': 114, 'p': 34}       아파트  2019-11-08  2019-11-08T02:46:43.000Z   \n",
       "199   {'m2': 84, 'p': 25}       아파트  2019-11-08  2019-11-08T02:46:43.000Z   \n",
       "\n",
       "     rent  roomTypeId   sales        sectionType type   userNo  viewType  \\\n",
       "198     0        3668  115000  premium_recommend   매매  2724034         1   \n",
       "199     0        8644   87000  premium_recommend   매매  2724034         1   \n",
       "\n",
       "    vr_request_id vr_status  \n",
       "198          None      None  \n",
       "199          None      None  "
      ]
     },
     "execution_count": 42,
     "metadata": {},
     "output_type": "execute_result"
    }
   ],
   "source": [
    "item_df.tail(2)"
   ]
  },
  {
   "cell_type": "code",
   "execution_count": 43,
   "metadata": {},
   "outputs": [],
   "source": [
    "# 원하는 column을 필터링\n",
    "columns = [\n",
    "    \"itemId\", \"buildingFloor\", \"groupedItemFloor\", \"grossArea\", \n",
    "    \"lat\", \"lng\", \"sales\", \"itemTitle\" \n",
    "]"
   ]
  },
  {
   "cell_type": "code",
   "execution_count": 44,
   "metadata": {},
   "outputs": [
    {
     "data": {
      "text/html": [
       "<div>\n",
       "<style scoped>\n",
       "    .dataframe tbody tr th:only-of-type {\n",
       "        vertical-align: middle;\n",
       "    }\n",
       "\n",
       "    .dataframe tbody tr th {\n",
       "        vertical-align: top;\n",
       "    }\n",
       "\n",
       "    .dataframe thead th {\n",
       "        text-align: right;\n",
       "    }\n",
       "</style>\n",
       "<table border=\"1\" class=\"dataframe\">\n",
       "  <thead>\n",
       "    <tr style=\"text-align: right;\">\n",
       "      <th></th>\n",
       "      <th>itemId</th>\n",
       "      <th>buildingFloor</th>\n",
       "      <th>groupedItemFloor</th>\n",
       "      <th>grossArea</th>\n",
       "      <th>lat</th>\n",
       "      <th>lng</th>\n",
       "      <th>sales</th>\n",
       "      <th>itemTitle</th>\n",
       "    </tr>\n",
       "  </thead>\n",
       "  <tbody>\n",
       "    <tr>\n",
       "      <th>198</th>\n",
       "      <td>18318214</td>\n",
       "      <td>19</td>\n",
       "      <td>고층</td>\n",
       "      <td>{'m2': 144, 'p': 43}</td>\n",
       "      <td>37.555933</td>\n",
       "      <td>127.028746</td>\n",
       "      <td>115000</td>\n",
       "      <td>입주가능, 욕실포함올수리되어 깨끗, 전망좋고 채광좋은집</td>\n",
       "    </tr>\n",
       "    <tr>\n",
       "      <th>199</th>\n",
       "      <td>17331412</td>\n",
       "      <td>15</td>\n",
       "      <td>저층</td>\n",
       "      <td>{'m2': 104, 'p': 31}</td>\n",
       "      <td>37.557901</td>\n",
       "      <td>127.027117</td>\n",
       "      <td>87000</td>\n",
       "      <td>작은방확장, 올수리, 중문설치, 깨끗한집</td>\n",
       "    </tr>\n",
       "  </tbody>\n",
       "</table>\n",
       "</div>"
      ],
      "text/plain": [
       "       itemId buildingFloor groupedItemFloor             grossArea        lat  \\\n",
       "198  18318214            19               고층  {'m2': 144, 'p': 43}  37.555933   \n",
       "199  17331412            15               저층  {'m2': 104, 'p': 31}  37.557901   \n",
       "\n",
       "            lng   sales                       itemTitle  \n",
       "198  127.028746  115000  입주가능, 욕실포함올수리되어 깨끗, 전망좋고 채광좋은집  \n",
       "199  127.027117   87000          작은방확장, 올수리, 중문설치, 깨끗한집  "
      ]
     },
     "execution_count": 44,
     "metadata": {},
     "output_type": "execute_result"
    }
   ],
   "source": [
    "item_df = item_df[columns]\n",
    "item_df.tail(2)"
   ]
  },
  {
   "cell_type": "code",
   "execution_count": 45,
   "metadata": {},
   "outputs": [],
   "source": [
    "# grossArea 컬럼 분류\n",
    "item_df[\"m2\"] = item_df[\"grossArea\"].apply(lambda data: data[\"m2\"])\n",
    "item_df[\"p2\"] = item_df[\"grossArea\"].apply(lambda data: data[\"p\"])\n",
    "item_df.drop(columns=[\"grossArea\"], inplace = True)"
   ]
  },
  {
   "cell_type": "code",
   "execution_count": 46,
   "metadata": {},
   "outputs": [
    {
     "data": {
      "text/html": [
       "<div>\n",
       "<style scoped>\n",
       "    .dataframe tbody tr th:only-of-type {\n",
       "        vertical-align: middle;\n",
       "    }\n",
       "\n",
       "    .dataframe tbody tr th {\n",
       "        vertical-align: top;\n",
       "    }\n",
       "\n",
       "    .dataframe thead th {\n",
       "        text-align: right;\n",
       "    }\n",
       "</style>\n",
       "<table border=\"1\" class=\"dataframe\">\n",
       "  <thead>\n",
       "    <tr style=\"text-align: right;\">\n",
       "      <th></th>\n",
       "      <th>itemId</th>\n",
       "      <th>buildingFloor</th>\n",
       "      <th>groupedItemFloor</th>\n",
       "      <th>lat</th>\n",
       "      <th>lng</th>\n",
       "      <th>sales</th>\n",
       "      <th>itemTitle</th>\n",
       "      <th>m2</th>\n",
       "      <th>p2</th>\n",
       "    </tr>\n",
       "  </thead>\n",
       "  <tbody>\n",
       "    <tr>\n",
       "      <th>198</th>\n",
       "      <td>18318214</td>\n",
       "      <td>19</td>\n",
       "      <td>고층</td>\n",
       "      <td>37.555933</td>\n",
       "      <td>127.028746</td>\n",
       "      <td>115000</td>\n",
       "      <td>입주가능, 욕실포함올수리되어 깨끗, 전망좋고 채광좋은집</td>\n",
       "      <td>144</td>\n",
       "      <td>43</td>\n",
       "    </tr>\n",
       "    <tr>\n",
       "      <th>199</th>\n",
       "      <td>17331412</td>\n",
       "      <td>15</td>\n",
       "      <td>저층</td>\n",
       "      <td>37.557901</td>\n",
       "      <td>127.027117</td>\n",
       "      <td>87000</td>\n",
       "      <td>작은방확장, 올수리, 중문설치, 깨끗한집</td>\n",
       "      <td>104</td>\n",
       "      <td>31</td>\n",
       "    </tr>\n",
       "  </tbody>\n",
       "</table>\n",
       "</div>"
      ],
      "text/plain": [
       "       itemId buildingFloor groupedItemFloor        lat         lng   sales  \\\n",
       "198  18318214            19               고층  37.555933  127.028746  115000   \n",
       "199  17331412            15               저층  37.557901  127.027117   87000   \n",
       "\n",
       "                          itemTitle   m2  p2  \n",
       "198  입주가능, 욕실포함올수리되어 깨끗, 전망좋고 채광좋은집  144  43  \n",
       "199          작은방확장, 올수리, 중문설치, 깨끗한집  104  31  "
      ]
     },
     "execution_count": 46,
     "metadata": {},
     "output_type": "execute_result"
    }
   ],
   "source": [
    "item_df.tail(2)"
   ]
  },
  {
   "cell_type": "markdown",
   "metadata": {},
   "source": [
    "#### 함수로 만들기\n",
    "- 동이름 -> 아파트 매물 데이터 프레임이 출력"
   ]
  },
  {
   "cell_type": "code",
   "execution_count": 59,
   "metadata": {},
   "outputs": [],
   "source": [
    "def crawling_apt(addr):\n",
    "    # 동이름 -> 위도, 경도 가져오기\n",
    "    url = \"https://apis.zigbang.com/search?q={}\".format(addr)\n",
    "    response = requests.get(url)\n",
    "    data = response.json()[\"items\"][0] # 파싱 # 간단하게 하나의 데이터만 가져오기\n",
    "    lat, lng = data[\"lat\"], data[\"lng\"] # 위도, 경도 데이터\n",
    "    \n",
    "    # 위도, 경도 -> geohash 데이터 가져오기\n",
    "    geohash = geohash2.encode(lat, lng, precision = 5)\n",
    "    \n",
    "    # geohash -> ids 데이터 가져오기\n",
    "    url = \"https://apis.zigbang.com/property/apartments/items?domain=zigbang&geohash={}&q=type=sales%7Cprice=0~-1%7CfloorArea=0~-1\".format(geohash)\n",
    "    response = requests.get(url)\n",
    "    datas = response.json()[\"items\"]\n",
    "    ids = [data[\"itemId\"] for data in datas]\n",
    "    \n",
    "    # ids -> items 매물정보 : 200개씩\n",
    "    dfs = []\n",
    "    for idx in range(0, len(ids), 200):\n",
    "        start, end = idx, idx + 200\n",
    "        ids_str = str(ids[start:end]).replace(\" \", \"\")\n",
    "        url = \"https://apis.zigbang.com/property/apartments/items?\\\n",
    "vritemIds={ids}&itemIds={ids}&citemIds={ids}\".format(ids = ids_str)\n",
    "        response = requests.get(url)\n",
    "        datas = response.json()[\"items\"]\n",
    "        item_df = pd.DataFrame(datas)\n",
    "        columns = [\"itemId\", \"buildingFloor\", \"groupedItemFloor\", \"grossArea\", \"lat\", \"lng\", \"sales\", \"itemTitle\" ]\n",
    "        item_df = item_df[columns]\n",
    "        item_df[\"m2\"] = item_df[\"grossArea\"].apply(lambda data: data[\"m2\"])\n",
    "        item_df[\"p2\"] = item_df[\"grossArea\"].apply(lambda data: data[\"p\"])\n",
    "        item_df.drop(columns=[\"grossArea\"], inplace = True)\n",
    "        dfs.append(item_df)\n",
    "        \n",
    "    result_df = pd.concat(dfs)\n",
    "    result_df.reset_index(drop=True, inplace=True)\n",
    "    return result_df"
   ]
  },
  {
   "cell_type": "code",
   "execution_count": 60,
   "metadata": {},
   "outputs": [
    {
     "data": {
      "text/html": [
       "<div>\n",
       "<style scoped>\n",
       "    .dataframe tbody tr th:only-of-type {\n",
       "        vertical-align: middle;\n",
       "    }\n",
       "\n",
       "    .dataframe tbody tr th {\n",
       "        vertical-align: top;\n",
       "    }\n",
       "\n",
       "    .dataframe thead th {\n",
       "        text-align: right;\n",
       "    }\n",
       "</style>\n",
       "<table border=\"1\" class=\"dataframe\">\n",
       "  <thead>\n",
       "    <tr style=\"text-align: right;\">\n",
       "      <th></th>\n",
       "      <th>itemId</th>\n",
       "      <th>buildingFloor</th>\n",
       "      <th>groupedItemFloor</th>\n",
       "      <th>lat</th>\n",
       "      <th>lng</th>\n",
       "      <th>sales</th>\n",
       "      <th>itemTitle</th>\n",
       "      <th>m2</th>\n",
       "      <th>p2</th>\n",
       "    </tr>\n",
       "  </thead>\n",
       "  <tbody>\n",
       "    <tr>\n",
       "      <th>2343</th>\n",
       "      <td>18414690</td>\n",
       "      <td>21</td>\n",
       "      <td>중층</td>\n",
       "      <td>37.568878</td>\n",
       "      <td>127.031898</td>\n",
       "      <td>85000</td>\n",
       "      <td>집상태 깨끗한 물건</td>\n",
       "      <td>107</td>\n",
       "      <td>32</td>\n",
       "    </tr>\n",
       "    <tr>\n",
       "      <th>2344</th>\n",
       "      <td>18408870</td>\n",
       "      <td>25</td>\n",
       "      <td>중층</td>\n",
       "      <td>37.570465</td>\n",
       "      <td>127.024673</td>\n",
       "      <td>118000</td>\n",
       "      <td>시세보다 저렴한 가격으로 투자하기 좋아요 현재 전세거주중</td>\n",
       "      <td>107</td>\n",
       "      <td>32</td>\n",
       "    </tr>\n",
       "  </tbody>\n",
       "</table>\n",
       "</div>"
      ],
      "text/plain": [
       "        itemId buildingFloor groupedItemFloor        lat         lng   sales  \\\n",
       "2343  18414690            21               중층  37.568878  127.031898   85000   \n",
       "2344  18408870            25               중층  37.570465  127.024673  118000   \n",
       "\n",
       "                            itemTitle   m2  p2  \n",
       "2343                       집상태 깨끗한 물건  107  32  \n",
       "2344  시세보다 저렴한 가격으로 투자하기 좋아요 현재 전세거주중  107  32  "
      ]
     },
     "execution_count": 60,
     "metadata": {},
     "output_type": "execute_result"
    }
   ],
   "source": [
    "result = crawling_apt(\"성수동\")\n",
    "result.tail(2)"
   ]
  },
  {
   "cell_type": "markdown",
   "metadata": {},
   "source": [
    "#### 연습"
   ]
  },
  {
   "cell_type": "code",
   "execution_count": 61,
   "metadata": {},
   "outputs": [],
   "source": [
    "# 도곡동에서 30층 이상되는 아파트에 고층 매물을 찾아서 구매를 할까 고민"
   ]
  },
  {
   "cell_type": "code",
   "execution_count": 71,
   "metadata": {},
   "outputs": [
    {
     "data": {
      "text/html": [
       "<div>\n",
       "<style scoped>\n",
       "    .dataframe tbody tr th:only-of-type {\n",
       "        vertical-align: middle;\n",
       "    }\n",
       "\n",
       "    .dataframe tbody tr th {\n",
       "        vertical-align: top;\n",
       "    }\n",
       "\n",
       "    .dataframe thead th {\n",
       "        text-align: right;\n",
       "    }\n",
       "</style>\n",
       "<table border=\"1\" class=\"dataframe\">\n",
       "  <thead>\n",
       "    <tr style=\"text-align: right;\">\n",
       "      <th></th>\n",
       "      <th>itemId</th>\n",
       "      <th>buildingFloor</th>\n",
       "      <th>groupedItemFloor</th>\n",
       "      <th>lat</th>\n",
       "      <th>lng</th>\n",
       "      <th>sales</th>\n",
       "      <th>itemTitle</th>\n",
       "      <th>m2</th>\n",
       "      <th>p2</th>\n",
       "    </tr>\n",
       "  </thead>\n",
       "  <tbody>\n",
       "    <tr>\n",
       "      <th>677</th>\n",
       "      <td>18464087</td>\n",
       "      <td>30</td>\n",
       "      <td>저층</td>\n",
       "      <td>37.493337</td>\n",
       "      <td>127.026873</td>\n",
       "      <td>215000</td>\n",
       "      <td>전세 안고 매매 가능 매물</td>\n",
       "      <td>111</td>\n",
       "      <td>33</td>\n",
       "    </tr>\n",
       "    <tr>\n",
       "      <th>678</th>\n",
       "      <td>18385710</td>\n",
       "      <td>15</td>\n",
       "      <td>None</td>\n",
       "      <td>37.492310</td>\n",
       "      <td>127.035778</td>\n",
       "      <td>170000</td>\n",
       "      <td>**실입주가능  **입주정상  **로얄층</td>\n",
       "      <td>183</td>\n",
       "      <td>55</td>\n",
       "    </tr>\n",
       "  </tbody>\n",
       "</table>\n",
       "</div>"
      ],
      "text/plain": [
       "       itemId buildingFloor groupedItemFloor        lat         lng   sales  \\\n",
       "677  18464087            30               저층  37.493337  127.026873  215000   \n",
       "678  18385710            15             None  37.492310  127.035778  170000   \n",
       "\n",
       "                    itemTitle   m2  p2  \n",
       "677           전세 안고 매매 가능 매물   111  33  \n",
       "678  **실입주가능  **입주정상  **로얄층    183  55  "
      ]
     },
     "execution_count": 71,
     "metadata": {},
     "output_type": "execute_result"
    }
   ],
   "source": [
    "items_df = crawling_apt(\"도곡동\")\n",
    "items_df.tail(2)"
   ]
  },
  {
   "cell_type": "code",
   "execution_count": 72,
   "metadata": {},
   "outputs": [
    {
     "data": {
      "text/plain": [
       "itemId                int64\n",
       "buildingFloor        object\n",
       "groupedItemFloor     object\n",
       "lat                 float64\n",
       "lng                 float64\n",
       "sales                 int64\n",
       "itemTitle            object\n",
       "m2                    int64\n",
       "p2                    int64\n",
       "dtype: object"
      ]
     },
     "execution_count": 72,
     "metadata": {},
     "output_type": "execute_result"
    }
   ],
   "source": [
    "items_df.dtypes\n",
    "# buildingFloor    object"
   ]
  },
  {
   "cell_type": "code",
   "execution_count": 73,
   "metadata": {},
   "outputs": [
    {
     "data": {
      "text/html": [
       "<div>\n",
       "<style scoped>\n",
       "    .dataframe tbody tr th:only-of-type {\n",
       "        vertical-align: middle;\n",
       "    }\n",
       "\n",
       "    .dataframe tbody tr th {\n",
       "        vertical-align: top;\n",
       "    }\n",
       "\n",
       "    .dataframe thead th {\n",
       "        text-align: right;\n",
       "    }\n",
       "</style>\n",
       "<table border=\"1\" class=\"dataframe\">\n",
       "  <thead>\n",
       "    <tr style=\"text-align: right;\">\n",
       "      <th></th>\n",
       "      <th>itemId</th>\n",
       "      <th>buildingFloor</th>\n",
       "      <th>groupedItemFloor</th>\n",
       "      <th>lat</th>\n",
       "      <th>lng</th>\n",
       "      <th>sales</th>\n",
       "      <th>itemTitle</th>\n",
       "      <th>m2</th>\n",
       "      <th>p2</th>\n",
       "    </tr>\n",
       "  </thead>\n",
       "  <tbody>\n",
       "    <tr>\n",
       "      <th>662</th>\n",
       "      <td>18464087</td>\n",
       "      <td>30</td>\n",
       "      <td>저층</td>\n",
       "      <td>37.493337</td>\n",
       "      <td>127.026873</td>\n",
       "      <td>215000</td>\n",
       "      <td>전세 안고 매매 가능 매물</td>\n",
       "      <td>111</td>\n",
       "      <td>33</td>\n",
       "    </tr>\n",
       "    <tr>\n",
       "      <th>663</th>\n",
       "      <td>18385710</td>\n",
       "      <td>15</td>\n",
       "      <td>None</td>\n",
       "      <td>37.492310</td>\n",
       "      <td>127.035778</td>\n",
       "      <td>170000</td>\n",
       "      <td>**실입주가능  **입주정상  **로얄층</td>\n",
       "      <td>183</td>\n",
       "      <td>55</td>\n",
       "    </tr>\n",
       "  </tbody>\n",
       "</table>\n",
       "</div>"
      ],
      "text/plain": [
       "       itemId buildingFloor groupedItemFloor        lat         lng   sales  \\\n",
       "662  18464087            30               저층  37.493337  127.026873  215000   \n",
       "663  18385710            15             None  37.492310  127.035778  170000   \n",
       "\n",
       "                    itemTitle   m2  p2  \n",
       "662           전세 안고 매매 가능 매물   111  33  \n",
       "663  **실입주가능  **입주정상  **로얄층    183  55  "
      ]
     },
     "execution_count": 73,
     "metadata": {},
     "output_type": "execute_result"
    }
   ],
   "source": [
    "# items_df[\"buildingFloor\"].astype(\"int\") # 에러\n",
    "items_df = items_df[items_df[\"buildingFloor\"].notnull()] # Na값 제거\n",
    "items_df.reset_index(drop=True, inplace=True)\n",
    "items_df.tail(2)"
   ]
  },
  {
   "cell_type": "code",
   "execution_count": 74,
   "metadata": {},
   "outputs": [],
   "source": [
    "items_df[\"buildingFloor\"] = items_df[\"buildingFloor\"].astype(\"int\")"
   ]
  },
  {
   "cell_type": "code",
   "execution_count": 75,
   "metadata": {},
   "outputs": [
    {
     "data": {
      "text/plain": [
       "91"
      ]
     },
     "execution_count": 75,
     "metadata": {},
     "output_type": "execute_result"
    }
   ],
   "source": [
    "result_df = items_df[\n",
    "    (items_df[\"buildingFloor\"] >= 30) &\n",
    "    (items_df[\"groupedItemFloor\"] == \"고층\")\n",
    "]\n",
    "len(result_df)"
   ]
  },
  {
   "cell_type": "code",
   "execution_count": 76,
   "metadata": {},
   "outputs": [
    {
     "data": {
      "text/plain": [
       "232054.94505494504"
      ]
     },
     "execution_count": 76,
     "metadata": {},
     "output_type": "execute_result"
    }
   ],
   "source": [
    "np.average(result_df[\"sales\"]) # 평균값 확인"
   ]
  },
  {
   "cell_type": "markdown",
   "metadata": {},
   "source": [
    "### 모듈로 만들기"
   ]
  },
  {
   "cell_type": "code",
   "execution_count": 77,
   "metadata": {},
   "outputs": [
    {
     "name": "stdout",
     "output_type": "stream",
     "text": [
      "Writing zigbang.py\n"
     ]
    }
   ],
   "source": [
    "%%writefile zigbang.py\n",
    "import pandas as pd\n",
    "import requests\n",
    "import geohash2\n",
    "\n",
    "def crawling_apt(addr):\n",
    "    # 동이름 -> 위도, 경도 가져오기\n",
    "    url = \"https://apis.zigbang.com/search?q={}\".format(addr)\n",
    "    response = requests.get(url)\n",
    "    data = response.json()[\"items\"][0] # 파싱 # 간단하게 하나의 데이터만 가져오기\n",
    "    lat, lng = data[\"lat\"], data[\"lng\"] # 위도, 경도 데이터\n",
    "    \n",
    "    # 위도, 경도 -> geohash 데이터 가져오기\n",
    "    geohash = geohash2.encode(lat, lng, precision = 5)\n",
    "    \n",
    "    # geohash -> ids 데이터 가져오기\n",
    "    url = \"https://apis.zigbang.com/property/apartments/items?domain=zigbang&geohash={}&q=type=sales%7Cprice=0~-1%7CfloorArea=0~-1\".format(geohash)\n",
    "    response = requests.get(url)\n",
    "    datas = response.json()[\"items\"]\n",
    "    ids = [data[\"itemId\"] for data in datas]\n",
    "    \n",
    "    # ids -> items 매물정보 : 200개씩\n",
    "    dfs = []\n",
    "    for idx in range(0, len(ids), 200):\n",
    "        start, end = idx, idx + 200\n",
    "        ids_str = str(ids[start:end]).replace(\" \", \"\")\n",
    "        url = \"https://apis.zigbang.com/property/apartments/items?\\\n",
    "vritemIds={ids}&itemIds={ids}&citemIds={ids}\".format(ids = ids_str)\n",
    "        response = requests.get(url)\n",
    "        datas = response.json()[\"items\"]\n",
    "        item_df = pd.DataFrame(datas)\n",
    "        columns = [\"itemId\", \"buildingFloor\", \"groupedItemFloor\", \"grossArea\", \"lat\", \"lng\", \"sales\", \"itemTitle\" ]\n",
    "        item_df = item_df[columns]\n",
    "        item_df[\"m2\"] = item_df[\"grossArea\"].apply(lambda data: data[\"m2\"])\n",
    "        item_df[\"p2\"] = item_df[\"grossArea\"].apply(lambda data: data[\"p\"])\n",
    "        item_df.drop(columns=[\"grossArea\"], inplace = True)\n",
    "        dfs.append(item_df)\n",
    "        \n",
    "    result_df = pd.concat(dfs)\n",
    "    result_df.reset_index(drop=True, inplace=True)\n",
    "    return result_df"
   ]
  }
 ],
 "metadata": {
  "kernelspec": {
   "display_name": "Python 3",
   "language": "python",
   "name": "python3"
  },
  "language_info": {
   "codemirror_mode": {
    "name": "ipython",
    "version": 3
   },
   "file_extension": ".py",
   "mimetype": "text/x-python",
   "name": "python",
   "nbconvert_exporter": "python",
   "pygments_lexer": "ipython3",
   "version": "3.7.3"
  }
 },
 "nbformat": 4,
 "nbformat_minor": 2
}
