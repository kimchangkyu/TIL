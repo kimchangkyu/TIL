{
 "cells": [
  {
   "cell_type": "code",
   "execution_count": 1,
   "metadata": {},
   "outputs": [],
   "source": [
    "import pandas as pd\n",
    "import requests\n",
    "from selenium import webdriver\n",
    "from bs4 import BeautifulSoup"
   ]
  },
  {
   "cell_type": "code",
   "execution_count": 15,
   "metadata": {},
   "outputs": [],
   "source": [
    "categories = {\n",
    "    100: \"정치\",\n",
    "    101: \"경제\",\n",
    "    102: \"사회\",\n",
    "    103: \"생활/문화\",\n",
    "    104: \"세계\",\n",
    "    105: \"IT/과학\",\n",
    "}"
   ]
  },
  {
   "cell_type": "code",
   "execution_count": 3,
   "metadata": {},
   "outputs": [],
   "source": [
    "category, date, page = 100, 20191121, 1\n",
    "\n",
    "url = \"https://news.naver.com/main/list.nhn?mode=LSD&mid=sec&sid1={}&date={}&page={}\".format(category, date, page)"
   ]
  },
  {
   "cell_type": "code",
   "execution_count": 4,
   "metadata": {},
   "outputs": [],
   "source": [
    "driver = webdriver.Chrome()\n",
    "driver.get(url)"
   ]
  },
  {
   "cell_type": "code",
   "execution_count": 5,
   "metadata": {},
   "outputs": [
    {
     "data": {
      "text/plain": [
       "20"
      ]
     },
     "execution_count": 5,
     "metadata": {},
     "output_type": "execute_result"
    }
   ],
   "source": [
    "articles = driver.find_elements_by_css_selector(\".list_body > ul > li\")\n",
    "len(articles)"
   ]
  },
  {
   "cell_type": "code",
   "execution_count": 6,
   "metadata": {},
   "outputs": [
    {
     "data": {
      "text/plain": [
       "('北, 文대통령 초청 친서에 \"김 위원장 참석이유 못찾아, 이해바란다\"',\n",
       " 'https://news.naver.com/main/read.nhn?mode=LSD&mid=sec&sid1=100&oid=123&aid=0002215174')"
      ]
     },
     "execution_count": 6,
     "metadata": {},
     "output_type": "execute_result"
    }
   ],
   "source": [
    "title = articles[0].find_element_by_css_selector(\"dt:not(.photo) > a\").text\n",
    "link = articles[0].find_element_by_css_selector(\"dt:not(.photo) > a\").get_attribute(\"href\")\n",
    "title, link"
   ]
  },
  {
   "cell_type": "code",
   "execution_count": 7,
   "metadata": {},
   "outputs": [],
   "source": [
    "response = requests.get(link)\n",
    "dom = BeautifulSoup(response.content, \"html.parser\")"
   ]
  },
  {
   "cell_type": "code",
   "execution_count": 10,
   "metadata": {},
   "outputs": [
    {
     "data": {
      "text/plain": [
       "'\"이 기회에 북남관계 풀기 위한 문 대통령의 고뇌와 번민 이해\"\"과연 지금이 북남수뇌분 만날 때인가\" 비판과 함께 초청 거부 밝혀◆…북한은 내주 부산 한-아세안 정상회의에 문재인 대통령이 김정은 국무위원장을 초청한 데 대해 \"참석해야 할 이유를 찾지 못했다\"고 공식 거부 입장을 밝혔다. 사진은 지난 6월 30일 판문점 남북미 정상간 극적 만남의 모습(청와대)김정은 북한 국무위원장이 오는 25일부터 부산에서 열리는 한·아세안 특별정상회의에 참석해달라는 문재인 대통령의 초청을 공식 거부했다.<조선중앙통신>은 21일 \"지난 11월 5일 남조선의 문재인 대통령은 조선민주주의인민공화국 국무위원회 위원장께서 이번 특별수뇌자회의에 참석해주실 것을 간절히 초청하는 친서를 정중히 보내왔다\"며 문 대통령이 초청 친서를 보낸 사실을 공개했다.통신은 그러면서 \"친서가 국무위원회 위원장에 대한 진정으로 되는 신뢰심과 곡진한 기대가 담긴 초청이라면 굳이 고맙게 생각하지 않을 까닭이 없다\"면서도 \"남측의 기대와 성의는 고맙지만 국무위원회 위원장께서 부산에 나가셔야 할 합당한 리유(이유)를 끝끝내 찾아내지 못한 데 대해 리해(이해)해주길 바란다\"며 불참을 통고했다.\\u3000\\u3000그동안 한-아세안 특별정상회의에 김 위원장을 초대할 것인 가에 대해 묵묵부답을 해 왔던 청와대로서는 북측의 이번 발표로 초대장을 보낸 게 공식적으로 확인 된 셈이라 다소 당황스러운 모양새다.매체는 또 \"우리는 보내온 친서가 국무위원회 위원장에 대한 진정으로 되는 신뢰심과 곡진한 기대가 담긴 초청이라면 굳이 고맙게 생각하지 않을 까닭이 없다\"면서도 \"하지만 흐려질대로 흐려진 남조선의 공기는 북남관계에 대해 매우 회의적이며 남조선당국도 북남사이에 제기되는 모든 문제를 의연히 민족공조가 아닌 외세의존으로 풀어나가려는 그릇된 립장에서 탈피하지 못하고 있는 것이 오늘의 엄연한 현실\"이라고 꼬집었다.이어 \"우리는 남측이 국무위원회 위원장의 부산방문과 관련한 경호와 의전 등 모든 영접준비를 최상의 수준에서 갖추어놓고 학수고대하고 있다는 것도 모르지 않는다\"면서 \"이 기회라도 놓치지 않고 현 북남관계를 풀기 위한 새로운 계기점과 여건을 만들어보려고 하는 문재인 대통령의 고뇌와 번민도 충분히 리해하고 있다\"고 언급했다.아울러 \"그것은 문재인 대통령의 친서가 온 후에도 몇 차례나 국무위원회 위원장께서 못 오신다면 특사라도 방문하게 해달라는 간절한 청을 보내온 것만 보아도 잘 알 수 있다\"고 했다.\\u3000\\u3000그러면서 \"지금 이 순간에조차 통일부 장관이라는 사람은 북남관계 문제를 들고 미국에로의 구걸행각에 올랐다니 애당초 자주성도 독자성도 없이 모든 것을 외세의 손탁에 전적으로 떠넘기고 있는 상대와 마주앉아 무엇을 론의할 수 있고 해결할 수 있겠는가\"라고 비난하기도 했다.매체는 \"진정이 담긴 글은 소경도 읽는다고 했다. 무슨 일에서나 다 제 시간과 장소가 있으며 들데, 날데가 따로 있는 법\"이라며 \"과연 지금의 시점이 북남수뇌분들이 만날 때이겠는가에 대해 생각해보지 않을 수 없다\"고 했다.매체는 이어 \"행성의 전파를 타고 흘러드는 소란스러운 울림들을 통하여 이남땅의 정서가 심히 깨끗치 못하다는 것을 우리도 알만큼은 다 알고 있다\"면서 \"남조선의 보수세력들은 현 정권을 친북정권이니 좌파정권이니 하고 입을 모아 헐뜯어대고 그 연장선우에서 북남합의파기를 떠들며 우리에 대한 비난과 공격에 그 어느 때보다 열을 올리고 있다\"고 불쾌감을 나타했다.\\u3000\\u3000매체는 또 \"지어 이전 정권에서도 감히 들어볼 수 없었던 북정권교체니, 북붕괴유도니 하는 망언까지 튀여나오는 정도\"라면서 \"마른나무에 물내기라고 이런 때에 도대체 북과 남이 만나서 무엇을 할수 있으며 그런 만남이 과연 무슨 의의가 있겠는가 하는 것\"이라고 비판했다.매체는 나아가 \"모처럼 찾아왔던 화해와 협력의 훈풍을 흔적도 없이 날려보내고 있는데도 아무런 대책도 세우지 못하고 있는 남조선당국이 종이 한 장의 초청으로 조성된 험악한 상태를 손바닥 뒤집듯이 가볍게 바꿀수 있다고 생각한다면 그보다 더한 오산은 없을 것이라는 것이 우리의 생각\"이라고 주장했다.그러면서 \"저지른 잘못에 대한 반성과 죄스러운 마음으로 삼고초려를 해도 모자랄 판국에 민족의 운명과 장래문제에 아무런 관심도 없는 다른 나라 손님들을 요란하게 청해놓고 그들의 면전에서 북과 남의 어떤 모습을 보여주고 싶은지 묻지 않을수 없다\"고 목소리를 높였다.매체는 아울러 \"북과 남사이의 근본문제, 민족문제는 하나도 풀지 못하면서 북남수뇌들 사이에 여전히 대화가 이루어지고 있다는 냄새나 피우고 저들이 주도한 신남방정책의 귀퉁이에 북남관계를 슬쩍 끼워 넣어보자는 불순한 기도를 무턱대고 따를 우리가 아니다\"고 반발했다.매체는 또 \"우리와 크게 인연이 없는 복잡한 국제회의 마당에서 만나 악수나 하고 사진이나 찍는 것을 어찌 민족의 성산 백두산에서 북남수뇌분들이 두손을 높이 맞잡은 력사적 순간에 비길수 있겠는가\"라면서 \"판문점과 평양, 백두산에서 한 약속이 하나도 실현된 것이 없는 지금의 시점에 형식뿐인 북남수뇌상봉은 차라리 하지 않는 것보다 못하다는 것이 우리의 립장\"이라고 했다.\\u3000\\u3000매체는 \"더우기 북남관계의 현 위기가 어디에서 왔는가를 똑바로 알고 통탄해도 늦은 때에 그만큼 미국에 기대다가 랑패(낭패)를 본 것도 모자라 이제는 주소와 번지도 틀린 다자협력의 마당에서 북남관계를 론의하자고 하니 의아할 따름\"이라면서 \"아이들이라면 철이 없어 소뿔우에 닭알쌓을 궁리를 했다고 하겠지만 남조선사회를 움직인다는 사람들이 자신들의 과와 실을 랭정하게 판단하는데 숨을 고를 대신 물우에 그림그릴 생각만 하고 있으니 북남관계는 어떻게 개선되고 화해와 협력의 꽃은 언제 다시 피여나겠는가\"라고 반문했다.그러면서 \"다시금 명백히 말하건대 무슨 일이나 잘되려면 때와 장소를 현명하게 선택해야 한다\"며 \"이런 리치도 모르는 상대와 열백번을 만난들 어떻게 좋은 결과가 나올 수 있겠는가 하는 것\"이라고 강조한 뒤 \"그 척박한 정신적 토양에 자주적 결단이 언제 싹트고 자라나는가를 참을성있게 지켜보는 수밖에 다른 방법이 있을것 같지 않다\"고 앞으로도 남측과 대화할 생각이 없음을 분명히 했다. ▶ 조세일보 홈페이지 / 정회원 가입▶ 조세일보 네이버 뉴스스탠드 구독(종합/경제)허헌(hh@joseilbo.com)저작권자 ⓒ 조세일보(http://www.joseilbo.com). 무단전재 및 재배포 금지'"
      ]
     },
     "execution_count": 10,
     "metadata": {},
     "output_type": "execute_result"
    }
   ],
   "source": [
    "content = dom.select_one(\"#articleBodyContents\").text.replace(\"\\n\", \"\").replace(\"\\'\", \"\").split(\"{}\")[1].strip()\n",
    "content"
   ]
  },
  {
   "cell_type": "markdown",
   "metadata": {},
   "source": [
    "### 함수로 만들기"
   ]
  },
  {
   "cell_type": "code",
   "execution_count": 13,
   "metadata": {},
   "outputs": [],
   "source": [
    "def get_articles(category, date, page):\n",
    "    url = \"https://news.naver.com/main/list.nhn?mode=LSD&mid=sec&sid1={}&date={}&page={}\".format(category, date, page)\n",
    "    driver = webdriver.Chrome()\n",
    "    driver.get(url)\n",
    "    articles = driver.find_elements_by_css_selector(\".list_body > ul > li\")\n",
    "    datas = []\n",
    "    for article in articles:\n",
    "        title = article.find_element_by_css_selector(\"dt:not(.photo) > a\").text\n",
    "        link = article.find_element_by_css_selector(\"dt:not(.photo) > a\").get_attribute(\"href\")\n",
    "        response = requests.get(link)\n",
    "        dom = BeautifulSoup(response.content, \"html.parser\")\n",
    "        content = dom.select_one(\"#articleBodyContents\").text.replace(\"\\n\", \"\").replace(\"\\'\", \"\").split(\"{}\")[1].strip()\n",
    "        datas.append({\n",
    "            \"title\": title,\n",
    "            \"link\": link,\n",
    "            \"content\": content,\n",
    "            \"category\": category,\n",
    "        })\n",
    "    driver.quit()\n",
    "        \n",
    "    return pd.DataFrame(datas)"
   ]
  },
  {
   "cell_type": "code",
   "execution_count": 14,
   "metadata": {},
   "outputs": [
    {
     "data": {
      "text/html": [
       "<div>\n",
       "<style scoped>\n",
       "    .dataframe tbody tr th:only-of-type {\n",
       "        vertical-align: middle;\n",
       "    }\n",
       "\n",
       "    .dataframe tbody tr th {\n",
       "        vertical-align: top;\n",
       "    }\n",
       "\n",
       "    .dataframe thead th {\n",
       "        text-align: right;\n",
       "    }\n",
       "</style>\n",
       "<table border=\"1\" class=\"dataframe\">\n",
       "  <thead>\n",
       "    <tr style=\"text-align: right;\">\n",
       "      <th></th>\n",
       "      <th>category</th>\n",
       "      <th>content</th>\n",
       "      <th>link</th>\n",
       "      <th>title</th>\n",
       "    </tr>\n",
       "  </thead>\n",
       "  <tbody>\n",
       "    <tr>\n",
       "      <th>0</th>\n",
       "      <td>100</td>\n",
       "      <td>[속보] 한국당 “현역의원 3분의 1 이상 공천 컷오프 추진할 것”박민지 기자 pm...</td>\n",
       "      <td>https://news.naver.com/main/read.nhn?mode=LSD&amp;...</td>\n",
       "      <td>[속보] 한국당 “현역의원 3분의 1 이상 공천 컷오프 추진할 것”</td>\n",
       "    </tr>\n",
       "    <tr>\n",
       "      <th>1</th>\n",
       "      <td>100</td>\n",
       "      <td>[서울경제] 한국당 “현역의원 3분의 1 이상 공천 컷오프 추진”한국당 “현역의원 ...</td>\n",
       "      <td>https://news.naver.com/main/read.nhn?mode=LSD&amp;...</td>\n",
       "      <td>(속보) 한국당 “현역의원 3분의 1 이상 공천 컷오프 추진”</td>\n",
       "    </tr>\n",
       "    <tr>\n",
       "      <th>2</th>\n",
       "      <td>100</td>\n",
       "      <td>[김민우 기자 minsicht@chosunbiz.com]- Copyrights ⓒ ...</td>\n",
       "      <td>https://news.naver.com/main/read.nhn?mode=LSD&amp;...</td>\n",
       "      <td>[속보]한국당 \"현역 의원 3분의 1이상 공천 컷오프\"</td>\n",
       "    </tr>\n",
       "    <tr>\n",
       "      <th>3</th>\n",
       "      <td>100</td>\n",
       "      <td>(서울=연합뉴스) 안정원 기자 =  21일 서울 여의도 국회에서 열린 외교통상위원회...</td>\n",
       "      <td>https://news.naver.com/main/read.nhn?mode=LSD&amp;...</td>\n",
       "      <td>분주한 외교부</td>\n",
       "    </tr>\n",
       "    <tr>\n",
       "      <th>4</th>\n",
       "      <td>100</td>\n",
       "      <td>21일 서울 용산구 국방컨벤션에서 열린 2019 청렴 방위사업 세미나에서 한명진 방...</td>\n",
       "      <td>https://news.naver.com/main/read.nhn?mode=LSD&amp;...</td>\n",
       "      <td>2019 청렴 방위사업 세미나</td>\n",
       "    </tr>\n",
       "    <tr>\n",
       "      <th>5</th>\n",
       "      <td>100</td>\n",
       "      <td>(부산=연합뉴스) 김주형 기자 = 이낙연 국무총리가 21일 오후 부산 해운대 벡스코...</td>\n",
       "      <td>https://news.naver.com/main/read.nhn?mode=LSD&amp;...</td>\n",
       "      <td>[한-아세안] 이낙연 총리, '2019 국가 대테러종합훈련' 격려사</td>\n",
       "    </tr>\n",
       "    <tr>\n",
       "      <th>6</th>\n",
       "      <td>100</td>\n",
       "      <td>(서울=연합뉴스) 신준희 기자 = 강기정 청와대 정무수석이 21일 오후 청와대 앞 ...</td>\n",
       "      <td>https://news.naver.com/main/read.nhn?mode=LSD&amp;...</td>\n",
       "      <td>다시 황교안 찾은 강기정</td>\n",
       "    </tr>\n",
       "    <tr>\n",
       "      <th>7</th>\n",
       "      <td>100</td>\n",
       "      <td>21일 서울 용산구 국방컨벤션에서 열린 2019 청렴 방위사업 세미나에서 참석자들이...</td>\n",
       "      <td>https://news.naver.com/main/read.nhn?mode=LSD&amp;...</td>\n",
       "      <td>'청렴 다짐 합니다'</td>\n",
       "    </tr>\n",
       "    <tr>\n",
       "      <th>8</th>\n",
       "      <td>100</td>\n",
       "      <td>(서울=연합뉴스) 신준희 기자 = 강기정 청와대 정무수석(왼쪽)이 21일 오후 청와...</td>\n",
       "      <td>https://news.naver.com/main/read.nhn?mode=LSD&amp;...</td>\n",
       "      <td>다시 황교안 찾은 강기정</td>\n",
       "    </tr>\n",
       "    <tr>\n",
       "      <th>9</th>\n",
       "      <td>100</td>\n",
       "      <td>[디지털뉴스국]▶매경이 에어팟프로 쏩니다! M코인▶네이버 메인에서 매일경제를 받아보...</td>\n",
       "      <td>https://news.naver.com/main/read.nhn?mode=LSD&amp;...</td>\n",
       "      <td>[속보] 한국당 \"현역의원 3분의 1 이상 공천 컷오프 추진\"</td>\n",
       "    </tr>\n",
       "    <tr>\n",
       "      <th>10</th>\n",
       "      <td>100</td>\n",
       "      <td>문희상 국회의장이 21일 국회 사랑재에서 열린 정치협상회의에서 각 당 대표들과 기념...</td>\n",
       "      <td>https://news.naver.com/main/read.nhn?mode=LSD&amp;...</td>\n",
       "      <td>선거법 본회의 부의 운명의 일주일..여야 합의 '산 넘어 산'</td>\n",
       "    </tr>\n",
       "    <tr>\n",
       "      <th>11</th>\n",
       "      <td>100</td>\n",
       "      <td>자유한국당 총선기획단장인 박맹우 사무총장(가운데)이 21일 국회에서 열린 전략회의에...</td>\n",
       "      <td>https://news.naver.com/main/read.nhn?mode=LSD&amp;...</td>\n",
       "      <td>[속보] 한국당 \"현역의원 3분의 1 이상 공천 컷오프 추진\"</td>\n",
       "    </tr>\n",
       "    <tr>\n",
       "      <th>12</th>\n",
       "      <td>100</td>\n",
       "      <td>(군산=연합뉴스) 백도인 기자 = 김상조 청와대 정책실장이 21일 전북 군산의 새만...</td>\n",
       "      <td>https://news.naver.com/main/read.nhn?mode=LSD&amp;...</td>\n",
       "      <td>발언하는 김상조 청와대 정책실장</td>\n",
       "    </tr>\n",
       "    <tr>\n",
       "      <th>13</th>\n",
       "      <td>100</td>\n",
       "      <td>(군산=연합뉴스) 백도인 기자 = 김상조 청와대 정책실장이 21일 전북 군산의 새만...</td>\n",
       "      <td>https://news.naver.com/main/read.nhn?mode=LSD&amp;...</td>\n",
       "      <td>발언하는 김상조 청와대 정책실장</td>\n",
       "    </tr>\n",
       "    <tr>\n",
       "      <th>14</th>\n",
       "      <td>100</td>\n",
       "      <td>[서울=뉴시스]박준호 김지은 기자 = 자유한국당이 내년 21대 국회의원 총선거에서 ...</td>\n",
       "      <td>https://news.naver.com/main/read.nhn?mode=LSD&amp;...</td>\n",
       "      <td>[1보]한국당, 현역 의원 '절반' 교체…3분의1 이상 '컷오프'</td>\n",
       "    </tr>\n",
       "    <tr>\n",
       "      <th>15</th>\n",
       "      <td>100</td>\n",
       "      <td>(부산=연합뉴스) 김주형 기자 = 이낙연 국무총리가 21일 오후 부산 해운대 벡스코...</td>\n",
       "      <td>https://news.naver.com/main/read.nhn?mode=LSD&amp;...</td>\n",
       "      <td>[한-아세안] 대테러종합훈련 살피는 이낙연 총리</td>\n",
       "    </tr>\n",
       "    <tr>\n",
       "      <th>16</th>\n",
       "      <td>100</td>\n",
       "      <td>한미 방위비 분담금 갈등 거론하며 \"긴장 경계해야\"\"지소미아 종료되면 동맹에 생각보...</td>\n",
       "      <td>https://news.naver.com/main/read.nhn?mode=LSD&amp;...</td>\n",
       "      <td>브룩스 前사령관 \"한미동맹 긴장…매우 중요한 시점\"(종합)</td>\n",
       "    </tr>\n",
       "    <tr>\n",
       "      <th>17</th>\n",
       "      <td>100</td>\n",
       "      <td>강창일 더불어민주당 의원. 김상선 기자       4선 중진인 더불어민주당 강창일 ...</td>\n",
       "      <td>https://news.naver.com/main/read.nhn?mode=LSD&amp;...</td>\n",
       "      <td>‘4선 중진’ 강창일 “총선 불출마 고민…무기력한 국회에 자괴감”</td>\n",
       "    </tr>\n",
       "    <tr>\n",
       "      <th>18</th>\n",
       "      <td>100</td>\n",
       "      <td>더불어민주당 총선기획단 윤호중 단장(왼쪽)과 양정철 민주연구원장이 20일 오전 서울...</td>\n",
       "      <td>https://news.naver.com/main/read.nhn?mode=LSD&amp;...</td>\n",
       "      <td>민주당, ‘국민공천심사단’ 1박2일 평가로 비례대표 선출</td>\n",
       "    </tr>\n",
       "    <tr>\n",
       "      <th>19</th>\n",
       "      <td>100</td>\n",
       "      <td>3년 전 교통사고로 숨진 해인양 부모, 민식이법 행안위 소위 처리과정 지켜봐해인양 ...</td>\n",
       "      <td>https://news.naver.com/main/read.nhn?mode=LSD&amp;...</td>\n",
       "      <td>'민식이법' 소위 통과…故해인양 부모 \"10분이면 될걸\"</td>\n",
       "    </tr>\n",
       "  </tbody>\n",
       "</table>\n",
       "</div>"
      ],
      "text/plain": [
       "    category                                            content  \\\n",
       "0        100  [속보] 한국당 “현역의원 3분의 1 이상 공천 컷오프 추진할 것”박민지 기자 pm...   \n",
       "1        100  [서울경제] 한국당 “현역의원 3분의 1 이상 공천 컷오프 추진”한국당 “현역의원 ...   \n",
       "2        100  [김민우 기자 minsicht@chosunbiz.com]- Copyrights ⓒ ...   \n",
       "3        100  (서울=연합뉴스) 안정원 기자 =  21일 서울 여의도 국회에서 열린 외교통상위원회...   \n",
       "4        100  21일 서울 용산구 국방컨벤션에서 열린 2019 청렴 방위사업 세미나에서 한명진 방...   \n",
       "5        100  (부산=연합뉴스) 김주형 기자 = 이낙연 국무총리가 21일 오후 부산 해운대 벡스코...   \n",
       "6        100  (서울=연합뉴스) 신준희 기자 = 강기정 청와대 정무수석이 21일 오후 청와대 앞 ...   \n",
       "7        100  21일 서울 용산구 국방컨벤션에서 열린 2019 청렴 방위사업 세미나에서 참석자들이...   \n",
       "8        100  (서울=연합뉴스) 신준희 기자 = 강기정 청와대 정무수석(왼쪽)이 21일 오후 청와...   \n",
       "9        100  [디지털뉴스국]▶매경이 에어팟프로 쏩니다! M코인▶네이버 메인에서 매일경제를 받아보...   \n",
       "10       100  문희상 국회의장이 21일 국회 사랑재에서 열린 정치협상회의에서 각 당 대표들과 기념...   \n",
       "11       100  자유한국당 총선기획단장인 박맹우 사무총장(가운데)이 21일 국회에서 열린 전략회의에...   \n",
       "12       100  (군산=연합뉴스) 백도인 기자 = 김상조 청와대 정책실장이 21일 전북 군산의 새만...   \n",
       "13       100  (군산=연합뉴스) 백도인 기자 = 김상조 청와대 정책실장이 21일 전북 군산의 새만...   \n",
       "14       100  [서울=뉴시스]박준호 김지은 기자 = 자유한국당이 내년 21대 국회의원 총선거에서 ...   \n",
       "15       100  (부산=연합뉴스) 김주형 기자 = 이낙연 국무총리가 21일 오후 부산 해운대 벡스코...   \n",
       "16       100  한미 방위비 분담금 갈등 거론하며 \"긴장 경계해야\"\"지소미아 종료되면 동맹에 생각보...   \n",
       "17       100  강창일 더불어민주당 의원. 김상선 기자       4선 중진인 더불어민주당 강창일 ...   \n",
       "18       100  더불어민주당 총선기획단 윤호중 단장(왼쪽)과 양정철 민주연구원장이 20일 오전 서울...   \n",
       "19       100  3년 전 교통사고로 숨진 해인양 부모, 민식이법 행안위 소위 처리과정 지켜봐해인양 ...   \n",
       "\n",
       "                                                 link  \\\n",
       "0   https://news.naver.com/main/read.nhn?mode=LSD&...   \n",
       "1   https://news.naver.com/main/read.nhn?mode=LSD&...   \n",
       "2   https://news.naver.com/main/read.nhn?mode=LSD&...   \n",
       "3   https://news.naver.com/main/read.nhn?mode=LSD&...   \n",
       "4   https://news.naver.com/main/read.nhn?mode=LSD&...   \n",
       "5   https://news.naver.com/main/read.nhn?mode=LSD&...   \n",
       "6   https://news.naver.com/main/read.nhn?mode=LSD&...   \n",
       "7   https://news.naver.com/main/read.nhn?mode=LSD&...   \n",
       "8   https://news.naver.com/main/read.nhn?mode=LSD&...   \n",
       "9   https://news.naver.com/main/read.nhn?mode=LSD&...   \n",
       "10  https://news.naver.com/main/read.nhn?mode=LSD&...   \n",
       "11  https://news.naver.com/main/read.nhn?mode=LSD&...   \n",
       "12  https://news.naver.com/main/read.nhn?mode=LSD&...   \n",
       "13  https://news.naver.com/main/read.nhn?mode=LSD&...   \n",
       "14  https://news.naver.com/main/read.nhn?mode=LSD&...   \n",
       "15  https://news.naver.com/main/read.nhn?mode=LSD&...   \n",
       "16  https://news.naver.com/main/read.nhn?mode=LSD&...   \n",
       "17  https://news.naver.com/main/read.nhn?mode=LSD&...   \n",
       "18  https://news.naver.com/main/read.nhn?mode=LSD&...   \n",
       "19  https://news.naver.com/main/read.nhn?mode=LSD&...   \n",
       "\n",
       "                                    title  \n",
       "0   [속보] 한국당 “현역의원 3분의 1 이상 공천 컷오프 추진할 것”  \n",
       "1      (속보) 한국당 “현역의원 3분의 1 이상 공천 컷오프 추진”  \n",
       "2          [속보]한국당 \"현역 의원 3분의 1이상 공천 컷오프\"  \n",
       "3                                 분주한 외교부  \n",
       "4                        2019 청렴 방위사업 세미나  \n",
       "5   [한-아세안] 이낙연 총리, '2019 국가 대테러종합훈련' 격려사  \n",
       "6                           다시 황교안 찾은 강기정  \n",
       "7                             '청렴 다짐 합니다'  \n",
       "8                           다시 황교안 찾은 강기정  \n",
       "9      [속보] 한국당 \"현역의원 3분의 1 이상 공천 컷오프 추진\"  \n",
       "10     선거법 본회의 부의 운명의 일주일..여야 합의 '산 넘어 산'  \n",
       "11     [속보] 한국당 \"현역의원 3분의 1 이상 공천 컷오프 추진\"  \n",
       "12                      발언하는 김상조 청와대 정책실장  \n",
       "13                      발언하는 김상조 청와대 정책실장  \n",
       "14   [1보]한국당, 현역 의원 '절반' 교체…3분의1 이상 '컷오프'  \n",
       "15             [한-아세안] 대테러종합훈련 살피는 이낙연 총리  \n",
       "16       브룩스 前사령관 \"한미동맹 긴장…매우 중요한 시점\"(종합)  \n",
       "17   ‘4선 중진’ 강창일 “총선 불출마 고민…무기력한 국회에 자괴감”  \n",
       "18        민주당, ‘국민공천심사단’ 1박2일 평가로 비례대표 선출  \n",
       "19        '민식이법' 소위 통과…故해인양 부모 \"10분이면 될걸\"  "
      ]
     },
     "execution_count": 14,
     "metadata": {},
     "output_type": "execute_result"
    }
   ],
   "source": [
    "get_articles(100, 20191121, 1)"
   ]
  },
  {
   "cell_type": "markdown",
   "metadata": {},
   "source": [
    "### for문을 이용해서 데이터 수집"
   ]
  },
  {
   "cell_type": "code",
   "execution_count": 18,
   "metadata": {},
   "outputs": [
    {
     "name": "stdout",
     "output_type": "stream",
     "text": [
      "정치 1 2 3 4 5 \n",
      "경제 1 2 3 4 5 \n",
      "사회 1 2 3 4 5 \n",
      "생활/문화 1 2 3 4 5 \n",
      "세계 1 2 3 4 5 \n",
      "IT/과학 1 2 3 4 5 \n"
     ]
    },
    {
     "data": {
      "text/html": [
       "<div>\n",
       "<style scoped>\n",
       "    .dataframe tbody tr th:only-of-type {\n",
       "        vertical-align: middle;\n",
       "    }\n",
       "\n",
       "    .dataframe tbody tr th {\n",
       "        vertical-align: top;\n",
       "    }\n",
       "\n",
       "    .dataframe thead th {\n",
       "        text-align: right;\n",
       "    }\n",
       "</style>\n",
       "<table border=\"1\" class=\"dataframe\">\n",
       "  <thead>\n",
       "    <tr style=\"text-align: right;\">\n",
       "      <th></th>\n",
       "      <th>category</th>\n",
       "      <th>content</th>\n",
       "      <th>link</th>\n",
       "      <th>title</th>\n",
       "    </tr>\n",
       "  </thead>\n",
       "  <tbody>\n",
       "    <tr>\n",
       "      <th>595</th>\n",
       "      <td>105</td>\n",
       "      <td>엔지니어들이 SOC실증연구센터에서 스마트 건설 방식으로 공사를 진행하고 있다.  제...</td>\n",
       "      <td>https://news.naver.com/main/read.nhn?mode=LSD&amp;...</td>\n",
       "      <td>SKT, ‘5G+건설·기계’ 드론 띄워 측량, 굴삭기로 정밀공사 ‘착착’</td>\n",
       "    </tr>\n",
       "    <tr>\n",
       "      <th>596</th>\n",
       "      <td>105</td>\n",
       "      <td>SKT, 건기연·현대건설기계 등과 스마트 건설 실증 “스마트 건설방식을 도입하면 기...</td>\n",
       "      <td>https://news.naver.com/main/read.nhn?mode=LSD&amp;...</td>\n",
       "      <td>드론으로 측량하고 굴삭기 정밀 작업까지 ‘척척’</td>\n",
       "    </tr>\n",
       "    <tr>\n",
       "      <th>597</th>\n",
       "      <td>105</td>\n",
       "      <td>문 대통령 AI 강국 외치고, 네이버⋅소프트뱅크 세계 시장 겨냥한 AI기업 출범 합...</td>\n",
       "      <td>https://news.naver.com/main/read.nhn?mode=LSD&amp;...</td>\n",
       "      <td>[비즈톡톡] \"튀면 죽는다\"…앞뒤 다른 정부에 갈피 못잡는 IT 기업들</td>\n",
       "    </tr>\n",
       "    <tr>\n",
       "      <th>598</th>\n",
       "      <td>105</td>\n",
       "      <td>민주노총 전국공공운수노동조합(이하 공공운수노조)이 21일 세종시 어진동 과학기술정보...</td>\n",
       "      <td>https://news.naver.com/main/read.nhn?mode=LSD&amp;...</td>\n",
       "      <td>공공연구노조 \"출연연 용역근로자 정규직 전환 촉구\" 결의대회</td>\n",
       "    </tr>\n",
       "    <tr>\n",
       "      <th>599</th>\n",
       "      <td>105</td>\n",
       "      <td>3국 IT국장회의…공개 SW, 저작권자 허락 라이선스 따라 복제·수정·재배포 가능(...</td>\n",
       "      <td>https://news.naver.com/main/read.nhn?mode=LSD&amp;...</td>\n",
       "      <td>한·중·일, 5G·AI 기술 구현 위해 '공개 SW' 적극 활용 합의</td>\n",
       "    </tr>\n",
       "  </tbody>\n",
       "</table>\n",
       "</div>"
      ],
      "text/plain": [
       "     category                                            content  \\\n",
       "595       105  엔지니어들이 SOC실증연구센터에서 스마트 건설 방식으로 공사를 진행하고 있다.  제...   \n",
       "596       105  SKT, 건기연·현대건설기계 등과 스마트 건설 실증 “스마트 건설방식을 도입하면 기...   \n",
       "597       105  문 대통령 AI 강국 외치고, 네이버⋅소프트뱅크 세계 시장 겨냥한 AI기업 출범 합...   \n",
       "598       105  민주노총 전국공공운수노동조합(이하 공공운수노조)이 21일 세종시 어진동 과학기술정보...   \n",
       "599       105  3국 IT국장회의…공개 SW, 저작권자 허락 라이선스 따라 복제·수정·재배포 가능(...   \n",
       "\n",
       "                                                  link  \\\n",
       "595  https://news.naver.com/main/read.nhn?mode=LSD&...   \n",
       "596  https://news.naver.com/main/read.nhn?mode=LSD&...   \n",
       "597  https://news.naver.com/main/read.nhn?mode=LSD&...   \n",
       "598  https://news.naver.com/main/read.nhn?mode=LSD&...   \n",
       "599  https://news.naver.com/main/read.nhn?mode=LSD&...   \n",
       "\n",
       "                                        title  \n",
       "595  SKT, ‘5G+건설·기계’ 드론 띄워 측량, 굴삭기로 정밀공사 ‘착착’  \n",
       "596                드론으로 측량하고 굴삭기 정밀 작업까지 ‘척척’  \n",
       "597   [비즈톡톡] \"튀면 죽는다\"…앞뒤 다른 정부에 갈피 못잡는 IT 기업들  \n",
       "598         공공연구노조 \"출연연 용역근로자 정규직 전환 촉구\" 결의대회  \n",
       "599    한·중·일, 5G·AI 기술 구현 위해 '공개 SW' 적극 활용 합의  "
      ]
     },
     "execution_count": 18,
     "metadata": {},
     "output_type": "execute_result"
    }
   ],
   "source": [
    "dfs = []\n",
    "for category in categories:\n",
    "    print(categories[category],end=\" \")\n",
    "    for page in range(1, 6):\n",
    "        print(page, end=\" \")\n",
    "        df = get_articles(category, date, page)\n",
    "        dfs.append(df)\n",
    "    print()\n",
    "articles_df = pd.concat(dfs, ignore_index=True)\n",
    "articles_df.tail()"
   ]
  },
  {
   "cell_type": "markdown",
   "metadata": {},
   "source": [
    "### csv파일로 저장"
   ]
  },
  {
   "cell_type": "code",
   "execution_count": 19,
   "metadata": {},
   "outputs": [],
   "source": [
    "articles_df.to_csv(\"article.csv\", index=False, encoding=\"utf-8-sig\")"
   ]
  }
 ],
 "metadata": {
  "kernelspec": {
   "display_name": "Python 3",
   "language": "python",
   "name": "python3"
  },
  "language_info": {
   "codemirror_mode": {
    "name": "ipython",
    "version": 3
   },
   "file_extension": ".py",
   "mimetype": "text/x-python",
   "name": "python",
   "nbconvert_exporter": "python",
   "pygments_lexer": "ipython3",
   "version": "3.7.3"
  }
 },
 "nbformat": 4,
 "nbformat_minor": 2
}
