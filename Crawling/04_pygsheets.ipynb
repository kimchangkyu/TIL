{
 "cells": [
  {
   "cell_type": "code",
   "execution_count": null,
   "metadata": {},
   "outputs": [],
   "source": [
    "## 만들었던 zigbang모듈을 사용"
   ]
  },
  {
   "cell_type": "code",
   "execution_count": 1,
   "metadata": {},
   "outputs": [],
   "source": [
    "import zigbang as zb"
   ]
  },
  {
   "cell_type": "code",
   "execution_count": 2,
   "metadata": {},
   "outputs": [
    {
     "data": {
      "text/html": [
       "<div>\n",
       "<style scoped>\n",
       "    .dataframe tbody tr th:only-of-type {\n",
       "        vertical-align: middle;\n",
       "    }\n",
       "\n",
       "    .dataframe tbody tr th {\n",
       "        vertical-align: top;\n",
       "    }\n",
       "\n",
       "    .dataframe thead th {\n",
       "        text-align: right;\n",
       "    }\n",
       "</style>\n",
       "<table border=\"1\" class=\"dataframe\">\n",
       "  <thead>\n",
       "    <tr style=\"text-align: right;\">\n",
       "      <th></th>\n",
       "      <th>itemId</th>\n",
       "      <th>buildingFloor</th>\n",
       "      <th>groupedItemFloor</th>\n",
       "      <th>lat</th>\n",
       "      <th>lng</th>\n",
       "      <th>sales</th>\n",
       "      <th>itemTitle</th>\n",
       "      <th>m2</th>\n",
       "      <th>p2</th>\n",
       "    </tr>\n",
       "  </thead>\n",
       "  <tbody>\n",
       "    <tr>\n",
       "      <th>849</th>\n",
       "      <td>18478910</td>\n",
       "      <td>17</td>\n",
       "      <td>저층</td>\n",
       "      <td>37.551253</td>\n",
       "      <td>126.874543</td>\n",
       "      <td>85000</td>\n",
       "      <td>올수리 2월입주 주전도가능</td>\n",
       "      <td>110</td>\n",
       "      <td>33</td>\n",
       "    </tr>\n",
       "    <tr>\n",
       "      <th>850</th>\n",
       "      <td>18465017</td>\n",
       "      <td>19</td>\n",
       "      <td>고층</td>\n",
       "      <td>37.544482</td>\n",
       "      <td>126.887827</td>\n",
       "      <td>75000</td>\n",
       "      <td>안양천조망. 수리됨</td>\n",
       "      <td>111</td>\n",
       "      <td>33</td>\n",
       "    </tr>\n",
       "  </tbody>\n",
       "</table>\n",
       "</div>"
      ],
      "text/plain": [
       "       itemId buildingFloor groupedItemFloor        lat         lng  sales  \\\n",
       "849  18478910            17               저층  37.551253  126.874543  85000   \n",
       "850  18465017            19               고층  37.544482  126.887827  75000   \n",
       "\n",
       "          itemTitle   m2  p2  \n",
       "849  올수리 2월입주 주전도가능  110  33  \n",
       "850      안양천조망. 수리됨  111  33  "
      ]
     },
     "execution_count": 2,
     "metadata": {},
     "output_type": "execute_result"
    }
   ],
   "source": [
    "items_df = zb.crawling_apt(\"망원동\")\n",
    "items_df.tail(2)"
   ]
  },
  {
   "cell_type": "markdown",
   "metadata": {},
   "source": [
    "## 구글 스프레드 시트에 저장\n",
    "- oauth 개념\n",
    "- oauth 인증 파일 생성\n",
    "    - `https://console.developers.google.com`\n",
    "    - 프로젝트 생성\n",
    "    - 라이브러리 탭 선택 : Google Drive API, Google Sheets API 사용 설정\n",
    "    - oauth 동의 화면\n",
    "        - 어플리케이션 이름 설정\n",
    "        - google api 범위 추가 : ../auth/drive, ../auth/spreadsheets\n",
    "        - 저장\n",
    "    - 사용자 인증정보\n",
    "        - OAuth 클라이언트 ID 선택\n",
    "    - pygsheets 설치\n",
    "        - `conda install -c marta-sd pygsheets`\n",
    "        - `pip install pygsheets`\n",
    "- 스프레드 시트에 크롤링한 데이터 저장 및 로드"
   ]
  },
  {
   "cell_type": "code",
   "execution_count": 3,
   "metadata": {},
   "outputs": [],
   "source": [
    "import pygsheets"
   ]
  },
  {
   "cell_type": "code",
   "execution_count": 4,
   "metadata": {},
   "outputs": [],
   "source": [
    "# access token 얻기\n",
    "gc = pygsheets.authorize(client_secret=\"client_secret.json\", no_cache=True)"
   ]
  },
  {
   "cell_type": "code",
   "execution_count": 5,
   "metadata": {},
   "outputs": [
    {
     "data": {
      "text/plain": [
       "<pygsheets.client.Client at 0x2855453e320>"
      ]
     },
     "execution_count": 5,
     "metadata": {},
     "output_type": "execute_result"
    }
   ],
   "source": [
    "# gc 객체에 requests token과 access token이 들어가있다.\n",
    "gc"
   ]
  },
  {
   "cell_type": "code",
   "execution_count": 6,
   "metadata": {},
   "outputs": [],
   "source": [
    "# 스프레드 시트 파일 열기\n",
    "s_file = gc.open(\"zigbang\")"
   ]
  },
  {
   "cell_type": "code",
   "execution_count": 7,
   "metadata": {},
   "outputs": [
    {
     "data": {
      "text/html": [
       "<div>\n",
       "<style scoped>\n",
       "    .dataframe tbody tr th:only-of-type {\n",
       "        vertical-align: middle;\n",
       "    }\n",
       "\n",
       "    .dataframe tbody tr th {\n",
       "        vertical-align: top;\n",
       "    }\n",
       "\n",
       "    .dataframe thead th {\n",
       "        text-align: right;\n",
       "    }\n",
       "</style>\n",
       "<table border=\"1\" class=\"dataframe\">\n",
       "  <thead>\n",
       "    <tr style=\"text-align: right;\">\n",
       "      <th></th>\n",
       "      <th>sepal_length</th>\n",
       "      <th>sepal_width</th>\n",
       "      <th>petal_length</th>\n",
       "      <th>petal_width</th>\n",
       "      <th>species</th>\n",
       "    </tr>\n",
       "  </thead>\n",
       "  <tbody>\n",
       "    <tr>\n",
       "      <th>149</th>\n",
       "      <td>5.9</td>\n",
       "      <td>3.0</td>\n",
       "      <td>5.1</td>\n",
       "      <td>1.8</td>\n",
       "      <td>virginica</td>\n",
       "    </tr>\n",
       "  </tbody>\n",
       "</table>\n",
       "</div>"
      ],
      "text/plain": [
       "     sepal_length  sepal_width  petal_length  petal_width    species\n",
       "149           5.9          3.0           5.1          1.8  virginica"
      ]
     },
     "execution_count": 7,
     "metadata": {},
     "output_type": "execute_result"
    }
   ],
   "source": [
    "# 붓꽃 데이터 로드\n",
    "iris_df = sns.load_dataset(\"iris\")\n",
    "iris_df.tail(1)"
   ]
  },
  {
   "cell_type": "code",
   "execution_count": 10,
   "metadata": {},
   "outputs": [],
   "source": [
    "# iris 시트 만들기\n",
    "iris_sheet = s_file.add_worksheet(\"iris2\")"
   ]
  },
  {
   "cell_type": "code",
   "execution_count": 11,
   "metadata": {},
   "outputs": [],
   "source": [
    "# iris 시트 데이터 프레임 저장\n",
    "iris_sheet.set_dataframe(iris_df, \"A1\") # A1셀 부터 들어가기위해서"
   ]
  },
  {
   "cell_type": "code",
   "execution_count": 12,
   "metadata": {},
   "outputs": [
    {
     "data": {
      "text/plain": [
       "(<Worksheet 'iris' index:0>, <Worksheet '연남동' index:1>)"
      ]
     },
     "execution_count": 12,
     "metadata": {},
     "output_type": "execute_result"
    }
   ],
   "source": [
    "s_file[0], s_file[1]"
   ]
  },
  {
   "cell_type": "code",
   "execution_count": 13,
   "metadata": {},
   "outputs": [],
   "source": [
    "# 시트 삭제\n",
    "s_file.del_worksheet(s_file[0])"
   ]
  },
  {
   "cell_type": "markdown",
   "metadata": {},
   "source": [
    "#### 직방 데이터를 크롤링 해서 저장"
   ]
  },
  {
   "cell_type": "code",
   "execution_count": null,
   "metadata": {},
   "outputs": [],
   "source": [
    "addrs = [\"연남동\", \"망원동\", \"합정동\", \"성수동\", \"개포동\", \"비산동\"]\n",
    "for addr in addrs:\n",
    "    print(addr)\n",
    "    df = zb.crawling_apt(addr)\n",
    "    \n",
    "    # 시트 생성\n",
    "    sheet = s_file.add_worksheet(addr)\n",
    "    sheet.set_dataframe(df, \"A1\", copy_index=False)"
   ]
  },
  {
   "cell_type": "code",
   "execution_count": null,
   "metadata": {},
   "outputs": [],
   "source": [
    "# 데이터 가져오기\n",
    "sheet = s_file.worksheet_by_title(\"개포동\")\n",
    "load_df = sheet.get_as_df()\n",
    "load_df.tail(2)"
   ]
  }
 ],
 "metadata": {
  "kernelspec": {
   "display_name": "Python 3",
   "language": "python",
   "name": "python3"
  },
  "language_info": {
   "codemirror_mode": {
    "name": "ipython",
    "version": 3
   },
   "file_extension": ".py",
   "mimetype": "text/x-python",
   "name": "python",
   "nbconvert_exporter": "python",
   "pygments_lexer": "ipython3",
   "version": "3.7.3"
  }
 },
 "nbformat": 4,
 "nbformat_minor": 2
}
