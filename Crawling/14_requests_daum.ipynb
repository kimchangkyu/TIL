{
 "cells": [
  {
   "cell_type": "markdown",
   "metadata": {},
   "source": [
    "### Daum에서 환율 정보 크롤링\n",
    "- `https://finance.daum.net/exchanges`\n",
    "- fake_useragent package install\n",
    "    - `pip install fake_useragent`"
   ]
  },
  {
   "cell_type": "code",
   "execution_count": 3,
   "metadata": {},
   "outputs": [],
   "source": [
    "import requests\n",
    "from fake_useragent import UserAgent"
   ]
  },
  {
   "cell_type": "code",
   "execution_count": 4,
   "metadata": {},
   "outputs": [
    {
     "data": {
      "text/plain": [
       "'Mozilla/5.0 (Windows NT 6.1; WOW64) AppleWebKit/537.36 (KHTML, like Gecko) Chrome/29.0.1547.62 Safari/537.36'"
      ]
     },
     "execution_count": 4,
     "metadata": {},
     "output_type": "execute_result"
    }
   ],
   "source": [
    "UserAgent().chrome"
   ]
  },
  {
   "cell_type": "code",
   "execution_count": 5,
   "metadata": {},
   "outputs": [
    {
     "data": {
      "text/plain": [
       "<Response [200]>"
      ]
     },
     "execution_count": 5,
     "metadata": {},
     "output_type": "execute_result"
    }
   ],
   "source": [
    "url = \"https://finance.daum.net/api/exchanges/summaries\"\n",
    "headers = {\n",
    "    \"user-agent\": UserAgent().chrome,\n",
    "    \"referer\": \"https://finance.daum.net/exchanges\"\n",
    "}\n",
    "response = requests.get(url, headers=headers) # user-agent를 변경해서 보내주어야한다. # referer를 체크하기 때문에\n",
    "response"
   ]
  },
  {
   "cell_type": "code",
   "execution_count": 7,
   "metadata": {},
   "outputs": [
    {
     "data": {
      "text/html": [
       "<div>\n",
       "<style scoped>\n",
       "    .dataframe tbody tr th:only-of-type {\n",
       "        vertical-align: middle;\n",
       "    }\n",
       "\n",
       "    .dataframe tbody tr th {\n",
       "        vertical-align: top;\n",
       "    }\n",
       "\n",
       "    .dataframe thead th {\n",
       "        text-align: right;\n",
       "    }\n",
       "</style>\n",
       "<table border=\"1\" class=\"dataframe\">\n",
       "  <thead>\n",
       "    <tr style=\"text-align: right;\">\n",
       "      <th></th>\n",
       "      <th>basePrice</th>\n",
       "      <th>cashBuyingPrice</th>\n",
       "      <th>cashSellingPrice</th>\n",
       "      <th>change</th>\n",
       "      <th>changePrice</th>\n",
       "      <th>changeRate</th>\n",
       "      <th>chartImageUrl</th>\n",
       "      <th>country</th>\n",
       "      <th>currencyCode</th>\n",
       "      <th>currencyName</th>\n",
       "      <th>...</th>\n",
       "      <th>exchangeCommission</th>\n",
       "      <th>fcSellingPrice</th>\n",
       "      <th>name</th>\n",
       "      <th>recurrenceCount</th>\n",
       "      <th>region</th>\n",
       "      <th>symbolCode</th>\n",
       "      <th>tcBuyingPrice</th>\n",
       "      <th>ttBuyingPrice</th>\n",
       "      <th>ttSellingPrice</th>\n",
       "      <th>usDollarRate</th>\n",
       "    </tr>\n",
       "  </thead>\n",
       "  <tbody>\n",
       "    <tr>\n",
       "      <th>0</th>\n",
       "      <td>1156.5</td>\n",
       "      <td>1176.73</td>\n",
       "      <td>1136.27</td>\n",
       "      <td>RISE</td>\n",
       "      <td>0.5</td>\n",
       "      <td>0.000433</td>\n",
       "      <td>{'day': 'https://t1.daumcdn.net/finance/chart/...</td>\n",
       "      <td>미국</td>\n",
       "      <td>USD</td>\n",
       "      <td>달러</td>\n",
       "      <td>...</td>\n",
       "      <td>3.608</td>\n",
       "      <td>1144.05</td>\n",
       "      <td>미국 (KRW/USD)</td>\n",
       "      <td>374</td>\n",
       "      <td>{'korName': '아메리카', 'engName': 'America'}</td>\n",
       "      <td>FRX.KRWUSD</td>\n",
       "      <td>1170.37</td>\n",
       "      <td>1145.2</td>\n",
       "      <td>1167.8</td>\n",
       "      <td>1.0</td>\n",
       "    </tr>\n",
       "  </tbody>\n",
       "</table>\n",
       "<p>1 rows × 22 columns</p>\n",
       "</div>"
      ],
      "text/plain": [
       "   basePrice  cashBuyingPrice  cashSellingPrice change  changePrice  \\\n",
       "0     1156.5          1176.73           1136.27   RISE          0.5   \n",
       "\n",
       "   changeRate                                      chartImageUrl country  \\\n",
       "0    0.000433  {'day': 'https://t1.daumcdn.net/finance/chart/...      미국   \n",
       "\n",
       "  currencyCode currencyName  ...  exchangeCommission fcSellingPrice  \\\n",
       "0          USD           달러  ...               3.608        1144.05   \n",
       "\n",
       "           name  recurrenceCount                                     region  \\\n",
       "0  미국 (KRW/USD)              374  {'korName': '아메리카', 'engName': 'America'}   \n",
       "\n",
       "   symbolCode tcBuyingPrice ttBuyingPrice  ttSellingPrice  usDollarRate  \n",
       "0  FRX.KRWUSD       1170.37        1145.2          1167.8           1.0  \n",
       "\n",
       "[1 rows x 22 columns]"
      ]
     },
     "execution_count": 7,
     "metadata": {},
     "output_type": "execute_result"
    }
   ],
   "source": [
    "data = response.json()[\"data\"] # 파싱\n",
    "result_df = pd.DataFrame(data)\n",
    "result_df.head(1)"
   ]
  }
 ],
 "metadata": {
  "kernelspec": {
   "display_name": "Python 3",
   "language": "python",
   "name": "python3"
  },
  "language_info": {
   "codemirror_mode": {
    "name": "ipython",
    "version": 3
   },
   "file_extension": ".py",
   "mimetype": "text/x-python",
   "name": "python",
   "nbconvert_exporter": "python",
   "pygments_lexer": "ipython3",
   "version": "3.7.3"
  }
 },
 "nbformat": 4,
 "nbformat_minor": 2
}
