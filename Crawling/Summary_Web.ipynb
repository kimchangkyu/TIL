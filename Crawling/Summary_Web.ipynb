{
 "cells": [
  {
   "cell_type": "markdown",
   "metadata": {},
   "source": [
    "### 1. Server & Client Architecture\n",
    "- **Client**\n",
    "    - 브라우져를 통해 서버에 데이터를 요청\n",
    "    - 브라우져 : Chrome ..\n",
    "    \n",
    "    $\n",
    "    Client\\\n",
    "    \\xrightarrow {\\text{requests}} \n",
    "    Web Server\n",
    "    $\n",
    "\n",
    "    \n",
    "    \n",
    "- **Server(Web Server)**\n",
    "    - Client가 데이터를 요청하면 요청에 따라 데이터를 전송\n",
    "\n",
    "    $\n",
    "    Client\\\n",
    "    \\xleftarrow {\\text{response}} \n",
    "    Web Server\n",
    "    $"
   ]
  },
  {
   "cell_type": "markdown",
   "metadata": {},
   "source": [
    "### 2. URL\n",
    "- **Uniform Resource Locator**\n",
    "- ex) `http://news.naver.com:80/main/read.nhn? mode=LSD&mid=shm&sid1=105&oid=001&aid=0009847211#da_727145`\n",
    "    - Get 방식이다.\n",
    "    - https:// : 암호화, Protocol\n",
    "    - news : Sub Domain\n",
    "    - naver.com : Domain - 서버까지 찾아갈 수 있다.\n",
    "    - 80 : port\n",
    "    - /main/ : path\n",
    "    - read.nhn : page\n",
    "    - ?mode=LSD&mid=shm&sid1=105&oid=001&aid=0009847211 : query\n",
    "        - ? 앞은 파일, ? 뒤는 데이터\n",
    "        - key : value 형태\n",
    "    - #da_727145 : fragment\n",
    "        - 위치에 대한 데이터"
   ]
  },
  {
   "cell_type": "markdown",
   "metadata": {},
   "source": [
    "### 3. Get & Post\n",
    "- **Get**\n",
    "    - URL에 데이터가 포함된다 -> 데이터가 노출\n",
    "    - 길이 제한이 있음\n",
    "    \n",
    "    \n",
    "- **Post**\n",
    "    - Body에 데이터가 포함된다. -> 데이터가 숨겨짐"
   ]
  },
  {
   "cell_type": "markdown",
   "metadata": {},
   "source": [
    "### 4. Internet\n",
    "- 인터넷이란?\n",
    "    - 컴퓨터로 연결하여 TCP/IP (Transmission Control Protocol/Internet Protocol)라는 통신 프로토콜을 이용해 정보를 주고받는 컴퓨터 네트워크\n",
    "\n",
    "\n",
    "- 우리는 인터넷을 어떻게 사용하고 있을까?\n",
    "    - 해저케이블을 이용하여 전세계 서버에 접속하여 인터넷을 사용하고 있다.\n",
    "\n",
    "\n",
    "- 무선인터넷\n",
    "    - 선이 아니라 주파수를 매체로 사용한다.\n",
    "    - 우리가 사용하는 단말기만 무선이다."
   ]
  },
  {
   "cell_type": "markdown",
   "metadata": {},
   "source": [
    "### 5. OSI 7 Layer\n",
    "- **Open Systems Interconnection Reference Model**\n",
    "- 국제표준화기구(ISO)에서 개발한 모델 로, 컴퓨터 네트워크 프로토콜 디자인과 통신을 계층으로 나누어 설명한 것이다.\n",
    "- 하위 계층으로 갈수록 페이로드가 증가\n"
   ]
  },
  {
   "cell_type": "markdown",
   "metadata": {},
   "source": [
    "### 6. Cookie & Session & Cache\n",
    "1. **Cookie**\n",
    "    - Client에 저장하는 문자열 데이터로 도메인 별로 따로 저장\n",
    "    - 로그인 정보, 내가 봤던 상품 정보, 팝업 다시보지 않음\n",
    "    - 하나의 클라이언트에 300개, 도메인당 20개, 쿠키 하나당 4Kbyte\n",
    "    \n",
    "    \n",
    "2. **Session**\n",
    "    - Server에 저장하는 객체 데이터, 브라우져와 연결시 Session ID 생성\n",
    "    - Session ID를 Cookie에 저장함으로 로그인 연결 유지\n",
    "    - 같은 브라우져로 같은 서버에 접속하면 Session ID가 같음\n",
    "    - 로그인 연결 정보, 원하는 객체 데이터\n",
    "    \n",
    "    \n",
    "3. **Cache**\n",
    "    -  Client나 Server의 메모리에 저장하여 빠르게 데이터를 가져오는 목적의 저장소"
   ]
  },
  {
   "cell_type": "markdown",
   "metadata": {},
   "source": [
    "### 7. HTTP Status Code \n",
    "- 서버와 클라이언트가 데이터를 주고 받으면 주고 받은 결과로 상태 코드를 확인할수 있다.\n",
    "- 2xx - success\n",
    "- 3xx - redirection (browser cache)\n",
    "- 4xx - request error\n",
    "    - ex) 404 error : 요청한 url의 서버가 없다.\n",
    "- 5xx - server error\n",
    "- `http://bit.ly/2nlZM8L`"
   ]
  },
  {
   "cell_type": "markdown",
   "metadata": {},
   "source": [
    "### 8. Web Language & Framework\n",
    "- **Client**\n",
    "    - HTML\n",
    "    - CSS - less, sass\n",
    "    - Javascript - vue.js, react.js, angelar.js, backborn.js\n",
    "    \n",
    "    \n",
    "- **Server**\n",
    "    - Python - Django, Flask\n",
    "    - Java - Spring\n",
    "    - Ruby - Rails\n",
    "    - Javascript - Nodejs (Express)\n",
    "    - Scala - Play\n"
   ]
  },
  {
   "cell_type": "markdown",
   "metadata": {},
   "source": [
    "### 9. Scraping & Crawling & Spider & Bot \n",
    "- Scraping\n",
    "    - 데이터를 수집하는 작업\n",
    "\n",
    "    \n",
    "- Crawling\n",
    "    - 여러페이지의 특정 데이터들을 수집하고 분류하는 작업\n",
    "\n",
    "    \n",
    "- Spider or Web crawler\n",
    "    - 웹 데이터를 수집하는 소프트웨어\n",
    "\n",
    "    \n",
    "- Bot\n",
    "    - 인터넷 상에서 자동화된 작업을 실행하는 소프트웨어\n"
   ]
  }
 ],
 "metadata": {
  "kernelspec": {
   "display_name": "Python 3",
   "language": "python",
   "name": "python3"
  },
  "language_info": {
   "codemirror_mode": {
    "name": "ipython",
    "version": 3
   },
   "file_extension": ".py",
   "mimetype": "text/x-python",
   "name": "python",
   "nbconvert_exporter": "python",
   "pygments_lexer": "ipython3",
   "version": "3.6.9"
  }
 },
 "nbformat": 4,
 "nbformat_minor": 2
}
