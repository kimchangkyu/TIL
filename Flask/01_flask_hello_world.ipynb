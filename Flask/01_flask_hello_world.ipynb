{
 "cells": [
  {
   "cell_type": "markdown",
   "metadata": {},
   "source": [
    "### Flask\n",
    "- 파이썬 코드를 사용하는 웹 프레임워크이다.\n",
    "- `https://blog.miguelgrinberg.com/post/the-flask-mega-tutorial-part-i-hello-world`\n",
    "- install\n",
    "    - `pip install flask`"
   ]
  },
  {
   "cell_type": "markdown",
   "metadata": {},
   "source": [
    "### 1. 프로젝트 생성\n",
    "- hello"
   ]
  },
  {
   "cell_type": "code",
   "execution_count": 6,
   "metadata": {},
   "outputs": [],
   "source": [
    "!mkdir -p hello\n",
    "!mkdir -p hello/static\n",
    "!mkdir -p hello/templates\n",
    "!touch hello/hello.py\n",
    "!touch hello/templates/index.html\n",
    "!tree hello\n",
    "\n",
    "# 이 코드가 실행이 되지않으면 직접 디렉토리랑 파일을 직접 생성해준다."
   ]
  },
  {
   "cell_type": "markdown",
   "metadata": {},
   "source": [
    "- hello.py : app 객체를 생성, route 설정을 하는 기능을 한다.\n",
    "- static : js, css, image파일 등을 저장\n",
    "- templates : html 코드를 저장하는 디렉토리\n",
    "- 이렇게 크게 세가지로 구성되어있다."
   ]
  },
  {
   "cell_type": "code",
   "execution_count": 1,
   "metadata": {},
   "outputs": [
    {
     "name": "stdout",
     "output_type": "stream",
     "text": [
      "Overwriting hello/hello.py\n"
     ]
    }
   ],
   "source": [
    "%%writefile hello/hello.py\n",
    "from flask import *\n",
    "\n",
    "app = Flask(__name__) # 객체를 생성\n",
    "\n",
    "@app.route(\"/\") # 루트\n",
    "def hello():\n",
    "    return \"Hello Flask\"\n",
    "\n",
    "@app.route('/user/<name>')\n",
    "def user(name):\n",
    "    return render_template('index.html', name=name)\n",
    "\n",
    "# api 생성기 작성\n",
    "@app.route('/api/data')\n",
    "def api_data():\n",
    "    data = {\"alice\":25, \"andy\":35}\n",
    "    return jsonify(data) # 딕셔너리 객체를 문자열로 바꾸어주는 함수\n",
    "\n",
    "app.run(debug=True)"
   ]
  },
  {
   "cell_type": "markdown",
   "metadata": {},
   "source": [
    "#### index.html에 html 코드를 작성\n",
    "- jquery를 이용하여 버튼 설정"
   ]
  },
  {
   "cell_type": "code",
   "execution_count": 2,
   "metadata": {},
   "outputs": [
    {
     "name": "stdout",
     "output_type": "stream",
     "text": [
      "Overwriting hello/templates/index.html\n"
     ]
    }
   ],
   "source": [
    "%%writefile hello/templates/index.html\n",
    "<!DOCTYPE html>\n",
    "<html>\n",
    "<head>\n",
    "    <meta charset=\"utf-8\">\n",
    "    <title>Hello Flask</title>\n",
    "</head>\n",
    "<body>\n",
    "    Hello {{name}}\n",
    "    <button class=\"result\">Click!!</button>\n",
    "    <div class=\"data\"></div>\n",
    "    <script src=\"https://cdnjs.cloudflare.com/ajax/libs/jquery/3.4.1/jquery.js\"></script>\n",
    "    <script type=\"text/javascript\">\n",
    "        $(document).ready(function(){\n",
    "            $('.result').on('click', function(){\n",
    "                $.getJSON(\"/api/data\", function(data){\n",
    "                    console.log(data);\n",
    "                    var tag = \"<p>alice:\" + data.alice + \"</p>\";\n",
    "                        tag += \"<p>andy:\" + data.andy + \"</p>\";\n",
    "                    $(\".data\").append(tag);\n",
    "                })\n",
    "            })\n",
    "        })\n",
    "    </script>\n",
    "</body>\n",
    "</html>"
   ]
  },
  {
   "cell_type": "code",
   "execution_count": null,
   "metadata": {},
   "outputs": [],
   "source": [
    "!python hello/hello.py"
   ]
  },
  {
   "cell_type": "markdown",
   "metadata": {},
   "source": [
    "- 127.0.0.1:5000에 접속"
   ]
  }
 ],
 "metadata": {
  "kernelspec": {
   "display_name": "Python 3",
   "language": "python",
   "name": "python3"
  },
  "language_info": {
   "codemirror_mode": {
    "name": "ipython",
    "version": 3
   },
   "file_extension": ".py",
   "mimetype": "text/x-python",
   "name": "python",
   "nbconvert_exporter": "python",
   "pygments_lexer": "ipython3",
   "version": "3.7.3"
  }
 },
 "nbformat": 4,
 "nbformat_minor": 2
}
