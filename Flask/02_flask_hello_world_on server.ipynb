{
 "cells": [
  {
   "cell_type": "markdown",
   "metadata": {},
   "source": [
    "### Flask\n",
    "- 파이썬 코드를 사용하는 웹 프레임워크이다.\n",
    "- `https://blog.miguelgrinberg.com/post/the-flask-mega-tutorial-part-i-hello-world`\n",
    "- install\n",
    "    - `pip install flask`"
   ]
  },
  {
   "cell_type": "markdown",
   "metadata": {},
   "source": [
    "### 1. 프로젝트 생성\n",
    "- hello"
   ]
  },
  {
   "cell_type": "code",
   "execution_count": 1,
   "metadata": {},
   "outputs": [
    {
     "name": "stdout",
     "output_type": "stream",
     "text": [
      "\u001b[01;34mhello\u001b[00m\r\n",
      "├── hello.py\r\n",
      "├── \u001b[01;34mstatic\u001b[00m\r\n",
      "└── \u001b[01;34mtemplates\u001b[00m\r\n",
      "    └── index.html\r\n",
      "\r\n",
      "2 directories, 2 files\r\n"
     ]
    }
   ],
   "source": [
    "!mkdir -p hello\n",
    "!mkdir -p hello/static\n",
    "!mkdir -p hello/templates\n",
    "!touch hello/hello.py\n",
    "!touch hello/templates/index.html\n",
    "!tree hello\n",
    "\n",
    "# 이 코드가 실행이 되지않으면 직접 디렉토리랑 파일을 직접 생성해준다."
   ]
  },
  {
   "cell_type": "markdown",
   "metadata": {},
   "source": [
    "- hello.py : app 객체를 생성, route 설정을 하는 기능을 한다.\n",
    "- static : js, css, image파일 등을 저장\n",
    "- templates : html 코드를 저장하는 디렉토리\n",
    "- 이렇게 크게 세가지로 구성되어있다."
   ]
  },
  {
   "cell_type": "markdown",
   "metadata": {},
   "source": [
    "- clf.pkl를 사용\n",
    "- hello 폴더에 model 폴더를 생성후 clf.pkl를 업로드"
   ]
  },
  {
   "cell_type": "code",
   "execution_count": 2,
   "metadata": {},
   "outputs": [
    {
     "name": "stdout",
     "output_type": "stream",
     "text": [
      "Overwriting hello/hello.py\n"
     ]
    }
   ],
   "source": [
    "%%writefile hello/hello.py\n",
    "import pickle\n",
    "import os # 경로를 찾을 때 사용\n",
    "import numpy as np\n",
    "\n",
    "from flask import *\n",
    "\n",
    "app = Flask(__name__) # 객체를 생성\n",
    "\n",
    "path = os.path.dirname(os.path.realpath(__file__)) # 파일이 위치한 디렉토리의 경로를 찾아준다.\n",
    "with open(\"{}/model/clf.pkl\".format(path), \"rb\") as f: # with : 파일을 open하고 자동으로 close를 해주는 문법\n",
    "    model = pickle.load(f)\n",
    "\n",
    "@app.route(\"/\") # 루트\n",
    "def hello():\n",
    "    return \"Hello Flask\"\n",
    "\n",
    "@app.route('/user/<name>')\n",
    "def user(name):\n",
    "    return render_template('index.html', name=name)\n",
    "\n",
    "# api 생성기 작성\n",
    "@app.route('/api/data')\n",
    "def api_data():\n",
    "    data = {\"alice\":25, \"andy\":35}\n",
    "    return jsonify(data) # 딕셔너리 객체를 문자열로 바꾸어주는 함수\n",
    "\n",
    "# api 추가\n",
    "@app.route('/api/predic')\n",
    "def predic():\n",
    "    result = {\"code\": 200}\n",
    "    \n",
    "    # url을 get방식으로 데이터를 url에 넣어서 서버로 넣어준다.\n",
    "    sentence = request.values.get(\"sentence\")\n",
    "    result[\"sentence\"] = sentence\n",
    "    result[\"category\"] = [\"정치\", \"경제\", \"사회\", \"생활/문화\", \"세계\", \"IT/과학\"]\n",
    "    \n",
    "    # 예측되는 값을 넣어준다.\n",
    "    # 확률 데이터가 리스트로 나온다. 결과데이터를 클라이언트에 보내줄것이다.\n",
    "    # np.round_ : 파이썬에서 기본 제공되는 함수와의 중복을 피하기 위해서 사용\n",
    "    result[\"result\"] = list(np.round_(model.predict_proba([sentence])[0] * 100, 2))\n",
    "    \n",
    "    return jsonify(result) # 클라이언트로 보내준다.\n",
    "\n",
    "app.run(debug=True)"
   ]
  },
  {
   "cell_type": "markdown",
   "metadata": {},
   "source": [
    "#### index.html에 html 코드를 작성\n",
    "- jquery를 이용하여 버튼 설정"
   ]
  },
  {
   "cell_type": "code",
   "execution_count": 10,
   "metadata": {},
   "outputs": [
    {
     "name": "stdout",
     "output_type": "stream",
     "text": [
      "Overwriting hello/templates/index.html\n"
     ]
    }
   ],
   "source": [
    "%%writefile hello/templates/index.html\n",
    "<!DOCTYPE html>\n",
    "<html>\n",
    "<head>\n",
    "    <meta charset=\"utf-8\">\n",
    "    <title>Hello Flask</title>\n",
    "</head>\n",
    "<body>\n",
    "    Hello {{name}}\n",
    "    <button class=\"result\">Click!!</button>\n",
    "    <div class=\"data\"></div>\n",
    "    <input type=\"text\" class=\"sentence\">\n",
    "    <button type=\"button\" class=\"prediction-btn\">Predict!!!</button>\n",
    "    <div class=\"prediction-wrap\"></div>\n",
    "    <script src=\"https://cdnjs.cloudflare.com/ajax/libs/jquery/3.4.1/jquery.js\"></script>\n",
    "    <script type=\"text/javascript\">\n",
    "        $(document).ready(function(){\n",
    "            $('.result').on('click', function(){\n",
    "                $.getJSON(\"/api/data\", function(data){\n",
    "                    console.log(data);\n",
    "                    $('.data').empty()\n",
    "                    var tag = \"<p>alice:\" + data.alice + \"</p>\";\n",
    "                        tag += \"<p>andy:\" + data.andy + \"</p>\";\n",
    "                    $(\".data\").append(tag);\n",
    "                })\n",
    "            })\n",
    "            $('.prediction-btn').on('click', function(){\n",
    "                var sentence = $('.sentence').val();\n",
    "                var url = \"http://13.124.41.91/api/predic?sentence=\" + sentence;\n",
    "                $.getJSON(url, function(data){\n",
    "                    console.log(data);\n",
    "                    $('.prediction-wrap').empty()\n",
    "                    for(var i = 0; i < data.category.length; i++){\n",
    "                        var tag = \"\";\n",
    "                            tag += \"<p>\" + data.category[i] + \":\";\n",
    "                            tag += data.result[i] + \"%</p>\";\n",
    "                        $('.prediction-wrap').append(tag);\n",
    "                    }\n",
    "                })\n",
    "            })\n",
    "        })\n",
    "    </script>\n",
    "</body>\n",
    "</html>"
   ]
  },
  {
   "cell_type": "markdown",
   "metadata": {},
   "source": [
    "### nginx 설정\n",
    "- `sudo apt-get update`\n",
    "- `sudo apt-get install nginx` - install\n",
    "- `sudo systemctl status nginx` - 확인\n",
    "- `aws console`에서 80번 포트 활성화\n",
    "- 브라우저에 퍼블릭 IP 주소 입력해서 Welcome to nginx! 확인\n",
    "- 설절파일 수정\n",
    "    - `sudo vi /etc/nginx/sites-available/default`\n",
    "    \n",
    "```\n",
    "# 1. 80을 8080으로 수정\n",
    "server {\n",
    "        listen 8080 default_server;\n",
    "        listen [::]:8080 default_server;\n",
    "        \n",
    "# 2. 아래의 설정을 추가\n",
    "server {\n",
    "    listen 80;\n",
    "    location / {\n",
    "        proxy_pass http://localhost:5000;\n",
    "    }\n",
    "}\n",
    "```\n",
    "\n",
    "- nginx restart\n",
    "    - `sudo systemctl restart nginx`"
   ]
  }
 ],
 "metadata": {
  "kernelspec": {
   "display_name": "Python 3",
   "language": "python",
   "name": "python3"
  },
  "language_info": {
   "codemirror_mode": {
    "name": "ipython",
    "version": 3
   },
   "file_extension": ".py",
   "mimetype": "text/x-python",
   "name": "python",
   "nbconvert_exporter": "python",
   "pygments_lexer": "ipython3",
   "version": "3.6.9"
  }
 },
 "nbformat": 4,
 "nbformat_minor": 2
}
