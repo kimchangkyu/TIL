{
 "cells": [
  {
   "cell_type": "markdown",
   "metadata": {},
   "source": [
    "### 요약\n",
    "- numpy : 선형대수를 빠르게 연산해주는 패키지\n",
    "- 행열의 생성 1 : ndarray, np.array(iterable)\n",
    "- 행열의 생성 2 : ones, zeros\n",
    "- 행열 데이터 선택 : array[x, y, z]\n",
    "- 행열 데이터 수정\n",
    "    - 행열 데이터를 선택\n",
    "    - =, > (값 - scala, vector, matrix)\n",
    "    - 브로드 캐스팅 개념\n",
    "- arange : list에서 사용하는 range와 비슷한 함수 : 결과가 ndarray데이터 타입으로 나온다."
   ]
  },
  {
   "cell_type": "markdown",
   "metadata": {},
   "source": [
    "### quiz 1\n",
    "- 100 ~ 130까지 랜덤함 숫자를 가지는 8*8행렬을 만들고,\n",
    "- 3의 배수는 fiz, 5의 배수는 buz, 3과 5의 배수는 fbz 문자로 변환"
   ]
  },
  {
   "cell_type": "code",
   "execution_count": 71,
   "metadata": {},
   "outputs": [
    {
     "name": "stdout",
     "output_type": "stream",
     "text": [
      "[['fiz' 'fiz' 'fiz' 'fiz' 'fbz' 'fiz' 'buz' 'fiz']\n",
      " ['128' 'fiz' 'fiz' 'fiz' 'fbz' '124' '112' 'fiz']\n",
      " ['118' 'buz' 'buz' 'fiz' '119' '101' '103' 'fiz']\n",
      " ['fiz' '104' 'fiz' '109' 'fiz' '104' '107' 'fiz']\n",
      " ['109' '104' 'buz' '109' 'fiz' 'fiz' '112' '103']\n",
      " ['fiz' 'fiz' 'buz' 'buz' 'fiz' '107' 'fiz' 'buz']\n",
      " ['104' '103' '118' '109' 'fiz' '122' 'fiz' 'fiz']\n",
      " ['122' '106' '113' '116' '101' 'fiz' '122' 'fiz']]\n"
     ]
    }
   ],
   "source": [
    "datas = np.random.randint(100, 131, size=(8, 8))\n",
    "\n",
    "# 3의 배수, 5의 배수, 15의 배수 위치값에 대한 True, False matrix를 생성\n",
    "idx_3 = datas % 3 == 0\n",
    "idx_5 = datas % 5 == 0\n",
    "idx_15 = datas % 15 == 0\n",
    "\n",
    "# 데이터의 타입을 str으로 변환\n",
    "result = datas.astype(\"str\")\n",
    "result\n",
    "\n",
    "# True, False matrix를 이용하여 특정 조건의 데이터를 선택 후 브로드캐스팅하게 값을 대입\n",
    "result[idx_3] = \"fiz\"\n",
    "result[idx_5] = \"buz\"\n",
    "result[idx_15] = \"fbz\"\n",
    "\n",
    "print(result)"
   ]
  },
  {
   "cell_type": "markdown",
   "metadata": {},
   "source": [
    "### quiz 2.\n",
    "- 1 ~ 20까지 랜덤한 숫자를 가지는 5*5 행렬 생성\n",
    "- 최대값에는 MAX, 최소값에는 MIN 문자열이 들어가도록 치환하는 코드를 작성\n",
    "- 최대값과 최소값 함수\n",
    "\n",
    "```\n",
    "np.min(ndarray), np.max(ndarray)\n",
    "```"
   ]
  },
  {
   "cell_type": "code",
   "execution_count": 104,
   "metadata": {},
   "outputs": [
    {
     "name": "stdout",
     "output_type": "stream",
     "text": [
      "[['17' '16' '17' '2' '2']\n",
      " ['13' '10' 'MIN' '15' '13']\n",
      " ['3' '5' '10' 'MAX' '12']\n",
      " ['9' '2' '17' '16' '18']\n",
      " ['3' '10' '3' '12' '6']]\n"
     ]
    }
   ],
   "source": [
    "datas = np.random.randint(1, 21, size = (5, 5))\n",
    "\n",
    "# 최소값과 최대값 확인\n",
    "min_num, max_num = np.min(datas), np.max(datas)\n",
    "\n",
    "idx_min = datas == min_num\n",
    "idx_max = datas == max_num\n",
    "\n",
    "# 문자열 행렬로 변환\n",
    "result = datas.astype(\"str\")\n",
    "\n",
    "result[idx_min] = \"MIN\"\n",
    "result[idx_max] = \"MAX\"\n",
    "\n",
    "print(result)"
   ]
  },
  {
   "cell_type": "markdown",
   "metadata": {},
   "source": [
    "## 1. linspace, logspace 함수\n",
    "- linspace\n",
    "    - 선형적으로 자르는 것\n",
    "    - 설정한 범위에서 선형적을 분할한 위치의 값을 출력\n",
    "- logspace\n",
    "    - 로그적으로 자르는 것\n",
    "    - 설정한 범위에서 로그로 분할한 위치의 값을 출력"
   ]
  },
  {
   "cell_type": "code",
   "execution_count": 107,
   "metadata": {},
   "outputs": [
    {
     "data": {
      "text/plain": [
       "array([  0.,  25.,  50.,  75., 100.])"
      ]
     },
     "execution_count": 107,
     "metadata": {},
     "output_type": "execute_result"
    }
   ],
   "source": [
    "# linspace\n",
    "np.linspace(0, 100, 5) # 0 ~ 100까지 5등분"
   ]
  },
  {
   "cell_type": "code",
   "execution_count": 108,
   "metadata": {},
   "outputs": [
    {
     "data": {
      "text/plain": [
       "array([  100.,  1000., 10000.])"
      ]
     },
     "execution_count": 108,
     "metadata": {},
     "output_type": "execute_result"
    }
   ],
   "source": [
    "# logspace\n",
    "# log10(x1) = 2, log10(x2) = 3, log10(x3) = 4\n",
    "np.logspace(2, 4, 3) # 2 ~ 4까지 3등분을 의미"
   ]
  },
  {
   "cell_type": "code",
   "execution_count": 112,
   "metadata": {},
   "outputs": [
    {
     "name": "stdout",
     "output_type": "stream",
     "text": [
      "선형적으로 증가\n",
      "[ 100000.  400000.  700000. 1000000.]\n",
      "지수적으로 증가\n",
      "[ 100000.          215443.46900319  464158.88336128 1000000.        ]\n"
     ]
    }
   ],
   "source": [
    "# 30세에 연봉이 $100000이고, 60세의 연봉이 $1000000일때\n",
    "# 연봉이 선형으로 증가, 지수함수로 증가하는 두 경우에서의 40세와, 50세 연봉을 출력\n",
    "\n",
    "age_30 = 100000\n",
    "age_60 = 1000000\n",
    "\n",
    "# 선형적으로 증가\n",
    "print(\"선형적으로 증가\")\n",
    "print(np.linspace(age_30, age_60, 4))\n",
    "\n",
    "# 지수적으로 증가\n",
    "print(\"지수적으로 증가\")\n",
    "print(np.logspace(np.log10(age_30), np.log10(age_60), 4))"
   ]
  },
  {
   "cell_type": "markdown",
   "metadata": {},
   "source": [
    "## 2. numpy random\n",
    "- seed : 랜덤값을 설정값\n",
    "- rand : 균등분포로 랜덤한 값을 생성\n",
    "- randn : 정규분포로 랜덤한 값을 생성\n",
    "- randint : 균등분포로 정수값을 랜덤하게 생성\n",
    "- shuffle : 행렬 데이터를 섞어준다.\n",
    "- choice : 특정 확률로 데이터를 선택"
   ]
  },
  {
   "cell_type": "code",
   "execution_count": 131,
   "metadata": {},
   "outputs": [
    {
     "data": {
      "text/plain": [
       "(array([38, 13, 73, 10, 76,  6, 80, 65, 17,  2]),\n",
       " array([38, 13, 73, 10, 76,  6, 80, 65, 17,  2]),\n",
       " array([41, 16, 73, 23, 44, 83, 76,  8, 35, 50]))"
      ]
     },
     "execution_count": 131,
     "metadata": {},
     "output_type": "execute_result"
    }
   ],
   "source": [
    "# seed\n",
    "np.random.seed(1)\n",
    "result1 = np.random.randint(1, 100, 10)\n",
    "\n",
    "np.random.seed(1)\n",
    "result2 = np.random.randint(1, 100, 10)\n",
    "\n",
    "np.random.seed(2)\n",
    "result3 = np.random.randint(1, 100, 10)\n",
    "\n",
    "result1, result2, result3"
   ]
  },
  {
   "cell_type": "code",
   "execution_count": 132,
   "metadata": {},
   "outputs": [
    {
     "data": {
      "text/plain": [
       "array([0.20464863, 0.61927097, 0.29965467, 0.26682728, 0.62113383,\n",
       "       0.52914209, 0.13457995, 0.51357812, 0.18443987, 0.78533515])"
      ]
     },
     "execution_count": 132,
     "metadata": {},
     "output_type": "execute_result"
    }
   ],
   "source": [
    "# rand\n",
    "np.random.rand(10)"
   ]
  },
  {
   "cell_type": "code",
   "execution_count": 133,
   "metadata": {},
   "outputs": [
    {
     "data": {
      "text/plain": [
       "array([-0.0191305 ,  1.17500122, -0.74787095,  0.00902525, -0.87810789,\n",
       "       -0.15643417,  0.25657045, -0.98877905, -0.33882197, -0.23618403])"
      ]
     },
     "execution_count": 133,
     "metadata": {},
     "output_type": "execute_result"
    }
   ],
   "source": [
    "# randn\n",
    "np.random.randn(10)"
   ]
  },
  {
   "cell_type": "code",
   "execution_count": 143,
   "metadata": {},
   "outputs": [
    {
     "name": "stdout",
     "output_type": "stream",
     "text": [
      "[[7 2 6 1]\n",
      " [6 5 9 4]\n",
      " [8 6 5 6]]\n",
      "[[6 5 9 4]\n",
      " [7 2 6 1]\n",
      " [8 6 5 6]]\n"
     ]
    }
   ],
   "source": [
    "# shuffle\n",
    "r = np.random.randint(1, 10, (3, 4))\n",
    "print(r)\n",
    "np.random.shuffle(r)\n",
    "print(r)"
   ]
  },
  {
   "cell_type": "code",
   "execution_count": 145,
   "metadata": {},
   "outputs": [
    {
     "data": {
      "text/plain": [
       "array([3, 2, 4, 2, 3, 2, 3, 4, 2, 2], dtype=int64)"
      ]
     },
     "execution_count": 145,
     "metadata": {},
     "output_type": "execute_result"
    }
   ],
   "source": [
    "# choice\n",
    "np.random.choice(5, 10, p=[0.1, 0, 0.4, 0.2, 0.3]) # p : 확률데이터를 설정"
   ]
  },
  {
   "cell_type": "code",
   "execution_count": 152,
   "metadata": {},
   "outputs": [
    {
     "name": "stdout",
     "output_type": "stream",
     "text": [
      "[1 2 4 5 6 7 8 9]\n",
      "[1 1 1 2 4 1 1 1]\n"
     ]
    }
   ],
   "source": [
    "# unique : 유일한 값을 뽑아주는 함수\n",
    "numbers, counts = np.unique(r, return_counts=True)\n",
    "print(numbers)\n",
    "print(counts) # 값이 나온 횟수 출력"
   ]
  },
  {
   "cell_type": "markdown",
   "metadata": {},
   "source": [
    "## 3. 행렬 데이터의 결합\n",
    "- concatenate"
   ]
  },
  {
   "cell_type": "code",
   "execution_count": 153,
   "metadata": {},
   "outputs": [],
   "source": [
    "na1 = np.random.randint(10, size=(2, 3))\n",
    "na2 = np.random.randint(10, size=(3, 2))\n",
    "na3 = np.random.randint(10, size=(3, 3))"
   ]
  },
  {
   "cell_type": "code",
   "execution_count": 154,
   "metadata": {},
   "outputs": [
    {
     "data": {
      "text/plain": [
       "array([[4, 7, 5],\n",
       "       [1, 3, 7],\n",
       "       [1, 2, 9],\n",
       "       [6, 0, 5],\n",
       "       [3, 5, 2]])"
      ]
     },
     "execution_count": 154,
     "metadata": {},
     "output_type": "execute_result"
    }
   ],
   "source": [
    "# 세로 결합 : na1, na3 결합\n",
    "np.concatenate((na1, na3))"
   ]
  },
  {
   "cell_type": "code",
   "execution_count": 158,
   "metadata": {},
   "outputs": [
    {
     "data": {
      "text/plain": [
       "array([[4, 5, 1, 2, 9],\n",
       "       [1, 2, 6, 0, 5],\n",
       "       [3, 6, 3, 5, 2]])"
      ]
     },
     "execution_count": 158,
     "metadata": {},
     "output_type": "execute_result"
    }
   ],
   "source": [
    "# 가로 결합 : na2, na3 결합\n",
    "np.concatenate((na2, na3), axis = 1) # axis = 1로 설정을 해주어서 가로 결합을 설정해주어야한다."
   ]
  },
  {
   "cell_type": "code",
   "execution_count": 160,
   "metadata": {},
   "outputs": [
    {
     "data": {
      "text/plain": [
       "array([1, 2, 3, 4, 5, 6])"
      ]
     },
     "execution_count": 160,
     "metadata": {},
     "output_type": "execute_result"
    }
   ],
   "source": [
    "# c_, r_\n",
    "# c_ : column으로 결합\n",
    "np.c_[np.array([1, 2, 3]), np.array([4, 5, 6])]\n",
    "\n",
    "# r_ : raw로 결합\n",
    "np.r_[np.array([1, 2, 3]), np.array([4, 5, 6])]"
   ]
  },
  {
   "cell_type": "code",
   "execution_count": null,
   "metadata": {},
   "outputs": [],
   "source": [
    "# split, var, std, mean, ..."
   ]
  }
 ],
 "metadata": {
  "kernelspec": {
   "display_name": "Python 3",
   "language": "python",
   "name": "python3"
  },
  "language_info": {
   "codemirror_mode": {
    "name": "ipython",
    "version": 3
   },
   "file_extension": ".py",
   "mimetype": "text/x-python",
   "name": "python",
   "nbconvert_exporter": "python",
   "pygments_lexer": "ipython3",
   "version": "3.7.3"
  }
 },
 "nbformat": 4,
 "nbformat_minor": 2
}
